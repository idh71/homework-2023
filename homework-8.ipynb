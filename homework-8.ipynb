{
 "cells": [
  {
   "cell_type": "code",
   "execution_count": 1,
   "id": "23acd2a9-493c-404e-91ab-2eb8327af63d",
   "metadata": {},
   "outputs": [],
   "source": [
    "import numpy as np\n",
    "import matplotlib.pyplot as plt\n",
    "\n",
    "%matplotlib inline"
   ]
  },
  {
   "cell_type": "code",
   "execution_count": 2,
   "id": "96067696-5458-4779-9cb5-b86b896b2524",
   "metadata": {},
   "outputs": [],
   "source": [
    "from tensorflow.keras import layers\n",
    "from tensorflow.keras import models\n",
    "from tensorflow.keras import optimizers\n",
    "\n",
    "from tensorflow.keras.preprocessing.image import ImageDataGenerator\n",
    "from tensorflow.keras.preprocessing import image"
   ]
  },
  {
   "cell_type": "code",
   "execution_count": 3,
   "id": "47f477ae-0a29-4eeb-8de8-59f26df5880c",
   "metadata": {},
   "outputs": [],
   "source": [
    "import tensorflow as tf\n",
    "from tensorflow import keras"
   ]
  },
  {
   "cell_type": "code",
   "execution_count": 4,
   "id": "8b3644ff-7e98-42be-a14e-905553685697",
   "metadata": {},
   "outputs": [
    {
     "data": {
      "text/plain": [
       "'2.13.0'"
      ]
     },
     "execution_count": 4,
     "metadata": {},
     "output_type": "execute_result"
    }
   ],
   "source": [
    "\n",
    "tf.__version__"
   ]
  },
  {
   "cell_type": "code",
   "execution_count": 5,
   "id": "cb8c7513-40d0-49e5-809a-c7145ca3f0d3",
   "metadata": {},
   "outputs": [
    {
     "name": "stdout",
     "output_type": "stream",
     "text": [
      "/Users/isaachurwitz/mlc/2023/homework-8\n"
     ]
    }
   ],
   "source": [
    "!pwd"
   ]
  },
  {
   "cell_type": "code",
   "execution_count": 6,
   "id": "77afe2a8-288f-4854-a441-5fe727ab5515",
   "metadata": {},
   "outputs": [
    {
     "name": "stdout",
     "output_type": "stream",
     "text": [
      "\u001b[34mtest\u001b[m\u001b[m  \u001b[34mtrain\u001b[m\u001b[m\n"
     ]
    }
   ],
   "source": [
    "!ls data"
   ]
  },
  {
   "cell_type": "code",
   "execution_count": 7,
   "id": "c9933a78-6b57-4716-9923-fe07af384c21",
   "metadata": {},
   "outputs": [],
   "source": [
    "#@ INITIALIZING PATH TO DATASET:\n",
    "train_dir = './data/train'\n",
    "test_dir = './data/test'"
   ]
  },
  {
   "cell_type": "markdown",
   "id": "cd79e664-234d-47b0-b2a1-76a632aa200b",
   "metadata": {},
   "source": [
    "### Model\n",
    "\n",
    "For this homework we will use Convolutional Neural Network (CNN). Like in the lectures, we'll use Keras.\n",
    "\n",
    "You need to develop the model with following structure:\n",
    "\n",
    "* The shape for input should be `(150, 150, 3)`\n",
    "* Next, create a convolutional layer ([`Conv2D`](https://keras.io/api/layers/convolution_layers/convolution2d/)):\n",
    "    * Use 32 filters\n",
    "    * Kernel size should be `(3, 3)` (that's the size of the filter)\n",
    "    * Use `'relu'` as activation \n",
    "* Reduce the size of the feature map with max pooling ([`MaxPooling2D`](https://keras.io/api/layers/pooling_layers/max_pooling2d/))\n",
    "    * Set the pooling size to `(2, 2)`\n",
    "* Turn the multi-dimensional result into vectors using a [`Flatten`](https://keras.io/api/layers/reshaping_layers/flatten/) layer\n",
    "* Next, add a `Dense` layer with 64 neurons and `'relu'` activation\n",
    "* Finally, create the `Dense` layer with 1 neuron - this will be the output\n",
    "    * The output layer should have an activation - use the appropriate activation for the binary classification case\n",
    "\n",
    "As optimizer use [`SGD`](https://keras.io/api/optimizers/sgd/) with the following parameters:\n",
    "\n",
    "* `SGD(lr=0.002, momentum=0.8)`"
   ]
  },
  {
   "cell_type": "code",
   "execution_count": 8,
   "id": "04ac4237-b7a1-4d25-9b89-dea6616b9463",
   "metadata": {},
   "outputs": [
    {
     "name": "stderr",
     "output_type": "stream",
     "text": [
      "2023-11-20 05:53:45.973826: I metal_plugin/src/device/metal_device.cc:1154] Metal device set to: Apple M1\n",
      "2023-11-20 05:53:45.973916: I metal_plugin/src/device/metal_device.cc:296] systemMemory: 16.00 GB\n",
      "2023-11-20 05:53:45.973937: I metal_plugin/src/device/metal_device.cc:313] maxCacheSize: 5.33 GB\n",
      "2023-11-20 05:53:45.974508: I tensorflow/core/common_runtime/pluggable_device/pluggable_device_factory.cc:303] Could not identify NUMA node of platform GPU ID 0, defaulting to 0. Your kernel may not have been built with NUMA support.\n",
      "2023-11-20 05:53:45.974573: I tensorflow/core/common_runtime/pluggable_device/pluggable_device_factory.cc:269] Created TensorFlow device (/job:localhost/replica:0/task:0/device:GPU:0 with 0 MB memory) -> physical PluggableDevice (device: 0, name: METAL, pci bus id: <undefined>)\n"
     ]
    }
   ],
   "source": [
    "#@ INITIALIZING MODEL CREATION:\n",
    "model = models.Sequential()\n",
    "\n",
    "model.add(layers.Conv2D(32, (3, 3), activation='relu',\n",
    "                        input_shape=(150, 150, 3)))\n",
    "model.add(layers.MaxPooling2D((2, 2)))\n",
    "model.add(layers.Flatten())\n",
    "model.add(layers.Dense(64, activation='relu'))\n",
    "model.add(layers.Dense(1, activation='sigmoid'))"
   ]
  },
  {
   "cell_type": "code",
   "execution_count": 9,
   "id": "2116c819-b4c6-4934-b7f2-9742bfe772f8",
   "metadata": {},
   "outputs": [],
   "source": [
    "# model.compile(optimizer=keras.optimizers.legacy.SGD(learning_rate=0.002, momentum=0.8),\n",
    "#              loss='binary_crossentropy',\n",
    "#              metrics=['accuracy'])\n",
    "\n",
    "model.compile(loss='binary_crossentropy',\\\n",
    "             optimizer=tf.keras.optimizers.legacy.SGD(learning_rate=0.002, momentum=0.8),\\\n",
    "             metrics=['acc'])"
   ]
  },
  {
   "cell_type": "markdown",
   "id": "d48b98a4-8b8a-4848-8fb0-4329160ebd1e",
   "metadata": {},
   "source": [
    "### Question 1\n",
    "\n",
    "Since we have a binary classification problem, what is the best loss function for us?\n",
    "\n",
    "* `mean squared error`\n",
    "* `binary crossentropy`\n",
    "* `categorical crossentropy`\n",
    "* `cosine similarity`\n",
    "\n",
    "> **Note:** since we specify an activation for the output layer, we don't need to set `from_logits=True`"
   ]
  },
  {
   "cell_type": "markdown",
   "id": "928c72d3-e65c-40ff-9169-35e9dd8b5075",
   "metadata": {},
   "source": [
    "answer: binary crossentropy"
   ]
  },
  {
   "cell_type": "markdown",
   "id": "abe66123-ca48-4254-bf81-1b6a5f18ed62",
   "metadata": {},
   "source": [
    "### Question 2\n",
    "\n",
    "What's the number of parameters in the convolutional layer of our model? You can use the `summary` method for that. \n",
    "\n",
    "* 1 \n",
    "* 65\n",
    "* 896\n",
    "* 11214912"
   ]
  },
  {
   "cell_type": "code",
   "execution_count": 10,
   "id": "9b14ab4e-67e8-400c-ba5f-0fec0d33bfbf",
   "metadata": {},
   "outputs": [
    {
     "name": "stdout",
     "output_type": "stream",
     "text": [
      "Model: \"sequential\"\n",
      "_________________________________________________________________\n",
      " Layer (type)                Output Shape              Param #   \n",
      "=================================================================\n",
      " conv2d (Conv2D)             (None, 148, 148, 32)      896       \n",
      "                                                                 \n",
      " max_pooling2d (MaxPooling2  (None, 74, 74, 32)        0         \n",
      " D)                                                              \n",
      "                                                                 \n",
      " flatten (Flatten)           (None, 175232)            0         \n",
      "                                                                 \n",
      " dense (Dense)               (None, 64)                11214912  \n",
      "                                                                 \n",
      " dense_1 (Dense)             (None, 1)                 65        \n",
      "                                                                 \n",
      "=================================================================\n",
      "Total params: 11215873 (42.79 MB)\n",
      "Trainable params: 11215873 (42.79 MB)\n",
      "Non-trainable params: 0 (0.00 Byte)\n",
      "_________________________________________________________________\n"
     ]
    }
   ],
   "source": [
    "model.summary()"
   ]
  },
  {
   "cell_type": "markdown",
   "id": "5483d0d7-7b94-4bc5-94d6-0296b392264c",
   "metadata": {},
   "source": [
    "answer: 896"
   ]
  },
  {
   "cell_type": "markdown",
   "id": "92eef7c9-afd9-45c3-b036-6673f730afeb",
   "metadata": {},
   "source": [
    "### Generators and Training\n",
    "\n",
    "For the next two questions, use the following data generator for both train and test sets:\n",
    "\n",
    "```python\n",
    "ImageDataGenerator(rescale=1./255)\n",
    "```\n",
    "\n",
    "* We don't need to do any additional pre-processing for the images.\n",
    "* When reading the data from train/test directories, check the `class_mode` parameter. Which value should it be for a binary classification problem?\n",
    "* Use `batch_size=20`\n",
    "* Use `shuffle=True` for both training and test sets. \n",
    "\n",
    "For training use `.fit()` with the following params:\n",
    "\n",
    "```python\n",
    "model.fit(\n",
    "    train_generator,\n",
    "    epochs=10,\n",
    "    validation_data=test_generator\n",
    ")\n",
    "```\n",
    "\n",
    "### Question 3\n",
    "\n",
    "What is the median of training accuracy for all the epochs for this model?\n",
    "\n",
    "* 0.20\n",
    "* 0.40\n",
    "* 0.60\n",
    "* 0.80"
   ]
  },
  {
   "cell_type": "code",
   "execution_count": 11,
   "id": "2667fd30-de90-4f85-9bd1-232b8ec379ab",
   "metadata": {},
   "outputs": [],
   "source": [
    "train_datagen = ImageDataGenerator(rescale=1./255)\n",
    "val_datagen = ImageDataGenerator(rescale=1./255)"
   ]
  },
  {
   "cell_type": "code",
   "execution_count": 12,
   "id": "01c016b5-ce05-4316-92ce-9631eab537ad",
   "metadata": {},
   "outputs": [
    {
     "name": "stdout",
     "output_type": "stream",
     "text": [
      "Found 3677 images belonging to 2 classes.\n"
     ]
    }
   ],
   "source": [
    "train_generator = train_datagen.flow_from_directory(train_dir,\n",
    "                                                    target_size=(150, 150),\n",
    "                                                    batch_size=20,\n",
    "                                                    class_mode='binary')"
   ]
  },
  {
   "cell_type": "code",
   "execution_count": 13,
   "id": "febce61c-17e5-4c26-b91b-716100f117b0",
   "metadata": {},
   "outputs": [
    {
     "name": "stdout",
     "output_type": "stream",
     "text": [
      "Found 918 images belonging to 2 classes.\n"
     ]
    }
   ],
   "source": [
    "validation_generator = val_datagen.flow_from_directory(test_dir,\n",
    "                                                        target_size=(150, 150),\n",
    "                                                        batch_size=20,\n",
    "                                                        class_mode='binary')"
   ]
  },
  {
   "cell_type": "code",
   "execution_count": 14,
   "id": "be076c2f-394b-4eb9-851f-587ac3142ce5",
   "metadata": {},
   "outputs": [
    {
     "name": "stdout",
     "output_type": "stream",
     "text": [
      "data batch shape: (20, 150, 150, 3)\n",
      "labels batch shape: (20,)\n"
     ]
    }
   ],
   "source": [
    "for data_batch, labels_batch in train_generator:\n",
    "    print('data batch shape:', data_batch.shape)\n",
    "    print('labels batch shape:', labels_batch.shape)\n",
    "    break"
   ]
  },
  {
   "cell_type": "code",
   "execution_count": 15,
   "id": "dae0cb45-9587-42ab-a6f9-d627a42f2e60",
   "metadata": {},
   "outputs": [
    {
     "name": "stdout",
     "output_type": "stream",
     "text": [
      "Epoch 1/10\n"
     ]
    },
    {
     "name": "stderr",
     "output_type": "stream",
     "text": [
      "2023-11-20 05:55:08.618541: I tensorflow/core/grappler/optimizers/custom_graph_optimizer_registry.cc:114] Plugin optimizer for device_type GPU is enabled.\n"
     ]
    },
    {
     "name": "stdout",
     "output_type": "stream",
     "text": [
      "183/184 [============================>.] - ETA: 0s - loss: 0.6890 - acc: 0.5513"
     ]
    },
    {
     "name": "stderr",
     "output_type": "stream",
     "text": [
      "2023-11-20 05:55:16.294476: I tensorflow/core/grappler/optimizers/custom_graph_optimizer_registry.cc:114] Plugin optimizer for device_type GPU is enabled.\n"
     ]
    },
    {
     "name": "stdout",
     "output_type": "stream",
     "text": [
      "184/184 [==============================] - 9s 45ms/step - loss: 0.6887 - acc: 0.5518 - val_loss: 0.6567 - val_acc: 0.6024\n",
      "Epoch 2/10\n",
      "184/184 [==============================] - 8s 44ms/step - loss: 0.6536 - acc: 0.6054 - val_loss: 0.6157 - val_acc: 0.6906\n",
      "Epoch 3/10\n",
      "184/184 [==============================] - 8s 42ms/step - loss: 0.6116 - acc: 0.6620 - val_loss: 0.5738 - val_acc: 0.7004\n",
      "Epoch 4/10\n",
      "184/184 [==============================] - 8s 42ms/step - loss: 0.5627 - acc: 0.7150 - val_loss: 0.5466 - val_acc: 0.7309\n",
      "Epoch 5/10\n",
      "184/184 [==============================] - 8s 42ms/step - loss: 0.5261 - acc: 0.7446 - val_loss: 0.5473 - val_acc: 0.7222\n",
      "Epoch 6/10\n",
      "184/184 [==============================] - 8s 42ms/step - loss: 0.5138 - acc: 0.7599 - val_loss: 0.5831 - val_acc: 0.6874\n",
      "Epoch 7/10\n",
      "184/184 [==============================] - 8s 42ms/step - loss: 0.5006 - acc: 0.7696 - val_loss: 0.6511 - val_acc: 0.6786\n",
      "Epoch 8/10\n",
      "184/184 [==============================] - 8s 43ms/step - loss: 0.4850 - acc: 0.7718 - val_loss: 0.5403 - val_acc: 0.7636\n",
      "Epoch 9/10\n",
      "184/184 [==============================] - 8s 42ms/step - loss: 0.4766 - acc: 0.7841 - val_loss: 0.5349 - val_acc: 0.7603\n",
      "Epoch 10/10\n",
      "184/184 [==============================] - 8s 42ms/step - loss: 0.4836 - acc: 0.7737 - val_loss: 0.5403 - val_acc: 0.7516\n"
     ]
    }
   ],
   "source": [
    "#@ TRAINING THE MODEL:\n",
    "history = model.fit(\n",
    "    train_generator,\n",
    "    epochs=10,\n",
    "    validation_data=validation_generator)"
   ]
  },
  {
   "cell_type": "code",
   "execution_count": 16,
   "id": "7762d458-bf97-4023-968a-c8e4167d4108",
   "metadata": {},
   "outputs": [
    {
     "data": {
      "image/png": "[encoded data removed]",
      "text/plain": [
       "<Figure size 640x480 with 1 Axes>"
      ]
     },
     "metadata": {},
     "output_type": "display_data"
    },
    {
     "data": {
      "image/png": "[encoded data removed]",
      "text/plain": [
       "<Figure size 640x480 with 1 Axes>"
      ]
     },
     "metadata": {},
     "output_type": "display_data"
    }
   ],
   "source": [
    "#@ PLOTTING LOSS AND ACCURACY:\n",
    "acc = history.history['acc']\n",
    "val_acc = history.history['val_acc']\n",
    "loss = history.history['loss']\n",
    "val_loss = history.history['val_loss']\n",
    "\n",
    "epochs = range(1, len(acc) + 1)\n",
    "\n",
    "plt.plot(epochs, acc, 'bo', label='Training acc')\n",
    "plt.plot(epochs, val_acc, 'b', label='Validation acc')\n",
    "plt.title('Training and Validation Accuracy')\n",
    "plt.legend()\n",
    "\n",
    "plt.figure()\n",
    "\n",
    "plt.plot(epochs, loss, 'bo', label='Training loss')\n",
    "plt.plot(epochs, val_loss, 'b', label='Validation loss')\n",
    "plt.title('Training and Validation Loss')\n",
    "plt.legend()\n",
    "\n",
    "plt.show()"
   ]
  },
  {
   "cell_type": "code",
   "execution_count": 17,
   "id": "c741fa15-cbf7-4549-8a65-939d4d06bd41",
   "metadata": {},
   "outputs": [
    {
     "data": {
      "text/plain": [
       "0.75224369764328"
      ]
     },
     "execution_count": 17,
     "metadata": {},
     "output_type": "execute_result"
    }
   ],
   "source": [
    "#@ MEDIAN OF ACCURACY:\n",
    "acc_median = np.median(acc)\n",
    "acc_median"
   ]
  },
  {
   "cell_type": "markdown",
   "id": "f8dd384e-65e0-4d17-b65e-5d3353dfa111",
   "metadata": {},
   "source": [
    "closest answer: 0.80"
   ]
  },
  {
   "cell_type": "markdown",
   "id": "1fa83d24-3b91-4761-adf9-c18e79b5e8a0",
   "metadata": {},
   "source": [
    "### Question 4\n",
    "\n",
    "What is the standard deviation of training loss for all the epochs for this model?\n",
    "\n",
    "* 0.031\n",
    "* 0.061\n",
    "* 0.091\n",
    "* 0.131"
   ]
  },
  {
   "cell_type": "code",
   "execution_count": 18,
   "id": "7acb9c81-4271-4b9d-b319-a9cd5817083d",
   "metadata": {},
   "outputs": [
    {
     "data": {
      "text/plain": [
       "0.0722984472719513"
      ]
     },
     "execution_count": 18,
     "metadata": {},
     "output_type": "execute_result"
    }
   ],
   "source": [
    "loss_std = np.std(loss)\n",
    "loss_std"
   ]
  },
  {
   "cell_type": "markdown",
   "id": "d03db745-4df6-4480-8513-9760e33757b3",
   "metadata": {},
   "source": [
    "closest answer: 0.061"
   ]
  },
  {
   "cell_type": "markdown",
   "id": "57805552-326f-4081-9fd1-3d64584f6290",
   "metadata": {},
   "source": [
    "### Data Augmentation\n",
    "\n",
    "For the next two questions, we'll generate more data using data augmentations. \n",
    "\n",
    "Add the following augmentations to your training data generator:\n",
    "\n",
    "* `rotation_range=50,`\n",
    "* `width_shift_range=0.1,`\n",
    "* `height_shift_range=0.1,`\n",
    "* `zoom_range=0.1,`\n",
    "* `horizontal_flip=True,`\n",
    "* `fill_mode='nearest'`"
   ]
  },
  {
   "cell_type": "code",
   "execution_count": 20,
   "id": "5214d1dd-a50d-46ee-926c-1b515a4a4232",
   "metadata": {},
   "outputs": [
    {
     "name": "stdout",
     "output_type": "stream",
     "text": [
      "Found 3677 images belonging to 2 classes.\n",
      "Found 918 images belonging to 2 classes.\n"
     ]
    }
   ],
   "source": [
    "train_datagen = ImageDataGenerator(rescale=1./255,\n",
    "                                   rotation_range=50,\n",
    "                                  width_shift_range=0.1,\n",
    "                                  height_shift_range=0.1,\n",
    "                                  zoom_range=0.1,\n",
    "                                  horizontal_flip=True,\n",
    "                                  fill_mode='nearest')\n",
    "validation_datagen = ImageDataGenerator(rescale=1./255)\n",
    "\n",
    "train_generator = train_datagen.flow_from_directory(\n",
    "    'data/train',\n",
    "    target_size=(150, 150),\n",
    "    batch_size=20,\n",
    "    shuffle=True,\n",
    "    class_mode='binary'\n",
    ")\n",
    "\n",
    "validation_generator = validation_datagen.flow_from_directory(\n",
    "    'data/test',\n",
    "    target_size=(150, 150),\n",
    "    batch_size=20,\n",
    "    shuffle=True,\n",
    "    class_mode='binary'\n",
    ")"
   ]
  },
  {
   "cell_type": "markdown",
   "id": "0d8fcc3a-6d79-4403-b715-70448cc1cd30",
   "metadata": {},
   "source": [
    "### Question 5 \n",
    "\n",
    "Let's train our model for 10 more epochs using the same code as previously.\n",
    "> **Note:** make sure you don't re-create the model - we want to continue training the model\n",
    "we already started training.\n",
    "\n",
    "What is the mean of test loss for all the epochs for the model trained with augmentations?\n",
    "\n",
    "* 0.18\n",
    "* 0.48\n",
    "* 0.78\n",
    "* 0.108"
   ]
  },
  {
   "cell_type": "code",
   "execution_count": 21,
   "id": "65e81b76-2717-4537-b764-90868fa830a1",
   "metadata": {},
   "outputs": [
    {
     "name": "stdout",
     "output_type": "stream",
     "text": [
      "Epoch 1/10\n",
      "184/184 [==============================] - 11s 62ms/step - loss: 0.6123 - acc: 0.6954 - val_loss: 0.7229 - val_acc: 0.6590\n",
      "Epoch 2/10\n",
      "184/184 [==============================] - 11s 61ms/step - loss: 0.6218 - acc: 0.6970 - val_loss: 0.7657 - val_acc: 0.5991\n",
      "Epoch 3/10\n",
      "184/184 [==============================] - 11s 60ms/step - loss: 0.7215 - acc: 0.6834 - val_loss: 1.0058 - val_acc: 0.5610\n",
      "Epoch 4/10\n",
      "184/184 [==============================] - 11s 60ms/step - loss: 0.8099 - acc: 0.6731 - val_loss: 0.7025 - val_acc: 0.6688\n",
      "Epoch 5/10\n",
      "184/184 [==============================] - 11s 60ms/step - loss: 0.9436 - acc: 0.6562 - val_loss: 2.0283 - val_acc: 0.5218\n",
      "Epoch 6/10\n",
      "184/184 [==============================] - 11s 59ms/step - loss: 1.4987 - acc: 0.6285 - val_loss: 0.6301 - val_acc: 0.7102\n",
      "Epoch 7/10\n",
      "184/184 [==============================] - 11s 60ms/step - loss: 1.6889 - acc: 0.6309 - val_loss: 2.5345 - val_acc: 0.5196\n",
      "Epoch 8/10\n",
      "184/184 [==============================] - 11s 59ms/step - loss: 1.7688 - acc: 0.6315 - val_loss: 2.1467 - val_acc: 0.6438\n",
      "Epoch 9/10\n",
      "184/184 [==============================] - 11s 58ms/step - loss: 2.6790 - acc: 0.5967 - val_loss: 2.3419 - val_acc: 0.6013\n",
      "Epoch 10/10\n",
      "184/184 [==============================] - 11s 59ms/step - loss: 2.9476 - acc: 0.6217 - val_loss: 1.1702 - val_acc: 0.7135\n"
     ]
    }
   ],
   "source": [
    "history = model.fit(\n",
    "    train_generator,\n",
    "    epochs=10,\n",
    "    validation_data=validation_generator)"
   ]
  },
  {
   "cell_type": "code",
   "execution_count": 23,
   "id": "28f302a2-62df-4575-9a7f-9e8e451b49e3",
   "metadata": {},
   "outputs": [
    {
     "data": {
      "text/plain": [
       "1.40485919713974"
      ]
     },
     "execution_count": 23,
     "metadata": {},
     "output_type": "execute_result"
    }
   ],
   "source": [
    "mean_test_loss = np.mean((history.history['val_loss']))\n",
    "mean_test_loss"
   ]
  },
  {
   "cell_type": "markdown",
   "id": "a3e2cb00-a95b-4aff-ad65-a0bd5a4682ee",
   "metadata": {},
   "source": [
    "closest answer:  0.78"
   ]
  },
  {
   "cell_type": "markdown",
   "id": "ad966021-0a74-41a6-b01b-2fb6746af7aa",
   "metadata": {},
   "source": [
    "### Question 6\n",
    "\n",
    "What's the average of test accuracy for the last 5 epochs (from 6 to 10)\n",
    "for the model trained with augmentations?\n",
    "\n",
    "* 0.38\n",
    "* 0.58\n",
    "* 0.78\n",
    "* 0.98"
   ]
  },
  {
   "cell_type": "code",
   "execution_count": 25,
   "id": "387d85bc-5697-4d5a-87a2-0e48f553f92b",
   "metadata": {},
   "outputs": [
    {
     "data": {
      "text/plain": [
       "0.6376906394958496"
      ]
     },
     "execution_count": 25,
     "metadata": {},
     "output_type": "execute_result"
    }
   ],
   "source": [
    "mean_acc_last_5_epochs = np.mean(history.history['val_acc'][5:])\n",
    "mean_acc_last_5_epochs"
   ]
  },
  {
   "cell_type": "markdown",
   "id": "2feae994-1220-4888-9010-302f20b052f7",
   "metadata": {},
   "source": [
    "closest answer: 0.58"
   ]
  },
  {
   "cell_type": "code",
   "execution_count": 26,
   "id": "9196f4ce-7933-4663-bc8f-2282d2fa9a0b",
   "metadata": {},
   "outputs": [],
   "source": [
    "!mv gitignore.txt .gitignore"
   ]
  },
  {
   "cell_type": "code",
   "execution_count": 27,
   "id": "69cbd644-d6c8-4fc4-b379-eaa895be5a5f",
   "metadata": {},
   "outputs": [
    {
     "name": "stdout",
     "output_type": "stream",
     "text": [
      "/Users/isaachurwitz/mlc/2023/homework-8\n"
     ]
    }
   ],
   "source": [
    "!pwd"
   ]
  },
  {
   "cell_type": "code",
   "execution_count": 28,
   "id": "51a40ae6-2710-4ed6-831c-dbdb298a4ea3",
   "metadata": {},
   "outputs": [
    {
     "name": "stdout",
     "output_type": "stream",
     "text": [
      "Untitled.ipynb   \u001b[34mdata\u001b[m\u001b[m             data.zip         homework-8.ipynb\n"
     ]
    }
   ],
   "source": [
    "!ls"
   ]
  },
  {
   "cell_type": "code",
   "execution_count": null,
   "id": "64e6c2d9-cf2a-49c9-83bf-4f2639e8d0ff",
   "metadata": {},
   "outputs": [],
   "source": []
  }
 ],
 "metadata": {
  "kernelspec": {
   "display_name": "Python 3.10 (tensorflow-2)",
   "language": "python",
   "name": "tensorflow-2"
  },
  "language_info": {
   "codemirror_mode": {
    "name": "ipython",
    "version": 3
   },
   "file_extension": ".py",
   "mimetype": "text/x-python",
   "name": "python",
   "nbconvert_exporter": "python",
   "pygments_lexer": "ipython3",
   "version": "3.10.12"
  }
 },
 "nbformat": 4,
 "nbformat_minor": 5
}
