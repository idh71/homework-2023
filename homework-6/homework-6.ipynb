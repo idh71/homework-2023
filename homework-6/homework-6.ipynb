{
 "cells": [
  {
   "cell_type": "code",
   "execution_count": 3,
   "id": "109424ce-53e7-4268-8fbd-b59ea89355f6",
   "metadata": {},
   "outputs": [],
   "source": [
    "import numpy as np\n",
    "import pandas as pd"
   ]
  },
  {
   "cell_type": "markdown",
   "id": "4fbd210b-4188-40cd-8944-5307694480f6",
   "metadata": {},
   "source": [
    "### Dataset\n",
    "\n",
    "In this homework, we will use the California Housing Prices from [Kaggle](https://www.kaggle.com/datasets/camnugent/california-housing-prices).\n",
    "\n",
    "Here's a wget-able [link](https://raw.githubusercontent.com/alexeygrigorev/datasets/master/housing.csv):\n",
    "\n",
    "```bash\n",
    "wget https://raw.githubusercontent.com/alexeygrigorev/datasets/master/housing.csv\n",
    "```\n",
    "\n",
    "The goal of this homework is to create a regression model for predicting housing prices (column `'median_house_value'`).\n",
    "\n",
    "\n",
    "### Preparing the dataset \n",
    "\n",
    "For this homework, we only want to use a subset of data. This is the same subset we used in homework #2.\n",
    "\n",
    "First, keep only the records where `ocean_proximity` is either `'<1H OCEAN'` or `'INLAND'`\n",
    "\n",
    "Preparation:\n",
    "\n",
    "* Fill missing values with zeros.\n",
    "* Apply the log tranform to `median_house_value`.\n",
    "* Do train/validation/test split with 60%/20%/20% distribution. \n",
    "* Use the `train_test_split` function and set the `random_state` parameter to 1.\n",
    "* Use `DictVectorizer(sparse=True)` to turn the dataframe into matrices."
   ]
  },
  {
   "cell_type": "code",
   "execution_count": 4,
   "id": "667ef687-07b6-4184-907c-8aed6e3a1227",
   "metadata": {},
   "outputs": [
    {
     "data": {
      "text/html": [
       "<div>\n",
       "<style scoped>\n",
       "    .dataframe tbody tr th:only-of-type {\n",
       "        vertical-align: middle;\n",
       "    }\n",
       "\n",
       "    .dataframe tbody tr th {\n",
       "        vertical-align: top;\n",
       "    }\n",
       "\n",
       "    .dataframe thead th {\n",
       "        text-align: right;\n",
       "    }\n",
       "</style>\n",
       "<table border=\"1\" class=\"dataframe\">\n",
       "  <thead>\n",
       "    <tr style=\"text-align: right;\">\n",
       "      <th></th>\n",
       "      <th>longitude</th>\n",
       "      <th>latitude</th>\n",
       "      <th>housing_median_age</th>\n",
       "      <th>total_rooms</th>\n",
       "      <th>total_bedrooms</th>\n",
       "      <th>population</th>\n",
       "      <th>households</th>\n",
       "      <th>median_income</th>\n",
       "      <th>median_house_value</th>\n",
       "      <th>ocean_proximity</th>\n",
       "    </tr>\n",
       "  </thead>\n",
       "  <tbody>\n",
       "    <tr>\n",
       "      <th>0</th>\n",
       "      <td>-122.23</td>\n",
       "      <td>37.88</td>\n",
       "      <td>41.0</td>\n",
       "      <td>880.0</td>\n",
       "      <td>129.0</td>\n",
       "      <td>322.0</td>\n",
       "      <td>126.0</td>\n",
       "      <td>8.3252</td>\n",
       "      <td>452600.0</td>\n",
       "      <td>NEAR BAY</td>\n",
       "    </tr>\n",
       "    <tr>\n",
       "      <th>1</th>\n",
       "      <td>-122.22</td>\n",
       "      <td>37.86</td>\n",
       "      <td>21.0</td>\n",
       "      <td>7099.0</td>\n",
       "      <td>1106.0</td>\n",
       "      <td>2401.0</td>\n",
       "      <td>1138.0</td>\n",
       "      <td>8.3014</td>\n",
       "      <td>358500.0</td>\n",
       "      <td>NEAR BAY</td>\n",
       "    </tr>\n",
       "    <tr>\n",
       "      <th>2</th>\n",
       "      <td>-122.24</td>\n",
       "      <td>37.85</td>\n",
       "      <td>52.0</td>\n",
       "      <td>1467.0</td>\n",
       "      <td>190.0</td>\n",
       "      <td>496.0</td>\n",
       "      <td>177.0</td>\n",
       "      <td>7.2574</td>\n",
       "      <td>352100.0</td>\n",
       "      <td>NEAR BAY</td>\n",
       "    </tr>\n",
       "    <tr>\n",
       "      <th>3</th>\n",
       "      <td>-122.25</td>\n",
       "      <td>37.85</td>\n",
       "      <td>52.0</td>\n",
       "      <td>1274.0</td>\n",
       "      <td>235.0</td>\n",
       "      <td>558.0</td>\n",
       "      <td>219.0</td>\n",
       "      <td>5.6431</td>\n",
       "      <td>341300.0</td>\n",
       "      <td>NEAR BAY</td>\n",
       "    </tr>\n",
       "    <tr>\n",
       "      <th>4</th>\n",
       "      <td>-122.25</td>\n",
       "      <td>37.85</td>\n",
       "      <td>52.0</td>\n",
       "      <td>1627.0</td>\n",
       "      <td>280.0</td>\n",
       "      <td>565.0</td>\n",
       "      <td>259.0</td>\n",
       "      <td>3.8462</td>\n",
       "      <td>342200.0</td>\n",
       "      <td>NEAR BAY</td>\n",
       "    </tr>\n",
       "  </tbody>\n",
       "</table>\n",
       "</div>"
      ],
      "text/plain": [
       "   longitude  latitude  housing_median_age  total_rooms  total_bedrooms  \\\n",
       "0    -122.23     37.88                41.0        880.0           129.0   \n",
       "1    -122.22     37.86                21.0       7099.0          1106.0   \n",
       "2    -122.24     37.85                52.0       1467.0           190.0   \n",
       "3    -122.25     37.85                52.0       1274.0           235.0   \n",
       "4    -122.25     37.85                52.0       1627.0           280.0   \n",
       "\n",
       "   population  households  median_income  median_house_value ocean_proximity  \n",
       "0       322.0       126.0         8.3252            452600.0        NEAR BAY  \n",
       "1      2401.0      1138.0         8.3014            358500.0        NEAR BAY  \n",
       "2       496.0       177.0         7.2574            352100.0        NEAR BAY  \n",
       "3       558.0       219.0         5.6431            341300.0        NEAR BAY  \n",
       "4       565.0       259.0         3.8462            342200.0        NEAR BAY  "
      ]
     },
     "execution_count": 4,
     "metadata": {},
     "output_type": "execute_result"
    }
   ],
   "source": [
    "data = pd.read_csv(\"data/housing.csv\")\n",
    "data.head()"
   ]
  },
  {
   "cell_type": "code",
   "execution_count": 6,
   "id": "c546c7e9-0c1c-4ae9-a61c-68b16c099ecd",
   "metadata": {},
   "outputs": [
    {
     "data": {
      "text/plain": [
       "ocean_proximity\n",
       "<1H OCEAN     9136\n",
       "INLAND        6551\n",
       "NEAR OCEAN    2658\n",
       "NEAR BAY      2290\n",
       "ISLAND           5\n",
       "Name: count, dtype: int64"
      ]
     },
     "execution_count": 6,
     "metadata": {},
     "output_type": "execute_result"
    }
   ],
   "source": [
    "data.ocean_proximity.value_counts()"
   ]
  },
  {
   "cell_type": "code",
   "execution_count": 16,
   "id": "6a4f0675-2909-4f85-8272-a4bd1acaa463",
   "metadata": {},
   "outputs": [],
   "source": [
    "#First, keep only the records where ocean_proximity is either '<1H OCEAN' or 'INLAND'\n",
    "df = data.loc[(data.ocean_proximity == '<1H OCEAN') | (data.ocean_proximity == 'INLAND')]"
   ]
  },
  {
   "cell_type": "code",
   "execution_count": 17,
   "id": "460b9b51-a799-4ec7-a3b8-325beedd37e7",
   "metadata": {},
   "outputs": [
    {
     "data": {
      "text/plain": [
       "ocean_proximity\n",
       "<1H OCEAN    9136\n",
       "INLAND       6551\n",
       "Name: count, dtype: int64"
      ]
     },
     "execution_count": 17,
     "metadata": {},
     "output_type": "execute_result"
    }
   ],
   "source": [
    "df.ocean_proximity.value_counts()"
   ]
  },
  {
   "cell_type": "code",
   "execution_count": 19,
   "id": "749eff16-b7b6-4878-974e-55295871e73e",
   "metadata": {},
   "outputs": [
    {
     "data": {
      "text/plain": [
       "longitude               0\n",
       "latitude                0\n",
       "housing_median_age      0\n",
       "total_rooms             0\n",
       "total_bedrooms        157\n",
       "population              0\n",
       "households              0\n",
       "median_income           0\n",
       "median_house_value      0\n",
       "ocean_proximity         0\n",
       "dtype: int64"
      ]
     },
     "execution_count": 19,
     "metadata": {},
     "output_type": "execute_result"
    }
   ],
   "source": [
    "df.isna().sum()"
   ]
  },
  {
   "cell_type": "code",
   "execution_count": 20,
   "id": "8a3adef0-48ca-4417-aeb4-09a01ca55661",
   "metadata": {},
   "outputs": [],
   "source": [
    "# Fill missing values with zeros.\n",
    "df = df.fillna(0)"
   ]
  },
  {
   "cell_type": "code",
   "execution_count": 21,
   "id": "304f90fc-4e5c-4133-a8b6-e0ec0cee9655",
   "metadata": {},
   "outputs": [
    {
     "data": {
      "text/plain": [
       "longitude             0\n",
       "latitude              0\n",
       "housing_median_age    0\n",
       "total_rooms           0\n",
       "total_bedrooms        0\n",
       "population            0\n",
       "households            0\n",
       "median_income         0\n",
       "median_house_value    0\n",
       "ocean_proximity       0\n",
       "dtype: int64"
      ]
     },
     "execution_count": 21,
     "metadata": {},
     "output_type": "execute_result"
    }
   ],
   "source": [
    "df.isna().sum()"
   ]
  },
  {
   "cell_type": "code",
   "execution_count": 22,
   "id": "5b8970c1-4b6c-46ee-903a-bfd304f40741",
   "metadata": {},
   "outputs": [
    {
     "data": {
      "text/plain": [
       "701    431000.0\n",
       "830    217000.0\n",
       "859    247600.0\n",
       "860    283500.0\n",
       "861    216900.0\n",
       "Name: median_house_value, dtype: float64"
      ]
     },
     "execution_count": 22,
     "metadata": {},
     "output_type": "execute_result"
    }
   ],
   "source": [
    "# before\n",
    "df.median_house_value.head()"
   ]
  },
  {
   "cell_type": "code",
   "execution_count": 23,
   "id": "43ef6a35-6dcc-4194-b2cd-f5fd1e683785",
   "metadata": {},
   "outputs": [],
   "source": [
    "# Apply the log tranform to median_house_value\n",
    "df['median_house_value'] = np.log1p(df['median_house_value'])"
   ]
  },
  {
   "cell_type": "code",
   "execution_count": 24,
   "id": "38fa5b0d-d88c-4226-abea-64ac5df6d718",
   "metadata": {},
   "outputs": [
    {
     "data": {
      "text/plain": [
       "701    12.973866\n",
       "830    12.287657\n",
       "859    12.419574\n",
       "860    12.554971\n",
       "861    12.287196\n",
       "Name: median_house_value, dtype: float64"
      ]
     },
     "execution_count": 24,
     "metadata": {},
     "output_type": "execute_result"
    }
   ],
   "source": [
    "df.median_house_value.head()"
   ]
  },
  {
   "cell_type": "code",
   "execution_count": 25,
   "id": "a7484de7-68df-4304-b311-aa0cb2e853f7",
   "metadata": {},
   "outputs": [],
   "source": [
    "# Do train/validation/test split with 60%/20%/20% distribution.\n",
    "from sklearn.model_selection import train_test_split"
   ]
  },
  {
   "cell_type": "code",
   "execution_count": 28,
   "id": "e5eb80a9-6600-4f9b-91b9-4859dc33cc25",
   "metadata": {},
   "outputs": [],
   "source": [
    "df_train_full, df_test = train_test_split(df, test_size=0.2, random_state=1)\n",
    "df_train, df_val = train_test_split(df_train_full, test_size=0.25, random_state=1)\n"
   ]
  },
  {
   "cell_type": "code",
   "execution_count": 29,
   "id": "00b3980d-7d0c-4e6c-be28-b40eef6f0d36",
   "metadata": {},
   "outputs": [
    {
     "data": {
      "text/plain": [
       "(12549, 9411, 3138, 3138)"
      ]
     },
     "execution_count": 29,
     "metadata": {},
     "output_type": "execute_result"
    }
   ],
   "source": [
    "len(df_train_full), len(df_train), len(df_val), len(df_test)"
   ]
  },
  {
   "cell_type": "code",
   "execution_count": 30,
   "id": "f862ae48-9805-4ca3-8435-01ec58876974",
   "metadata": {},
   "outputs": [],
   "source": [
    "# Use DictVectorizer(sparse=True) to turn the dataframe into matrices.\n",
    "from sklearn.feature_extraction import DictVectorizer"
   ]
  },
  {
   "cell_type": "code",
   "execution_count": 32,
   "id": "30437590-1c17-4fc3-aa59-aa51d8882191",
   "metadata": {},
   "outputs": [],
   "source": [
    "def prepare_dfs(df):\n",
    "    df = df.copy()\n",
    "    \n",
    "    df_train_full, df_test = train_test_split(df, test_size=0.2, random_state=1)\n",
    "    df_train, df_val = train_test_split(df_train_full, test_size=0.25, random_state=1)\n",
    "\n",
    "    y_train_full = df_train_full['median_house_value'].values\n",
    "    y_train = df_train['median_house_value'].values\n",
    "    y_val = df_val['median_house_value'].values\n",
    "    y_test = df_test['median_house_value'].values\n",
    "\n",
    "    del df_train_full['median_house_value']\n",
    "    del df_train['median_house_value']\n",
    "    del df_val['median_house_value']\n",
    "    del df_test['median_house_value']\n",
    "\n",
    "    return df_train_full, df_train, df_val, df_test, y_train_full, y_train, y_val, y_test\n",
    "\n",
    "    \n",
    "\n"
   ]
  },
  {
   "cell_type": "markdown",
   "id": "7a239553-f6c0-4b71-9963-2ebb747d5a2d",
   "metadata": {},
   "source": [
    "## Question 1\n",
    "\n",
    "Let's train a decision tree regressor to predict the `median_house_value` variable. \n",
    "\n",
    "* Train a model with `max_depth=1`.\n",
    "\n",
    "\n",
    "Which feature is used for splitting the data?\n",
    "\n",
    "* `ocean_proximity`\n",
    "* `total_rooms`\n",
    "* `latitude`\n",
    "* `population`\n"
   ]
  },
  {
   "cell_type": "code",
   "execution_count": 33,
   "id": "009b0b10-feda-4c25-9302-2c9d0b7e7995",
   "metadata": {},
   "outputs": [],
   "source": [
    "df_train_full, df_train, df_val, df_test, y_train_full, y_train, y_val, y_test = prepare_dfs(df)"
   ]
  },
  {
   "cell_type": "code",
   "execution_count": 38,
   "id": "cc4487c0-2bda-4f6d-a641-33246ebc00a4",
   "metadata": {},
   "outputs": [],
   "source": [
    "from sklearn.tree import DecisionTreeRegressor, export_text\n",
    "from sklearn.metrics import mean_squared_error\n",
    "from sklearn.tree import export_text"
   ]
  },
  {
   "cell_type": "code",
   "execution_count": 44,
   "id": "8ec507f6-1046-49ea-b767-19081b5cc977",
   "metadata": {},
   "outputs": [
    {
     "data": {
      "text/plain": [
       "0.45168599736547216"
      ]
     },
     "execution_count": 44,
     "metadata": {},
     "output_type": "execute_result"
    }
   ],
   "source": [
    "dv = DictVectorizer(sparse=False)\n",
    "\n",
    "dicts_train = df_train.to_dict(orient='records')\n",
    "dicts_val = df_val.to_dict(orient='records')\n",
    "\n",
    "X_train = dv.fit_transform(dicts_train)\n",
    "X_val = dv.transform(dicts_val)\n",
    "\n",
    "dt = DecisionTreeRegressor(max_depth=1) \n",
    "dt.fit(X_train, y_train)\n",
    "y_pred = dt.predict(X_val)\n",
    "rmse = mean_squared_error(y_val, y_pred, squared=False)\n",
    "rmse"
   ]
  },
  {
   "cell_type": "code",
   "execution_count": 45,
   "id": "11e27f97-db1e-43b7-956a-8a25b3fd2bda",
   "metadata": {},
   "outputs": [
    {
     "name": "stdout",
     "output_type": "stream",
     "text": [
      "|--- ocean_proximity=<1H OCEAN <= 0.50\n",
      "|   |--- value: [11.61]\n",
      "|--- ocean_proximity=<1H OCEAN >  0.50\n",
      "|   |--- value: [12.30]\n",
      "\n"
     ]
    }
   ],
   "source": [
    "print(export_text(dt, feature_names=dv.feature_names_))"
   ]
  },
  {
   "cell_type": "markdown",
   "id": "6fb22f8f-760f-4eac-9fc8-12a06fc9995b",
   "metadata": {},
   "source": [
    "answer: ocean_proximity=<1H OCEAN"
   ]
  },
  {
   "cell_type": "markdown",
   "id": "90bd98d3-7072-4cf1-bf96-d2b5441a935b",
   "metadata": {},
   "source": [
    "## Question 2\n",
    "\n",
    "Train a random forest model with these parameters:\n",
    "\n",
    "* `n_estimators=10`\n",
    "* `random_state=1`\n",
    "* `n_jobs=-1` (optional - to make training faster)\n",
    "\n",
    "\n",
    "What's the RMSE of this model on validation?\n",
    "\n",
    "* 0.045\n",
    "* 0.245\n",
    "* 0.545\n",
    "* 0.845"
   ]
  },
  {
   "cell_type": "code",
   "execution_count": 46,
   "id": "28098f83-ec14-4876-8bf1-e0ec3ca5613f",
   "metadata": {},
   "outputs": [],
   "source": [
    "from sklearn.ensemble import RandomForestRegressor"
   ]
  },
  {
   "cell_type": "code",
   "execution_count": 48,
   "id": "9cdc7fef-1e6f-4dec-b80c-e24f2ecdcb2f",
   "metadata": {},
   "outputs": [
    {
     "data": {
      "text/plain": [
       "0.24472888684076877"
      ]
     },
     "execution_count": 48,
     "metadata": {},
     "output_type": "execute_result"
    }
   ],
   "source": [
    "# dv = DictVectorizer(sparse=False)\n",
    "\n",
    "# dicts_train = df_train.to_dict(orient='records')\n",
    "# dicts_val = df_val.to_dict(orient='records')\n",
    "\n",
    "# X_train = dv.fit_transform(dicts_train)\n",
    "# X_val = dv.transform(dicts_val)\n",
    "\n",
    "rf = RandomForestRegressor(n_estimators=10, random_state=1, n_jobs=-1) \n",
    "rf.fit(X_train, y_train)\n",
    "y_pred = rf.predict(X_val)\n",
    "rmse = mean_squared_error(y_val, y_pred, squared=False)\n",
    "rmse"
   ]
  },
  {
   "cell_type": "markdown",
   "id": "d293af12-643f-42d1-9e93-fa6071b34080",
   "metadata": {},
   "source": [
    "answer: 0.245"
   ]
  },
  {
   "cell_type": "markdown",
   "id": "ae468037-e4cc-4ffe-8440-5f6038791132",
   "metadata": {},
   "source": [
    "## Question 3\n",
    "\n",
    "Now let's experiment with the `n_estimators` parameter\n",
    "\n",
    "* Try different values of this parameter from 10 to 200 with step 10.\n",
    "* Set `random_state` to `1`.\n",
    "* Evaluate the model on the validation dataset.\n",
    "\n",
    "\n",
    "After which value of `n_estimators` does RMSE stop improving?\n",
    "\n",
    "- 10\n",
    "- 25\n",
    "- 50\n",
    "- 160\n"
   ]
  },
  {
   "cell_type": "code",
   "execution_count": 78,
   "id": "dfd55bdd-2826-49b8-9ad6-2801fb5b5d08",
   "metadata": {},
   "outputs": [
    {
     "name": "stdout",
     "output_type": "stream",
     "text": [
      "n_estimators: 10 ---->  0.245\n",
      "\n",
      "n_estimators: 20 ---->  0.238\n",
      "\n",
      "n_estimators: 30 ---->  0.236\n",
      "\n",
      "n_estimators: 40 ---->  0.235\n",
      "\n",
      "n_estimators: 50 ---->  0.234\n",
      "\n",
      "n_estimators: 60 ---->  0.234\n",
      "\n",
      "n_estimators: 70 ---->  0.234\n",
      "\n",
      "n_estimators: 80 ---->  0.234\n",
      "\n",
      "n_estimators: 90 ---->  0.234\n",
      "\n",
      "n_estimators: 100 ---->  0.234\n",
      "\n",
      "n_estimators: 110 ---->  0.234\n",
      "\n",
      "n_estimators: 120 ---->  0.234\n",
      "\n",
      "n_estimators: 130 ---->  0.234\n",
      "\n",
      "n_estimators: 140 ---->  0.234\n",
      "\n",
      "n_estimators: 150 ---->  0.234\n",
      "\n",
      "n_estimators: 160 ---->  0.233\n",
      "\n",
      "n_estimators: 170 ---->  0.233\n",
      "\n",
      "n_estimators: 180 ---->  0.234\n",
      "\n",
      "n_estimators: 190 ---->  0.234\n",
      "\n",
      "n_estimators: 200 ---->  0.234\n",
      "\n"
     ]
    }
   ],
   "source": [
    "for n in range(10, 201, 10):\n",
    "    # dv = DictVectorizer(sparse=False)\n",
    "\n",
    "    # dicts_train = df_train.to_dict(orient='records')\n",
    "    # dicts_val = df_val.to_dict(orient='records')\n",
    "    \n",
    "    # X_train = dv.fit_transform(dicts_train)\n",
    "    # X_val = dv.transform(dicts_val)\n",
    "    \n",
    "    rf = RandomForestRegressor(n_estimators=n, random_state=1, n_jobs=-1) \n",
    "    rf.fit(X_train, y_train)\n",
    "    y_pred = rf.predict(X_val)\n",
    "    rmse = round(mean_squared_error(y_val, y_pred, squared=False), 3)\n",
    "    \n",
    "    print(f\"n_estimators: {n} ---->  {rmse}\")\n",
    "    print()"
   ]
  },
  {
   "cell_type": "markdown",
   "id": "86fd88b7-7793-48a1-b7de-f15224c0972d",
   "metadata": {},
   "source": [
    "answer: 160"
   ]
  },
  {
   "cell_type": "markdown",
   "id": "3e724a75-b26e-4472-8367-f5a5c414a0de",
   "metadata": {},
   "source": [
    "## Question 4\n",
    "\n",
    "Let's select the best `max_depth`:\n",
    "\n",
    "* Try different values of `max_depth`: `[10, 15, 20, 25]`\n",
    "* For each of these values, try different values of `n_estimators` from 10 till 200 (with step 10)\n",
    "* Fix the random seed: `random_state=1`\n",
    "\n",
    "\n",
    "What's the best `max_depth`:\n",
    "\n",
    "* 10\n",
    "* 15\n",
    "* 20\n",
    "* 25\n"
   ]
  },
  {
   "cell_type": "code",
   "execution_count": 54,
   "id": "02a50981-d9b0-4739-b064-964e233091ff",
   "metadata": {},
   "outputs": [
    {
     "name": "stdout",
     "output_type": "stream",
     "text": [
      "max_depth: 10\n",
      "\n",
      "    n_estimators: 10         ---->  0.25051\n",
      "    n_estimators: 20         ---->  0.24726\n",
      "    n_estimators: 30         ---->  0.24626\n",
      "    n_estimators: 40         ---->  0.24509\n",
      "    n_estimators: 50         ---->  0.24562\n",
      "    n_estimators: 60         ---->  0.24547\n",
      "    n_estimators: 70         ---->  0.24544\n",
      "    n_estimators: 80         ---->  0.24561\n",
      "    n_estimators: 90         ---->  0.24550\n",
      "    n_estimators: 100        ---->  0.24538\n",
      "    n_estimators: 110        ---->  0.24527\n",
      "    n_estimators: 120        ---->  0.24500\n",
      "    n_estimators: 130        ---->  0.24476\n",
      "    n_estimators: 140        ---->  0.24459\n",
      "    n_estimators: 150        ---->  0.24455\n",
      "    n_estimators: 160        ---->  0.24445\n",
      "    n_estimators: 170        ---->  0.24439\n",
      "    n_estimators: 180        ---->  0.24449\n",
      "    n_estimators: 190        ---->  0.24469\n",
      "    n_estimators: 200        ---->  0.24473\n",
      "avg rmse 0.245453\n",
      "max_depth: 15\n",
      "\n",
      "    n_estimators: 10         ---->  0.24553\n",
      "    n_estimators: 20         ---->  0.23892\n",
      "    n_estimators: 30         ---->  0.23694\n",
      "    n_estimators: 40         ---->  0.23570\n",
      "    n_estimators: 50         ---->  0.23592\n",
      "    n_estimators: 60         ---->  0.23551\n",
      "    n_estimators: 70         ---->  0.23541\n",
      "    n_estimators: 80         ---->  0.23566\n",
      "    n_estimators: 90         ---->  0.23542\n",
      "    n_estimators: 100        ---->  0.23522\n",
      "    n_estimators: 110        ---->  0.23511\n",
      "    n_estimators: 120        ---->  0.23474\n",
      "    n_estimators: 130        ---->  0.23466\n",
      "    n_estimators: 140        ---->  0.23454\n",
      "    n_estimators: 150        ---->  0.23445\n",
      "    n_estimators: 160        ---->  0.23424\n",
      "    n_estimators: 170        ---->  0.23418\n",
      "    n_estimators: 180        ---->  0.23445\n",
      "    n_estimators: 190        ---->  0.23465\n",
      "    n_estimators: 200        ---->  0.23453\n",
      "avg rmse 0.23578900000000003\n",
      "max_depth: 20\n",
      "\n",
      "    n_estimators: 10         ---->  0.24456\n",
      "    n_estimators: 20         ---->  0.23821\n",
      "    n_estimators: 30         ---->  0.23616\n",
      "    n_estimators: 40         ---->  0.23457\n",
      "    n_estimators: 50         ---->  0.23435\n",
      "    n_estimators: 60         ---->  0.23429\n",
      "    n_estimators: 70         ---->  0.23424\n",
      "    n_estimators: 80         ---->  0.23454\n",
      "    n_estimators: 90         ---->  0.23426\n",
      "    n_estimators: 100        ---->  0.23423\n",
      "    n_estimators: 110        ---->  0.23421\n",
      "    n_estimators: 120        ---->  0.23412\n",
      "    n_estimators: 130        ---->  0.23388\n",
      "    n_estimators: 140        ---->  0.23364\n",
      "    n_estimators: 150        ---->  0.23350\n",
      "    n_estimators: 160        ---->  0.23340\n",
      "    n_estimators: 170        ---->  0.23341\n",
      "    n_estimators: 180        ---->  0.23358\n",
      "    n_estimators: 190        ---->  0.23382\n",
      "    n_estimators: 200        ---->  0.23372\n",
      "avg rmse 0.2348345\n",
      "max_depth: 25\n",
      "\n",
      "    n_estimators: 10         ---->  0.24378\n",
      "    n_estimators: 20         ---->  0.23809\n",
      "    n_estimators: 30         ---->  0.23637\n",
      "    n_estimators: 40         ---->  0.23448\n",
      "    n_estimators: 50         ---->  0.23455\n",
      "    n_estimators: 60         ---->  0.23418\n",
      "    n_estimators: 70         ---->  0.23404\n",
      "    n_estimators: 80         ---->  0.23434\n",
      "    n_estimators: 90         ---->  0.23424\n",
      "    n_estimators: 100        ---->  0.23407\n",
      "    n_estimators: 110        ---->  0.23404\n",
      "    n_estimators: 120        ---->  0.23381\n",
      "    n_estimators: 130        ---->  0.23376\n",
      "    n_estimators: 140        ---->  0.23354\n",
      "    n_estimators: 150        ---->  0.23347\n",
      "    n_estimators: 160        ---->  0.23340\n",
      "    n_estimators: 170        ---->  0.23340\n",
      "    n_estimators: 180        ---->  0.23363\n",
      "    n_estimators: 190        ---->  0.23389\n",
      "    n_estimators: 200        ---->  0.23374\n",
      "avg rmse 0.234741\n",
      "\n",
      "The lowest rmse was 0.2334 at a max_depth of 20, and n_esitmators of 160\n"
     ]
    }
   ],
   "source": [
    "min_rmse = float('inf')\n",
    "\n",
    "for d in [10, 15, 20, 25]:\n",
    "    print(f\"max_depth: {d}\")\n",
    "    print()\n",
    "    rmses = []\n",
    "    \n",
    "    for n in range(10, 201, 10):\n",
    "    \n",
    "    \n",
    "        rf = RandomForestRegressor(n_estimators=n, max_depth=d, random_state=1, n_jobs=-1) \n",
    "        rf.fit(X_train, y_train)\n",
    "        y_pred = rf.predict(X_val)\n",
    "        rmse = round(mean_squared_error(y_val, y_pred, squared=False), 5)\n",
    "        if rmse < min_rmse:\n",
    "            min_rmse = rmse\n",
    "            res = (d, n, rmse)\n",
    "        rmses.append(rmse)\n",
    "        \n",
    "        print(f\"    n_estimators: {n:<10} ---->  {rmse:.5f}\")\n",
    "        # print()\n",
    "    avg_rmse = np.mean(rmses)\n",
    "    print(f\"avg rmse {avg_rmse}\")\n",
    "\n",
    "best_md, best_n_esitmators, best_rmse = res\n",
    "print()\n",
    "print(f\"The lowest rmse was {best_rmse} at a max_depth of {best_md}, and n_esitmators of {best_n_esitmators}\")\n",
    "    "
   ]
  },
  {
   "cell_type": "markdown",
   "id": "2f4a5133-7def-4bf2-91b8-f7996fe15d21",
   "metadata": {},
   "source": [
    "answer: based on the average the best max_depth would be 25"
   ]
  },
  {
   "cell_type": "markdown",
   "id": "470f800d-ea0c-4d8b-bfef-5b91c52182d2",
   "metadata": {},
   "source": [
    "# Question 5\n",
    "\n",
    "We can extract feature importance information from tree-based models. \n",
    "\n",
    "At each step of the decision tree learning algorith, it finds the best split. \n",
    "When doint it, we can calculate \"gain\" - the reduction in impurity before and after the split. \n",
    "This gain is quite useful in understanding what are the imporatant features \n",
    "for tree-based models.\n",
    "\n",
    "In Scikit-Learn, tree-based models contain this information in the\n",
    "[`feature_importances_`](https://scikit-learn.org/stable/modules/generated/sklearn.ensemble.RandomForestRegressor.html#sklearn.ensemble.RandomForestRegressor.feature_importances_)\n",
    "field. \n",
    "\n",
    "For this homework question, we'll find the most important feature:\n",
    "\n",
    "* Train the model with these parametes:\n",
    "    * `n_estimators=10`,\n",
    "    * `max_depth=20`,\n",
    "    * `random_state=1`,\n",
    "    * `n_jobs=-1` (optional)\n",
    "* Get the feature importance information from this model\n",
    "\n",
    "\n",
    "What's the most important feature (among these 4)? \n",
    "\n",
    "* `total_rooms`\n",
    "* `median_income`\n",
    "* `total_bedrooms`\n",
    "* `longitude`"
   ]
  },
  {
   "cell_type": "code",
   "execution_count": 55,
   "id": "541a14c5-64fd-49eb-b820-16388e28fafa",
   "metadata": {},
   "outputs": [
    {
     "data": {
      "text/plain": [
       "0.24456"
      ]
     },
     "execution_count": 55,
     "metadata": {},
     "output_type": "execute_result"
    }
   ],
   "source": [
    "rf = RandomForestRegressor(n_estimators=10, max_depth=20, random_state=1, n_jobs=-1) \n",
    "rf.fit(X_train, y_train)\n",
    "y_pred = rf.predict(X_val)\n",
    "rmse = round(mean_squared_error(y_val, y_pred, squared=False), 5)\n",
    "rmse"
   ]
  },
  {
   "cell_type": "code",
   "execution_count": 59,
   "id": "58f580b6-3401-4169-aa94-c423156f88a7",
   "metadata": {},
   "outputs": [
    {
     "name": "stdout",
     "output_type": "stream",
     "text": [
      "households                     ---->  0.01490\n",
      "housing_median_age             ---->  0.03004\n",
      "latitude                       ---->  0.10272\n",
      "longitude                      ---->  0.08579\n",
      "median_income                  ---->  0.33551\n",
      "ocean_proximity=<1H OCEAN      ---->  0.21882\n",
      "ocean_proximity=INLAND         ---->  0.14746\n",
      "population                     ---->  0.02821\n",
      "total_bedrooms                 ---->  0.01523\n",
      "total_rooms                    ---->  0.02132\n"
     ]
    }
   ],
   "source": [
    "feature_importances = rf.feature_importances_\n",
    "\n",
    "for feature, importance in zip(dv.feature_names_, feature_importances):\n",
    "    print(f\"{feature:<30} ---->  {importance:.5f}\")"
   ]
  },
  {
   "cell_type": "markdown",
   "id": "adfccd01-a3d3-41ce-a4b3-e9723e6bada7",
   "metadata": {},
   "source": [
    "answer: median_income"
   ]
  },
  {
   "cell_type": "markdown",
   "id": "c474cc82-e681-4750-b066-fecc2deab202",
   "metadata": {},
   "source": [
    "## Question 6\n",
    "\n",
    "Now let's train an XGBoost model! For this question, we'll tune the `eta` parameter:\n",
    "\n",
    "* Install XGBoost\n",
    "* Create DMatrix for train and validation\n",
    "* Create a watchlist\n",
    "* Train a model with these parameters for 100 rounds:\n",
    "\n",
    "```\n",
    "xgb_params = {\n",
    "    'eta': 0.3, \n",
    "    'max_depth': 6,\n",
    "    'min_child_weight': 1,\n",
    "    \n",
    "    'objective': 'reg:squarederror',\n",
    "    'nthread': 8,\n",
    "    \n",
    "    'seed': 1,\n",
    "    'verbosity': 1,\n",
    "}\n",
    "```\n",
    "\n",
    "Now change `eta` from `0.3` to `0.1`.\n",
    "\n",
    "Which eta leads to the best RMSE score on the validation dataset?\n",
    "\n",
    "* 0.3\n",
    "* 0.1\n",
    "* Both give equal value\n"
   ]
  },
  {
   "cell_type": "code",
   "execution_count": 61,
   "id": "e0326e73-a75d-484c-88da-68e657c32adb",
   "metadata": {},
   "outputs": [],
   "source": [
    "import xgboost as xgb"
   ]
  },
  {
   "cell_type": "code",
   "execution_count": 62,
   "id": "cbb1c93e-8727-438a-a31a-7036a9063ff8",
   "metadata": {},
   "outputs": [
    {
     "name": "stdout",
     "output_type": "stream",
     "text": [
      "1.7.6\n"
     ]
    }
   ],
   "source": [
    "print(xgb.__version__)"
   ]
  },
  {
   "cell_type": "code",
   "execution_count": 64,
   "id": "b6e2d8e5-5a2b-4011-b21d-0e32a7e3032d",
   "metadata": {},
   "outputs": [
    {
     "data": {
      "text/plain": [
       "['households',\n",
       " 'housing_median_age',\n",
       " 'latitude',\n",
       " 'longitude',\n",
       " 'median_income',\n",
       " 'ocean_proximity=<1H OCEAN',\n",
       " 'ocean_proximity=INLAND',\n",
       " 'population',\n",
       " 'total_bedrooms',\n",
       " 'total_rooms']"
      ]
     },
     "execution_count": 64,
     "metadata": {},
     "output_type": "execute_result"
    }
   ],
   "source": [
    "dv.feature_names_"
   ]
  },
  {
   "cell_type": "code",
   "execution_count": 67,
   "id": "9c6c51da-7fa2-4d2d-b90e-2b528fca9c04",
   "metadata": {},
   "outputs": [
    {
     "data": {
      "text/plain": [
       "array(['households', 'housing_median_age', 'latitude', 'longitude',\n",
       "       'median_income', 'ocean_proximity=<1H OCEAN',\n",
       "       'ocean_proximity=INLAND', 'population', 'total_bedrooms',\n",
       "       'total_rooms'], dtype=object)"
      ]
     },
     "execution_count": 67,
     "metadata": {},
     "output_type": "execute_result"
    }
   ],
   "source": [
    "dv.get_feature_names_out()"
   ]
  },
  {
   "cell_type": "code",
   "execution_count": 72,
   "id": "de6ebb25-f998-42d1-b88a-343a8487d492",
   "metadata": {},
   "outputs": [],
   "source": [
    "features = dv.get_feature_names_out()\n",
    "features = []\n",
    "for f in dv.feature_names_:\n",
    "\tstring = f.replace('=<', '-le')\n",
    "\tfeatures.append(string)\n",
    "\n",
    "dtrain = xgb.DMatrix(X_train, label=y_train, feature_names=features)\n",
    "dval = xgb.DMatrix(X_val, label=y_val, feature_names=features)"
   ]
  },
  {
   "cell_type": "code",
   "execution_count": 75,
   "id": "0acd1dbe-ecec-411d-8b06-8219b41d54ee",
   "metadata": {},
   "outputs": [
    {
     "data": {
      "text/plain": [
       "['households',\n",
       " 'housing_median_age',\n",
       " 'latitude',\n",
       " 'longitude',\n",
       " 'median_income',\n",
       " 'ocean_proximity-le1H OCEAN',\n",
       " 'ocean_proximity=INLAND',\n",
       " 'population',\n",
       " 'total_bedrooms',\n",
       " 'total_rooms']"
      ]
     },
     "execution_count": 75,
     "metadata": {},
     "output_type": "execute_result"
    }
   ],
   "source": [
    "features"
   ]
  },
  {
   "cell_type": "code",
   "execution_count": 76,
   "id": "e57875dd-4425-4b12-8c24-5b9c00458fbc",
   "metadata": {},
   "outputs": [
    {
     "name": "stdout",
     "output_type": "stream",
     "text": [
      "[0]\ttrain-rmse:8.07362\tval-rmse:8.07348\n",
      "[1]\ttrain-rmse:5.65832\tval-rmse:5.65617\n",
      "[2]\ttrain-rmse:3.96917\tval-rmse:3.96541\n",
      "[3]\ttrain-rmse:2.78836\tval-rmse:2.78530\n",
      "[4]\ttrain-rmse:1.96409\tval-rmse:1.96088\n",
      "[5]\ttrain-rmse:1.38983\tval-rmse:1.38852\n",
      "[6]\ttrain-rmse:0.99273\tval-rmse:0.99253\n",
      "[7]\ttrain-rmse:0.71854\tval-rmse:0.72138\n",
      "[8]\ttrain-rmse:0.53440\tval-rmse:0.54054\n",
      "[9]\ttrain-rmse:0.41016\tval-rmse:0.42108\n",
      "[10]\ttrain-rmse:0.33195\tval-rmse:0.34802\n",
      "[11]\ttrain-rmse:0.28413\tval-rmse:0.30539\n",
      "[12]\ttrain-rmse:0.25487\tval-rmse:0.28044\n",
      "[13]\ttrain-rmse:0.23748\tval-rmse:0.26681\n",
      "[14]\ttrain-rmse:0.22789\tval-rmse:0.25955\n",
      "[15]\ttrain-rmse:0.22197\tval-rmse:0.25614\n",
      "[16]\ttrain-rmse:0.21543\tval-rmse:0.25268\n",
      "[17]\ttrain-rmse:0.21034\tval-rmse:0.24871\n",
      "[18]\ttrain-rmse:0.20688\tval-rmse:0.24786\n",
      "[19]\ttrain-rmse:0.20341\tval-rmse:0.24612\n",
      "[20]\ttrain-rmse:0.20036\tval-rmse:0.24508\n",
      "[21]\ttrain-rmse:0.19827\tval-rmse:0.24376\n",
      "[22]\ttrain-rmse:0.19644\tval-rmse:0.24257\n",
      "[23]\ttrain-rmse:0.19320\tval-rmse:0.24095\n",
      "[24]\ttrain-rmse:0.19203\tval-rmse:0.24066\n",
      "[25]\ttrain-rmse:0.18991\tval-rmse:0.24021\n",
      "[26]\ttrain-rmse:0.18715\tval-rmse:0.23921\n",
      "[27]\ttrain-rmse:0.18592\tval-rmse:0.23917\n",
      "[28]\ttrain-rmse:0.18539\tval-rmse:0.23906\n",
      "[29]\ttrain-rmse:0.18394\tval-rmse:0.23830\n",
      "[30]\ttrain-rmse:0.18204\tval-rmse:0.23833\n",
      "[31]\ttrain-rmse:0.18014\tval-rmse:0.23764\n",
      "[32]\ttrain-rmse:0.17785\tval-rmse:0.23717\n",
      "[33]\ttrain-rmse:0.17441\tval-rmse:0.23620\n",
      "[34]\ttrain-rmse:0.17311\tval-rmse:0.23603\n",
      "[35]\ttrain-rmse:0.17091\tval-rmse:0.23452\n",
      "[36]\ttrain-rmse:0.16973\tval-rmse:0.23439\n",
      "[37]\ttrain-rmse:0.16827\tval-rmse:0.23419\n",
      "[38]\ttrain-rmse:0.16728\tval-rmse:0.23403\n",
      "[39]\ttrain-rmse:0.16621\tval-rmse:0.23389\n",
      "[40]\ttrain-rmse:0.16422\tval-rmse:0.23379\n",
      "[41]\ttrain-rmse:0.16272\tval-rmse:0.23398\n",
      "[42]\ttrain-rmse:0.16186\tval-rmse:0.23384\n",
      "[43]\ttrain-rmse:0.15985\tval-rmse:0.23320\n",
      "[44]\ttrain-rmse:0.15905\tval-rmse:0.23307\n",
      "[45]\ttrain-rmse:0.15756\tval-rmse:0.23302\n",
      "[46]\ttrain-rmse:0.15677\tval-rmse:0.23323\n",
      "[47]\ttrain-rmse:0.15588\tval-rmse:0.23335\n",
      "[48]\ttrain-rmse:0.15467\tval-rmse:0.23302\n",
      "[49]\ttrain-rmse:0.15364\tval-rmse:0.23319\n",
      "[50]\ttrain-rmse:0.15210\tval-rmse:0.23262\n",
      "[51]\ttrain-rmse:0.15110\tval-rmse:0.23268\n",
      "[52]\ttrain-rmse:0.14992\tval-rmse:0.23254\n",
      "[53]\ttrain-rmse:0.14890\tval-rmse:0.23234\n",
      "[54]\ttrain-rmse:0.14729\tval-rmse:0.23212\n",
      "[55]\ttrain-rmse:0.14633\tval-rmse:0.23167\n",
      "[56]\ttrain-rmse:0.14531\tval-rmse:0.23168\n",
      "[57]\ttrain-rmse:0.14476\tval-rmse:0.23183\n",
      "[58]\ttrain-rmse:0.14398\tval-rmse:0.23178\n",
      "[59]\ttrain-rmse:0.14309\tval-rmse:0.23177\n",
      "[60]\ttrain-rmse:0.14218\tval-rmse:0.23160\n",
      "[61]\ttrain-rmse:0.14194\tval-rmse:0.23150\n",
      "[62]\ttrain-rmse:0.14141\tval-rmse:0.23169\n",
      "[63]\ttrain-rmse:0.14087\tval-rmse:0.23180\n",
      "[64]\ttrain-rmse:0.14022\tval-rmse:0.23175\n",
      "[65]\ttrain-rmse:0.13898\tval-rmse:0.23169\n",
      "[66]\ttrain-rmse:0.13823\tval-rmse:0.23179\n",
      "[67]\ttrain-rmse:0.13696\tval-rmse:0.23140\n",
      "[68]\ttrain-rmse:0.13665\tval-rmse:0.23148\n",
      "[69]\ttrain-rmse:0.13565\tval-rmse:0.23115\n",
      "[70]\ttrain-rmse:0.13471\tval-rmse:0.23108\n",
      "[71]\ttrain-rmse:0.13392\tval-rmse:0.23081\n",
      "[72]\ttrain-rmse:0.13290\tval-rmse:0.23044\n",
      "[73]\ttrain-rmse:0.13249\tval-rmse:0.23043\n",
      "[74]\ttrain-rmse:0.13143\tval-rmse:0.23026\n",
      "[75]\ttrain-rmse:0.13072\tval-rmse:0.23036\n",
      "[76]\ttrain-rmse:0.13034\tval-rmse:0.23027\n",
      "[77]\ttrain-rmse:0.12963\tval-rmse:0.23029\n",
      "[78]\ttrain-rmse:0.12914\tval-rmse:0.23029\n",
      "[79]\ttrain-rmse:0.12872\tval-rmse:0.23028\n",
      "[80]\ttrain-rmse:0.12835\tval-rmse:0.23045\n",
      "[81]\ttrain-rmse:0.12754\tval-rmse:0.23025\n",
      "[82]\ttrain-rmse:0.12727\tval-rmse:0.23015\n",
      "[83]\ttrain-rmse:0.12666\tval-rmse:0.23024\n",
      "[84]\ttrain-rmse:0.12630\tval-rmse:0.23028\n",
      "[85]\ttrain-rmse:0.12534\tval-rmse:0.23010\n",
      "[86]\ttrain-rmse:0.12495\tval-rmse:0.23009\n",
      "[87]\ttrain-rmse:0.12455\tval-rmse:0.23004\n",
      "[88]\ttrain-rmse:0.12330\tval-rmse:0.22953\n",
      "[89]\ttrain-rmse:0.12260\tval-rmse:0.22949\n",
      "[90]\ttrain-rmse:0.12174\tval-rmse:0.22957\n",
      "[91]\ttrain-rmse:0.12118\tval-rmse:0.22940\n",
      "[92]\ttrain-rmse:0.12037\tval-rmse:0.22914\n",
      "[93]\ttrain-rmse:0.11983\tval-rmse:0.22921\n",
      "[94]\ttrain-rmse:0.11949\tval-rmse:0.22909\n",
      "[95]\ttrain-rmse:0.11894\tval-rmse:0.22906\n",
      "[96]\ttrain-rmse:0.11840\tval-rmse:0.22906\n",
      "[97]\ttrain-rmse:0.11791\tval-rmse:0.22898\n",
      "[98]\ttrain-rmse:0.11672\tval-rmse:0.22891\n",
      "[99]\ttrain-rmse:0.11656\tval-rmse:0.22897\n"
     ]
    }
   ],
   "source": [
    "xgb_params = {\n",
    "    'eta': 0.3, \n",
    "    'max_depth': 6,\n",
    "    'min_child_weight': 1,\n",
    "    \n",
    "    'objective': 'reg:squarederror',\n",
    "    'nthread': 8,\n",
    "    \n",
    "    'seed': 1,\n",
    "    'verbosity': 1,\n",
    "}\n",
    "\n",
    "watchlist = [(dtrain, 'train'), (dval, 'val')]\n",
    "\n",
    "model = xgb.train(xgb_params, dtrain, num_boost_round=100,\n",
    "                  verbose_eval=1,\n",
    "                  evals=watchlist)"
   ]
  },
  {
   "cell_type": "code",
   "execution_count": 77,
   "id": "68eaca87-26e2-4cf0-b051-f48c253f2b86",
   "metadata": {},
   "outputs": [
    {
     "name": "stdout",
     "output_type": "stream",
     "text": [
      "[0]\ttrain-rmse:10.37456\tval-rmse:10.37545\n",
      "[1]\ttrain-rmse:9.33895\tval-rmse:9.33910\n",
      "[2]\ttrain-rmse:8.40699\tval-rmse:8.40694\n",
      "[3]\ttrain-rmse:7.56827\tval-rmse:7.56760\n",
      "[4]\ttrain-rmse:6.81351\tval-rmse:6.81222\n",
      "[5]\ttrain-rmse:6.13433\tval-rmse:6.13236\n",
      "[6]\ttrain-rmse:5.52318\tval-rmse:5.52066\n",
      "[7]\ttrain-rmse:4.97329\tval-rmse:4.97019\n",
      "[8]\ttrain-rmse:4.47854\tval-rmse:4.47532\n",
      "[9]\ttrain-rmse:4.03346\tval-rmse:4.03005\n",
      "[10]\ttrain-rmse:3.63299\tval-rmse:3.62939\n",
      "[11]\ttrain-rmse:3.27269\tval-rmse:3.26930\n",
      "[12]\ttrain-rmse:2.94855\tval-rmse:2.94514\n",
      "[13]\ttrain-rmse:2.65703\tval-rmse:2.65359\n",
      "[14]\ttrain-rmse:2.39479\tval-rmse:2.39150\n",
      "[15]\ttrain-rmse:2.15901\tval-rmse:2.15616\n",
      "[16]\ttrain-rmse:1.94714\tval-rmse:1.94442\n",
      "[17]\ttrain-rmse:1.75677\tval-rmse:1.75478\n",
      "[18]\ttrain-rmse:1.58567\tval-rmse:1.58404\n",
      "[19]\ttrain-rmse:1.43206\tval-rmse:1.43081\n",
      "[20]\ttrain-rmse:1.29412\tval-rmse:1.29329\n",
      "[21]\ttrain-rmse:1.17023\tval-rmse:1.17013\n",
      "[22]\ttrain-rmse:1.05934\tval-rmse:1.05983\n",
      "[23]\ttrain-rmse:0.95998\tval-rmse:0.96117\n",
      "[24]\ttrain-rmse:0.87015\tval-rmse:0.87245\n",
      "[25]\ttrain-rmse:0.78993\tval-rmse:0.79342\n",
      "[26]\ttrain-rmse:0.71854\tval-rmse:0.72317\n",
      "[27]\ttrain-rmse:0.65509\tval-rmse:0.66070\n",
      "[28]\ttrain-rmse:0.59798\tval-rmse:0.60472\n",
      "[29]\ttrain-rmse:0.54753\tval-rmse:0.55556\n",
      "[30]\ttrain-rmse:0.50217\tval-rmse:0.51149\n",
      "[31]\ttrain-rmse:0.46264\tval-rmse:0.47334\n",
      "[32]\ttrain-rmse:0.42764\tval-rmse:0.44027\n",
      "[33]\ttrain-rmse:0.39638\tval-rmse:0.41081\n",
      "[34]\ttrain-rmse:0.36934\tval-rmse:0.38547\n",
      "[35]\ttrain-rmse:0.34590\tval-rmse:0.36371\n",
      "[36]\ttrain-rmse:0.32525\tval-rmse:0.34493\n",
      "[37]\ttrain-rmse:0.30757\tval-rmse:0.32888\n",
      "[38]\ttrain-rmse:0.29236\tval-rmse:0.31534\n",
      "[39]\ttrain-rmse:0.27876\tval-rmse:0.30333\n",
      "[40]\ttrain-rmse:0.26743\tval-rmse:0.29345\n",
      "[41]\ttrain-rmse:0.25766\tval-rmse:0.28530\n",
      "[42]\ttrain-rmse:0.24866\tval-rmse:0.27785\n",
      "[43]\ttrain-rmse:0.24160\tval-rmse:0.27211\n",
      "[44]\ttrain-rmse:0.23504\tval-rmse:0.26702\n",
      "[45]\ttrain-rmse:0.23014\tval-rmse:0.26315\n",
      "[46]\ttrain-rmse:0.22465\tval-rmse:0.25892\n",
      "[47]\ttrain-rmse:0.22086\tval-rmse:0.25593\n",
      "[48]\ttrain-rmse:0.21776\tval-rmse:0.25353\n",
      "[49]\ttrain-rmse:0.21459\tval-rmse:0.25146\n",
      "[50]\ttrain-rmse:0.21112\tval-rmse:0.24907\n",
      "[51]\ttrain-rmse:0.20919\tval-rmse:0.24776\n",
      "[52]\ttrain-rmse:0.20751\tval-rmse:0.24671\n",
      "[53]\ttrain-rmse:0.20576\tval-rmse:0.24575\n",
      "[54]\ttrain-rmse:0.20434\tval-rmse:0.24485\n",
      "[55]\ttrain-rmse:0.20315\tval-rmse:0.24427\n",
      "[56]\ttrain-rmse:0.20155\tval-rmse:0.24317\n",
      "[57]\ttrain-rmse:0.20032\tval-rmse:0.24263\n",
      "[58]\ttrain-rmse:0.19953\tval-rmse:0.24210\n",
      "[59]\ttrain-rmse:0.19820\tval-rmse:0.24144\n",
      "[60]\ttrain-rmse:0.19724\tval-rmse:0.24107\n",
      "[61]\ttrain-rmse:0.19641\tval-rmse:0.24095\n",
      "[62]\ttrain-rmse:0.19543\tval-rmse:0.24063\n",
      "[63]\ttrain-rmse:0.19420\tval-rmse:0.23990\n",
      "[64]\ttrain-rmse:0.19329\tval-rmse:0.23953\n",
      "[65]\ttrain-rmse:0.19264\tval-rmse:0.23932\n",
      "[66]\ttrain-rmse:0.19168\tval-rmse:0.23909\n",
      "[67]\ttrain-rmse:0.19096\tval-rmse:0.23884\n",
      "[68]\ttrain-rmse:0.19050\tval-rmse:0.23878\n",
      "[69]\ttrain-rmse:0.19009\tval-rmse:0.23867\n",
      "[70]\ttrain-rmse:0.18911\tval-rmse:0.23824\n",
      "[71]\ttrain-rmse:0.18801\tval-rmse:0.23804\n",
      "[72]\ttrain-rmse:0.18750\tval-rmse:0.23790\n",
      "[73]\ttrain-rmse:0.18708\tval-rmse:0.23774\n",
      "[74]\ttrain-rmse:0.18594\tval-rmse:0.23732\n",
      "[75]\ttrain-rmse:0.18503\tval-rmse:0.23731\n",
      "[76]\ttrain-rmse:0.18439\tval-rmse:0.23703\n",
      "[77]\ttrain-rmse:0.18358\tval-rmse:0.23669\n",
      "[78]\ttrain-rmse:0.18285\tval-rmse:0.23652\n",
      "[79]\ttrain-rmse:0.18226\tval-rmse:0.23628\n",
      "[80]\ttrain-rmse:0.18145\tval-rmse:0.23594\n",
      "[81]\ttrain-rmse:0.18110\tval-rmse:0.23586\n",
      "[82]\ttrain-rmse:0.18036\tval-rmse:0.23567\n",
      "[83]\ttrain-rmse:0.17949\tval-rmse:0.23527\n",
      "[84]\ttrain-rmse:0.17910\tval-rmse:0.23516\n",
      "[85]\ttrain-rmse:0.17807\tval-rmse:0.23475\n",
      "[86]\ttrain-rmse:0.17739\tval-rmse:0.23449\n",
      "[87]\ttrain-rmse:0.17664\tval-rmse:0.23412\n",
      "[88]\ttrain-rmse:0.17601\tval-rmse:0.23395\n",
      "[89]\ttrain-rmse:0.17510\tval-rmse:0.23353\n",
      "[90]\ttrain-rmse:0.17418\tval-rmse:0.23307\n",
      "[91]\ttrain-rmse:0.17374\tval-rmse:0.23291\n",
      "[92]\ttrain-rmse:0.17309\tval-rmse:0.23271\n",
      "[93]\ttrain-rmse:0.17258\tval-rmse:0.23280\n",
      "[94]\ttrain-rmse:0.17174\tval-rmse:0.23259\n",
      "[95]\ttrain-rmse:0.17149\tval-rmse:0.23258\n",
      "[96]\ttrain-rmse:0.17096\tval-rmse:0.23244\n",
      "[97]\ttrain-rmse:0.17065\tval-rmse:0.23245\n",
      "[98]\ttrain-rmse:0.17037\tval-rmse:0.23238\n",
      "[99]\ttrain-rmse:0.17000\tval-rmse:0.23234\n"
     ]
    }
   ],
   "source": [
    "xgb_params = {\n",
    "    'eta': 0.1, \n",
    "    'max_depth': 6,\n",
    "    'min_child_weight': 1,\n",
    "    \n",
    "    'objective': 'reg:squarederror',\n",
    "    'nthread': 8,\n",
    "    \n",
    "    'seed': 1,\n",
    "    'verbosity': 1,\n",
    "}\n",
    "\n",
    "watchlist = [(dtrain, 'train'), (dval, 'val')]\n",
    "\n",
    "model = xgb.train(xgb_params, dtrain, num_boost_round=100,\n",
    "                  verbose_eval=1,\n",
    "                  evals=watchlist)"
   ]
  },
  {
   "cell_type": "markdown",
   "id": "9268b288-e1b1-4fd6-b4f0-6caa58312445",
   "metadata": {},
   "source": [
    "answer: 0.3 gives the best val-rmse"
   ]
  },
  {
   "cell_type": "code",
   "execution_count": null,
   "id": "89d6a79a-de6e-4d19-83f8-0453a55fa3c2",
   "metadata": {},
   "outputs": [],
   "source": []
  }
 ],
 "metadata": {
  "kernelspec": {
   "display_name": "Python 3 (ipykernel)",
   "language": "python",
   "name": "python3"
  },
  "language_info": {
   "codemirror_mode": {
    "name": "ipython",
    "version": 3
   },
   "file_extension": ".py",
   "mimetype": "text/x-python",
   "name": "python",
   "nbconvert_exporter": "python",
   "pygments_lexer": "ipython3",
   "version": "3.9.17"
  }
 },
 "nbformat": 4,
 "nbformat_minor": 5
}
