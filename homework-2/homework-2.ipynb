{
 "cells": [
  {
   "cell_type": "code",
   "execution_count": 79,
   "id": "8b3e4e04-1567-442e-89ac-d209502ea655",
   "metadata": {},
   "outputs": [],
   "source": [
    "import numpy as np\n",
    "import pandas as pd\n",
    "\n",
    "from sklearn.linear_model import LinearRegression\n",
    "from sklearn.metrics import mean_squared_error\n",
    "\n",
    "import matplotlib.pyplot as plt"
   ]
  },
  {
   "cell_type": "code",
   "execution_count": 12,
   "id": "9d4e9c07-21ad-484c-80e9-436faa9e92d1",
   "metadata": {},
   "outputs": [
    {
     "name": "stdout",
     "output_type": "stream",
     "text": [
      "--2023-09-18 01:54:48--  https://raw.githubusercontent.com/alexeygrigorev/datasets/master/housing.csv\n",
      "Resolving raw.githubusercontent.com (raw.githubusercontent.com)... 2606:50c0:8002::154, 2606:50c0:8001::154, 2606:50c0:8000::154, ...\n",
      "Connecting to raw.githubusercontent.com (raw.githubusercontent.com)|2606:50c0:8002::154|:443... connected.\n",
      "HTTP request sent, awaiting response... 200 OK\n",
      "Length: 1423529 (1.4M) [text/plain]\n",
      "Saving to: ‘data/housing.csv’\n",
      "\n",
      "housing.csv         100%[===================>]   1.36M  6.73MB/s    in 0.2s    \n",
      "\n",
      "2023-09-18 01:54:49 (6.73 MB/s) - ‘data/housing.csv’ saved [1423529/1423529]\n",
      "\n"
     ]
    }
   ],
   "source": [
    "!wget -P data https://raw.githubusercontent.com/alexeygrigorev/datasets/master/housing.csv"
   ]
  },
  {
   "cell_type": "markdown",
   "id": "0957670c-5aaa-4660-ac7e-298cf6931a44",
   "metadata": {},
   "source": [
    "The goal of this homework is to create a regression model for predicting housing prices (column `'median_house_value'`).\n",
    "\n",
    "### EDA\n",
    "\n",
    "* Load the data.\n",
    "* Look at the `median_house_value` variable. Does it have a long tail? \n",
    "\n",
    "\n",
    "### Preparing the dataset \n",
    "\n",
    "For this homework, we only want to use a subset of data. \n",
    "\n",
    "First, keep only the records where `ocean_proximity` is either `'<1H OCEAN'` or `'INLAND'`\n",
    "\n",
    "Next, use only the following columns:\n",
    "\n",
    "* `'latitude'`,\n",
    "* `'longitude'`,\n",
    "* `'housing_median_age'`,\n",
    "* `'total_rooms'`,\n",
    "* `'total_bedrooms'`,\n",
    "* `'population'`,\n",
    "* `'households'`,\n",
    "* `'median_income'`,\n",
    "* `'median_house_value'`\n"
   ]
  },
  {
   "cell_type": "code",
   "execution_count": 95,
   "id": "6706ce0d-15a9-4f23-a34d-60aaa53320ef",
   "metadata": {},
   "outputs": [
    {
     "data": {
      "text/html": [
       "<div>\n",
       "<style scoped>\n",
       "    .dataframe tbody tr th:only-of-type {\n",
       "        vertical-align: middle;\n",
       "    }\n",
       "\n",
       "    .dataframe tbody tr th {\n",
       "        vertical-align: top;\n",
       "    }\n",
       "\n",
       "    .dataframe thead th {\n",
       "        text-align: right;\n",
       "    }\n",
       "</style>\n",
       "<table border=\"1\" class=\"dataframe\">\n",
       "  <thead>\n",
       "    <tr style=\"text-align: right;\">\n",
       "      <th></th>\n",
       "      <th>longitude</th>\n",
       "      <th>latitude</th>\n",
       "      <th>housing_median_age</th>\n",
       "      <th>total_rooms</th>\n",
       "      <th>total_bedrooms</th>\n",
       "      <th>population</th>\n",
       "      <th>households</th>\n",
       "      <th>median_income</th>\n",
       "      <th>median_house_value</th>\n",
       "      <th>ocean_proximity</th>\n",
       "    </tr>\n",
       "  </thead>\n",
       "  <tbody>\n",
       "    <tr>\n",
       "      <th>0</th>\n",
       "      <td>-122.23</td>\n",
       "      <td>37.88</td>\n",
       "      <td>41.0</td>\n",
       "      <td>880.0</td>\n",
       "      <td>129.0</td>\n",
       "      <td>322.0</td>\n",
       "      <td>126.0</td>\n",
       "      <td>8.3252</td>\n",
       "      <td>452600.0</td>\n",
       "      <td>NEAR BAY</td>\n",
       "    </tr>\n",
       "    <tr>\n",
       "      <th>1</th>\n",
       "      <td>-122.22</td>\n",
       "      <td>37.86</td>\n",
       "      <td>21.0</td>\n",
       "      <td>7099.0</td>\n",
       "      <td>1106.0</td>\n",
       "      <td>2401.0</td>\n",
       "      <td>1138.0</td>\n",
       "      <td>8.3014</td>\n",
       "      <td>358500.0</td>\n",
       "      <td>NEAR BAY</td>\n",
       "    </tr>\n",
       "    <tr>\n",
       "      <th>2</th>\n",
       "      <td>-122.24</td>\n",
       "      <td>37.85</td>\n",
       "      <td>52.0</td>\n",
       "      <td>1467.0</td>\n",
       "      <td>190.0</td>\n",
       "      <td>496.0</td>\n",
       "      <td>177.0</td>\n",
       "      <td>7.2574</td>\n",
       "      <td>352100.0</td>\n",
       "      <td>NEAR BAY</td>\n",
       "    </tr>\n",
       "    <tr>\n",
       "      <th>3</th>\n",
       "      <td>-122.25</td>\n",
       "      <td>37.85</td>\n",
       "      <td>52.0</td>\n",
       "      <td>1274.0</td>\n",
       "      <td>235.0</td>\n",
       "      <td>558.0</td>\n",
       "      <td>219.0</td>\n",
       "      <td>5.6431</td>\n",
       "      <td>341300.0</td>\n",
       "      <td>NEAR BAY</td>\n",
       "    </tr>\n",
       "    <tr>\n",
       "      <th>4</th>\n",
       "      <td>-122.25</td>\n",
       "      <td>37.85</td>\n",
       "      <td>52.0</td>\n",
       "      <td>1627.0</td>\n",
       "      <td>280.0</td>\n",
       "      <td>565.0</td>\n",
       "      <td>259.0</td>\n",
       "      <td>3.8462</td>\n",
       "      <td>342200.0</td>\n",
       "      <td>NEAR BAY</td>\n",
       "    </tr>\n",
       "  </tbody>\n",
       "</table>\n",
       "</div>"
      ],
      "text/plain": [
       "   longitude  latitude  housing_median_age  total_rooms  total_bedrooms  \\\n",
       "0    -122.23     37.88                41.0        880.0           129.0   \n",
       "1    -122.22     37.86                21.0       7099.0          1106.0   \n",
       "2    -122.24     37.85                52.0       1467.0           190.0   \n",
       "3    -122.25     37.85                52.0       1274.0           235.0   \n",
       "4    -122.25     37.85                52.0       1627.0           280.0   \n",
       "\n",
       "   population  households  median_income  median_house_value ocean_proximity  \n",
       "0       322.0       126.0         8.3252            452600.0        NEAR BAY  \n",
       "1      2401.0      1138.0         8.3014            358500.0        NEAR BAY  \n",
       "2       496.0       177.0         7.2574            352100.0        NEAR BAY  \n",
       "3       558.0       219.0         5.6431            341300.0        NEAR BAY  \n",
       "4       565.0       259.0         3.8462            342200.0        NEAR BAY  "
      ]
     },
     "execution_count": 95,
     "metadata": {},
     "output_type": "execute_result"
    }
   ],
   "source": [
    "df = pd.read_csv(\"data/housing.csv\")\n",
    "\n",
    "df.head()"
   ]
  },
  {
   "cell_type": "code",
   "execution_count": 96,
   "id": "2a3d9287-167b-4d68-b4af-4c19d7f99067",
   "metadata": {},
   "outputs": [
    {
     "data": {
      "text/plain": [
       "(array([ 877., 3612., 4099., 3771., 2799., 1769., 1239.,  752.,  479.,\n",
       "        1243.]),\n",
       " array([ 14999. ,  63499.2, 111999.4, 160499.6, 208999.8, 257500. ,\n",
       "        306000.2, 354500.4, 403000.6, 451500.8, 500001. ]),\n",
       " <BarContainer object of 10 artists>)"
      ]
     },
     "execution_count": 96,
     "metadata": {},
     "output_type": "execute_result"
    },
    {
     "data": {
      "image/png": "[encoded data removed]",
      "text/plain": [
       "<Figure size 640x480 with 1 Axes>"
      ]
     },
     "metadata": {},
     "output_type": "display_data"
    }
   ],
   "source": [
    "# Look at the median_house_value variable. Does it have a long tail?\n",
    "\n",
    "plt.hist(df.median_house_value)"
   ]
  },
  {
   "cell_type": "code",
   "execution_count": 97,
   "id": "7d21b639-f528-4f57-98be-fb77e4b20e39",
   "metadata": {},
   "outputs": [
    {
     "data": {
      "text/plain": [
       "(20640, 10)"
      ]
     },
     "execution_count": 97,
     "metadata": {},
     "output_type": "execute_result"
    }
   ],
   "source": [
    "df.shape"
   ]
  },
  {
   "cell_type": "code",
   "execution_count": 98,
   "id": "e8da6900-1347-4ae9-ac12-2dfdc9e750ac",
   "metadata": {},
   "outputs": [],
   "source": [
    "# First, keep only the records where ocean_proximity is either '<1H OCEAN' or 'INLAND'\n",
    "df = df.loc[(df['ocean_proximity'] == '<1H OCEAN') | (df['ocean_proximity'] == 'INLAND')]"
   ]
  },
  {
   "cell_type": "code",
   "execution_count": 99,
   "id": "9787e3b6-f227-4be9-ad2c-e85926fced05",
   "metadata": {},
   "outputs": [
    {
     "data": {
      "text/plain": [
       "array(['<1H OCEAN', 'INLAND'], dtype=object)"
      ]
     },
     "execution_count": 99,
     "metadata": {},
     "output_type": "execute_result"
    }
   ],
   "source": [
    "df.ocean_proximity.unique()"
   ]
  },
  {
   "cell_type": "code",
   "execution_count": 100,
   "id": "1ecade43-fb24-44c4-a222-9c29cb4bafe2",
   "metadata": {},
   "outputs": [],
   "source": [
    "cols_used = ['latitude',\n",
    "'longitude',\n",
    "'housing_median_age',\n",
    "'total_rooms',\n",
    "'total_bedrooms',\n",
    "'population',\n",
    "'households',\n",
    "'median_income',\n",
    "'median_house_value']"
   ]
  },
  {
   "cell_type": "code",
   "execution_count": 101,
   "id": "0aea9bb8-1290-4b8f-bd3d-56334b05ddca",
   "metadata": {},
   "outputs": [],
   "source": [
    "df = df[cols_used]"
   ]
  },
  {
   "cell_type": "code",
   "execution_count": 102,
   "id": "ed387785-8ede-4785-b14e-427048e5644c",
   "metadata": {},
   "outputs": [
    {
     "data": {
      "text/plain": [
       "(15687, 9)"
      ]
     },
     "execution_count": 102,
     "metadata": {},
     "output_type": "execute_result"
    }
   ],
   "source": [
    "df.shape"
   ]
  },
  {
   "cell_type": "markdown",
   "id": "93ba7cb9-da84-4d38-98ab-e90608dd8c20",
   "metadata": {},
   "source": [
    "### Question 1\n",
    "\n",
    "There's one feature with missing values. What is it?\n",
    "\n",
    "* `total_rooms`\n",
    "* `total_bedrooms`\n",
    "* `population`\n",
    "* `households`"
   ]
  },
  {
   "cell_type": "code",
   "execution_count": 103,
   "id": "633f1336-ec86-4f7f-a45e-a371e4fcacb2",
   "metadata": {},
   "outputs": [
    {
     "data": {
      "text/plain": [
       "latitude                0\n",
       "longitude               0\n",
       "housing_median_age      0\n",
       "total_rooms             0\n",
       "total_bedrooms        157\n",
       "population              0\n",
       "households              0\n",
       "median_income           0\n",
       "median_house_value      0\n",
       "dtype: int64"
      ]
     },
     "execution_count": 103,
     "metadata": {},
     "output_type": "execute_result"
    }
   ],
   "source": [
    "df.isna().sum()"
   ]
  },
  {
   "cell_type": "markdown",
   "id": "c5c29ec9-954d-45f9-b7e4-795d07c65c5e",
   "metadata": {},
   "source": [
    "answer: total_bedrooms"
   ]
  },
  {
   "cell_type": "markdown",
   "id": "676e0ddb-8279-43ab-a31f-86625cd09084",
   "metadata": {},
   "source": [
    "### Question 2\n",
    "\n",
    "What's the median (50% percentile) for variable `'population'`?\n",
    "\n",
    "- 995\n",
    "- 1095\n",
    "- 1195\n",
    "- 1295\n"
   ]
  },
  {
   "cell_type": "code",
   "execution_count": 104,
   "id": "176fb1c9-30b9-413a-a58a-20775b949e09",
   "metadata": {},
   "outputs": [
    {
     "data": {
      "text/plain": [
       "1195.0"
      ]
     },
     "execution_count": 104,
     "metadata": {},
     "output_type": "execute_result"
    }
   ],
   "source": [
    "df['population'].quantile(.5)"
   ]
  },
  {
   "cell_type": "code",
   "execution_count": 105,
   "id": "e9c1b3c7-26c5-4d43-a88b-22a5cda07d47",
   "metadata": {},
   "outputs": [
    {
     "data": {
      "text/plain": [
       "1195.0"
      ]
     },
     "execution_count": 105,
     "metadata": {},
     "output_type": "execute_result"
    }
   ],
   "source": [
    "df['population'].median()"
   ]
  },
  {
   "cell_type": "markdown",
   "id": "97ab43bb-bc2a-43e5-bc4e-aa98150a42ad",
   "metadata": {},
   "source": [
    "answer: 1195"
   ]
  },
  {
   "cell_type": "markdown",
   "id": "ef887287-a5ab-4de7-b1dc-2e34c63dbdc7",
   "metadata": {},
   "source": [
    "### Prepare and split the dataset\n",
    "\n",
    "* Shuffle the initial dataset, use seed `42`.\n",
    "* Split your data in train/val/test sets, with 60%/20%/20% distribution.\n",
    "* Apply the log transformation to the `median_house_value` variable using the `np.log1p()` function."
   ]
  },
  {
   "cell_type": "code",
   "execution_count": 106,
   "id": "9bc09ba5-8c1c-47dd-baa2-4fb6ea96745d",
   "metadata": {},
   "outputs": [
    {
     "data": {
      "text/plain": [
       "Index([701, 830, 859, 860, 861, 862, 863, 870, 880, 881], dtype='int64')"
      ]
     },
     "execution_count": 106,
     "metadata": {},
     "output_type": "execute_result"
    }
   ],
   "source": [
    "df.index[:10]"
   ]
  },
  {
   "cell_type": "code",
   "execution_count": 107,
   "id": "ff8f8f3b-8a44-4365-880f-dd3c8364ac49",
   "metadata": {},
   "outputs": [],
   "source": [
    "def prepare_data(df):\n",
    "    np.random.seed(42)\n",
    "    \n",
    "    df = df.copy()\n",
    "\n",
    "    shuffled_idx = np.arange(len(df))\n",
    "    np.random.shuffle(shuffled_idx)\n",
    "\n",
    "    val_len = test_len = int(len(df) * 0.2)\n",
    "    train_len = len(df) - val_len - test_len\n",
    "    \n",
    "    train_idx = shuffled_idx[:train_len]\n",
    "    val_idx = shuffled_idx[train_len:train_len + val_len]\n",
    "    test_idx = shuffled_idx[train_len + val_len:]\n",
    "\n",
    "    df['median_house_value'] = np.log1p(df['median_house_value'])\n",
    "\n",
    "    df_train = df.iloc[train_idx]\n",
    "    df_val = df.iloc[val_idx]\n",
    "    df_test = df.iloc[test_idx]\n",
    "\n",
    "    y_train = df_train['median_house_value'].values\n",
    "    y_val = df_val['median_house_value'].values\n",
    "    y_test = df_test['median_house_value'].values\n",
    "\n",
    "    del df_train['median_house_value']\n",
    "    del df_val['median_house_value']\n",
    "    del df_test['median_house_value']\n",
    "\n",
    "    return df_train, df_val, df_test, y_train, y_val, y_test\n",
    "\n",
    "\n",
    "    "
   ]
  },
  {
   "cell_type": "code",
   "execution_count": 108,
   "id": "3518ab6c-9a77-4b04-8bf7-8200f75fe61b",
   "metadata": {},
   "outputs": [],
   "source": [
    "df_train, df_val, df_test, y_train, y_val, y_test = prepare_data(df)"
   ]
  },
  {
   "cell_type": "code",
   "execution_count": 109,
   "id": "d77bd74f-cc1f-4496-aee3-67a7dfbf4046",
   "metadata": {},
   "outputs": [
    {
     "data": {
      "text/plain": [
       "(9413, 3137, 3137)"
      ]
     },
     "execution_count": 109,
     "metadata": {},
     "output_type": "execute_result"
    }
   ],
   "source": [
    "len(df_train), len(df_val), len(df_test)"
   ]
  },
  {
   "cell_type": "code",
   "execution_count": 110,
   "id": "dc0570f5-bca1-4722-9e94-2ac9fb91ced0",
   "metadata": {},
   "outputs": [
    {
     "data": {
      "text/plain": [
       "(9413, 3137, 3137)"
      ]
     },
     "execution_count": 110,
     "metadata": {},
     "output_type": "execute_result"
    }
   ],
   "source": [
    "len(y_train), len(y_val), len(y_test)"
   ]
  },
  {
   "cell_type": "code",
   "execution_count": 111,
   "id": "4c242ffb-bbbf-4e80-8c9d-b7337a036851",
   "metadata": {},
   "outputs": [
    {
     "data": {
      "text/html": [
       "<div>\n",
       "<style scoped>\n",
       "    .dataframe tbody tr th:only-of-type {\n",
       "        vertical-align: middle;\n",
       "    }\n",
       "\n",
       "    .dataframe tbody tr th {\n",
       "        vertical-align: top;\n",
       "    }\n",
       "\n",
       "    .dataframe thead th {\n",
       "        text-align: right;\n",
       "    }\n",
       "</style>\n",
       "<table border=\"1\" class=\"dataframe\">\n",
       "  <thead>\n",
       "    <tr style=\"text-align: right;\">\n",
       "      <th></th>\n",
       "      <th>latitude</th>\n",
       "      <th>longitude</th>\n",
       "      <th>housing_median_age</th>\n",
       "      <th>total_rooms</th>\n",
       "      <th>total_bedrooms</th>\n",
       "      <th>population</th>\n",
       "      <th>households</th>\n",
       "      <th>median_income</th>\n",
       "    </tr>\n",
       "  </thead>\n",
       "  <tbody>\n",
       "    <tr>\n",
       "      <th>19963</th>\n",
       "      <td>36.23</td>\n",
       "      <td>-119.14</td>\n",
       "      <td>22.0</td>\n",
       "      <td>2935.0</td>\n",
       "      <td>523.0</td>\n",
       "      <td>1927.0</td>\n",
       "      <td>530.0</td>\n",
       "      <td>2.5875</td>\n",
       "    </tr>\n",
       "    <tr>\n",
       "      <th>5929</th>\n",
       "      <td>34.12</td>\n",
       "      <td>-117.79</td>\n",
       "      <td>16.0</td>\n",
       "      <td>2426.0</td>\n",
       "      <td>426.0</td>\n",
       "      <td>1319.0</td>\n",
       "      <td>446.0</td>\n",
       "      <td>4.8125</td>\n",
       "    </tr>\n",
       "    <tr>\n",
       "      <th>11377</th>\n",
       "      <td>33.68</td>\n",
       "      <td>-117.97</td>\n",
       "      <td>26.0</td>\n",
       "      <td>3653.0</td>\n",
       "      <td>568.0</td>\n",
       "      <td>1930.0</td>\n",
       "      <td>585.0</td>\n",
       "      <td>5.7301</td>\n",
       "    </tr>\n",
       "    <tr>\n",
       "      <th>6443</th>\n",
       "      <td>34.10</td>\n",
       "      <td>-118.03</td>\n",
       "      <td>32.0</td>\n",
       "      <td>2668.0</td>\n",
       "      <td>609.0</td>\n",
       "      <td>1512.0</td>\n",
       "      <td>541.0</td>\n",
       "      <td>2.9422</td>\n",
       "    </tr>\n",
       "    <tr>\n",
       "      <th>17546</th>\n",
       "      <td>37.34</td>\n",
       "      <td>-121.87</td>\n",
       "      <td>39.0</td>\n",
       "      <td>2479.0</td>\n",
       "      <td>541.0</td>\n",
       "      <td>1990.0</td>\n",
       "      <td>506.0</td>\n",
       "      <td>2.4306</td>\n",
       "    </tr>\n",
       "    <tr>\n",
       "      <th>...</th>\n",
       "      <td>...</td>\n",
       "      <td>...</td>\n",
       "      <td>...</td>\n",
       "      <td>...</td>\n",
       "      <td>...</td>\n",
       "      <td>...</td>\n",
       "      <td>...</td>\n",
       "      <td>...</td>\n",
       "    </tr>\n",
       "    <tr>\n",
       "      <th>20157</th>\n",
       "      <td>34.44</td>\n",
       "      <td>-119.15</td>\n",
       "      <td>33.0</td>\n",
       "      <td>2005.0</td>\n",
       "      <td>392.0</td>\n",
       "      <td>1043.0</td>\n",
       "      <td>351.0</td>\n",
       "      <td>5.3080</td>\n",
       "    </tr>\n",
       "    <tr>\n",
       "      <th>20005</th>\n",
       "      <td>36.13</td>\n",
       "      <td>-119.13</td>\n",
       "      <td>28.0</td>\n",
       "      <td>1673.0</td>\n",
       "      <td>385.0</td>\n",
       "      <td>1434.0</td>\n",
       "      <td>371.0</td>\n",
       "      <td>2.0586</td>\n",
       "    </tr>\n",
       "    <tr>\n",
       "      <th>6691</th>\n",
       "      <td>34.13</td>\n",
       "      <td>-118.08</td>\n",
       "      <td>46.0</td>\n",
       "      <td>1238.0</td>\n",
       "      <td>147.0</td>\n",
       "      <td>377.0</td>\n",
       "      <td>145.0</td>\n",
       "      <td>8.4546</td>\n",
       "    </tr>\n",
       "    <tr>\n",
       "      <th>3470</th>\n",
       "      <td>34.29</td>\n",
       "      <td>-118.46</td>\n",
       "      <td>24.0</td>\n",
       "      <td>3668.0</td>\n",
       "      <td>890.0</td>\n",
       "      <td>3151.0</td>\n",
       "      <td>810.0</td>\n",
       "      <td>3.0526</td>\n",
       "    </tr>\n",
       "    <tr>\n",
       "      <th>5498</th>\n",
       "      <td>34.00</td>\n",
       "      <td>-118.41</td>\n",
       "      <td>18.0</td>\n",
       "      <td>1307.0</td>\n",
       "      <td>441.0</td>\n",
       "      <td>884.0</td>\n",
       "      <td>456.0</td>\n",
       "      <td>2.9338</td>\n",
       "    </tr>\n",
       "  </tbody>\n",
       "</table>\n",
       "<p>9413 rows × 8 columns</p>\n",
       "</div>"
      ],
      "text/plain": [
       "       latitude  longitude  housing_median_age  total_rooms  total_bedrooms  \\\n",
       "19963     36.23    -119.14                22.0       2935.0           523.0   \n",
       "5929      34.12    -117.79                16.0       2426.0           426.0   \n",
       "11377     33.68    -117.97                26.0       3653.0           568.0   \n",
       "6443      34.10    -118.03                32.0       2668.0           609.0   \n",
       "17546     37.34    -121.87                39.0       2479.0           541.0   \n",
       "...         ...        ...                 ...          ...             ...   \n",
       "20157     34.44    -119.15                33.0       2005.0           392.0   \n",
       "20005     36.13    -119.13                28.0       1673.0           385.0   \n",
       "6691      34.13    -118.08                46.0       1238.0           147.0   \n",
       "3470      34.29    -118.46                24.0       3668.0           890.0   \n",
       "5498      34.00    -118.41                18.0       1307.0           441.0   \n",
       "\n",
       "       population  households  median_income  \n",
       "19963      1927.0       530.0         2.5875  \n",
       "5929       1319.0       446.0         4.8125  \n",
       "11377      1930.0       585.0         5.7301  \n",
       "6443       1512.0       541.0         2.9422  \n",
       "17546      1990.0       506.0         2.4306  \n",
       "...           ...         ...            ...  \n",
       "20157      1043.0       351.0         5.3080  \n",
       "20005      1434.0       371.0         2.0586  \n",
       "6691        377.0       145.0         8.4546  \n",
       "3470       3151.0       810.0         3.0526  \n",
       "5498        884.0       456.0         2.9338  \n",
       "\n",
       "[9413 rows x 8 columns]"
      ]
     },
     "execution_count": 111,
     "metadata": {},
     "output_type": "execute_result"
    }
   ],
   "source": [
    "df_train"
   ]
  },
  {
   "cell_type": "markdown",
   "id": "9897d662-c425-48f0-88de-428812ec291d",
   "metadata": {},
   "source": [
    "### Question 3\n",
    "\n",
    "* We need to deal with missing values for the column from Q1.\n",
    "* We have two options: fill it with 0 or with the mean of this variable.\n",
    "* Try both options. For each, train a linear regression model without regularization using the code from the lessons.\n",
    "* For computing the mean, use the training only!\n",
    "* Use the validation dataset to evaluate the models and compare the RMSE of each option.\n",
    "* Round the RMSE scores to 2 decimal digits using `round(score, 2)`\n",
    "* Which option gives better RMSE?\n",
    "\n",
    "Options:\n",
    "\n",
    "- With 0\n",
    "- With mean\n",
    "- Both are equally good"
   ]
  },
  {
   "cell_type": "code",
   "execution_count": 112,
   "id": "85191662-c7d5-42d9-89e5-7ac70af90b26",
   "metadata": {},
   "outputs": [
    {
     "data": {
      "text/plain": [
       "542.552956325786"
      ]
     },
     "execution_count": 112,
     "metadata": {},
     "output_type": "execute_result"
    }
   ],
   "source": [
    "mean_total_bedrooms = df_train['total_bedrooms'].mean()\n",
    "mean_total_bedrooms"
   ]
  },
  {
   "cell_type": "code",
   "execution_count": 121,
   "id": "5a72a38a-97b8-4401-985d-b43e38ec5dbf",
   "metadata": {},
   "outputs": [],
   "source": [
    "# rmse when filling missing values with 0\n",
    "\n",
    "def fill_0(df_train, df_val, y_train, y_val):\n",
    "\n",
    "    df_train = df_train.copy()\n",
    "    df_val = df_val.copy()\n",
    "    \n",
    "    df_train['total_bedrooms'] = df_train['total_bedrooms'].fillna(0)\n",
    "    df_val['total_bedrooms'] = df_val['total_bedrooms'].fillna(0)\n",
    "    \n",
    "    lr = LinearRegression()\n",
    "    lr.fit(df_train, y_train)\n",
    "    y_pred = lr.predict(df_val)\n",
    "\n",
    "    rmse = mean_squared_error(y_val, y_pred, squared=False)\n",
    "\n",
    "    return round(rmse, 2)\n",
    "\n",
    "    \n",
    "\n",
    "    "
   ]
  },
  {
   "cell_type": "code",
   "execution_count": 122,
   "id": "1c7b6f95-3cb9-4225-aefd-9aa2cefcef1e",
   "metadata": {},
   "outputs": [
    {
     "data": {
      "text/plain": [
       "0.34"
      ]
     },
     "execution_count": 122,
     "metadata": {},
     "output_type": "execute_result"
    }
   ],
   "source": [
    "fill_0(df_train, df_val, y_train, y_val)"
   ]
  },
  {
   "cell_type": "code",
   "execution_count": 115,
   "id": "995ba425-40a3-43ff-bf7c-8a20d53041bb",
   "metadata": {},
   "outputs": [
    {
     "data": {
      "text/plain": [
       "latitude               0\n",
       "longitude              0\n",
       "housing_median_age     0\n",
       "total_rooms            0\n",
       "total_bedrooms        94\n",
       "population             0\n",
       "households             0\n",
       "median_income          0\n",
       "dtype: int64"
      ]
     },
     "execution_count": 115,
     "metadata": {},
     "output_type": "execute_result"
    }
   ],
   "source": [
    "df_train.isna().sum()"
   ]
  },
  {
   "cell_type": "code",
   "execution_count": 116,
   "id": "5e6ce208-7e17-4fec-9ebb-e7b445785840",
   "metadata": {},
   "outputs": [
    {
     "data": {
      "text/plain": [
       "542.552956325786"
      ]
     },
     "execution_count": 116,
     "metadata": {},
     "output_type": "execute_result"
    }
   ],
   "source": [
    "df_train['total_bedrooms'].mean()"
   ]
  },
  {
   "cell_type": "code",
   "execution_count": 123,
   "id": "875c0486-c264-4adb-941b-dde2350d5d2f",
   "metadata": {},
   "outputs": [],
   "source": [
    "# rmse when filling missing values with mean \n",
    "\n",
    "def fill_mean(df_train, df_val, y_train, y_val):\n",
    "\n",
    "    df_train = df_train.copy()\n",
    "    df_val = df_val.copy()\n",
    "    \n",
    "    mean_total_bedrooms = df_train['total_bedrooms'].mean()\n",
    "    \n",
    "    df_train['total_bedrooms'] = df_train['total_bedrooms'].fillna(mean_total_bedrooms)\n",
    "    df_val['total_bedrooms'] = df_val['total_bedrooms'].fillna(mean_total_bedrooms)\n",
    "    \n",
    "    lr = LinearRegression()\n",
    "    lr.fit(df_train, y_train)\n",
    "    y_pred = lr.predict(df_val)\n",
    "\n",
    "    rmse = mean_squared_error(y_val, y_pred, squared=False)\n",
    "\n",
    "    return round(rmse, 2)\n"
   ]
  },
  {
   "cell_type": "code",
   "execution_count": 124,
   "id": "f1969c2f-9359-4153-82cc-4b996fe8c70d",
   "metadata": {},
   "outputs": [
    {
     "data": {
      "text/plain": [
       "0.34"
      ]
     },
     "execution_count": 124,
     "metadata": {},
     "output_type": "execute_result"
    }
   ],
   "source": [
    "fill_mean(df_train, df_val, y_train, y_val)"
   ]
  },
  {
   "cell_type": "markdown",
   "id": "707354de-4d7f-4f92-83be-809c0027b4b0",
   "metadata": {},
   "source": [
    "answer: Both are equally good"
   ]
  },
  {
   "cell_type": "markdown",
   "id": "563b59fb-030a-402a-b855-75c1e508322d",
   "metadata": {},
   "source": [
    "### Question 4\n",
    "\n",
    "* Now let's train a regularized linear regression.\n",
    "* For this question, fill the NAs with 0. \n",
    "* Try different values of `r` from this list: `[0, 0.000001, 0.0001, 0.001, 0.01, 0.1, 1, 5, 10]`.\n",
    "* Use RMSE to evaluate the model on the validation dataset.\n",
    "* Round the RMSE scores to 2 decimal digits.\n",
    "* Which `r` gives the best RMSE?\n",
    "\n",
    "If there are multiple options, select the smallest `r`.\n",
    "\n",
    "Options:\n",
    "\n",
    "- 0\n",
    "- 0.000001\n",
    "- 0.001\n",
    "- 0.0001"
   ]
  },
  {
   "cell_type": "code",
   "execution_count": 129,
   "id": "3a5a1516-0f46-47a1-9964-22e820229d5f",
   "metadata": {},
   "outputs": [],
   "source": [
    "def train_linear_regression_reg(X, y, r=0.001):\n",
    "    ones = np.ones(X.shape[0])\n",
    "    X = np.column_stack([ones, X])\n",
    "\n",
    "    XTX = X.T.dot(X)\n",
    "    XTX = XTX + r * np.eye(XTX.shape[0])\n",
    "\n",
    "    XTX_inv = np.linalg.inv(XTX)\n",
    "    w_full = XTX_inv.dot(X.T).dot(y)\n",
    "    \n",
    "    return w_full[0], w_full[1:]"
   ]
  },
  {
   "cell_type": "code",
   "execution_count": 130,
   "id": "44fc99ee-4ea3-471a-8a10-d7e1970991f9",
   "metadata": {},
   "outputs": [],
   "source": [
    "def linear_regression_reg_score(X_train, X_val, y_train, y_val, r):\n",
    "    \n",
    "    X_train = X_train.copy()\n",
    "    X_val = X_val.copy()\n",
    "    \n",
    "    X_train = X_train.fillna(0)\n",
    "    X_val = X_val.fillna(0)\n",
    "    \n",
    "    w0, w = train_linear_regression_reg(X_train, y_train, r=r)\n",
    "    \n",
    "   \n",
    "    y_pred = w0 + X_val.dot(w)\n",
    "    rmse = mean_squared_error(y_val, y_pred, squared=False)\n",
    "\n",
    "    return rmse"
   ]
  },
  {
   "cell_type": "code",
   "execution_count": 132,
   "id": "f2ade224-5984-4896-9183-5e7ca00a995b",
   "metadata": {},
   "outputs": [
    {
     "name": "stdout",
     "output_type": "stream",
     "text": [
      "r: 0 -----> rmse: 0.34\n",
      "r: 1e-06 -----> rmse: 0.34\n",
      "r: 0.0001 -----> rmse: 0.34\n",
      "r: 0.001 -----> rmse: 0.34\n",
      "r: 0.01 -----> rmse: 0.34\n",
      "r: 0.1 -----> rmse: 0.34\n",
      "r: 1 -----> rmse: 0.34\n",
      "r: 5 -----> rmse: 0.35\n",
      "r: 10 -----> rmse: 0.35\n"
     ]
    }
   ],
   "source": [
    "for r in  [0, 0.000001, 0.0001, 0.001, 0.01, 0.1, 1, 5, 10]:\n",
    "    rmse = round(linear_regression_reg_score(df_train, df_val, y_train, y_val, r), 2)\n",
    "    print(f\"r: {r} -----> rmse: {rmse}\")"
   ]
  },
  {
   "cell_type": "markdown",
   "id": "41a4438a-8ebc-4a58-94c2-b4d96a9e3a9e",
   "metadata": {},
   "source": [
    "answer: 0"
   ]
  },
  {
   "cell_type": "markdown",
   "id": "31580b43-26af-432c-a94b-f1c4f674a5c0",
   "metadata": {},
   "source": [
    "### Question 5 \n",
    "\n",
    "* We used seed 42 for splitting the data. Let's find out how selecting the seed influences our score.\n",
    "* Try different seed values: `[0, 1, 2, 3, 4, 5, 6, 7, 8, 9]`.\n",
    "* For each seed, do the train/validation/test split with 60%/20%/20% distribution.\n",
    "* Fill the missing values with 0 and train a model without regularization.\n",
    "* For each seed, evaluate the model on the validation dataset and collect the RMSE scores. \n",
    "* What's the standard deviation of all the scores? To compute the standard deviation, use `np.std`.\n",
    "* Round the result to 3 decimal digits (`round(std, 3)`)\n",
    "\n",
    "> Note: Standard deviation shows how different the values are.\n",
    "> If it's low, then all values are approximately the same.\n",
    "> If it's high, the values are different. \n",
    "> If standard deviation of scores is low, then our model is *stable*.\n",
    "\n",
    "What's the value of std?\n",
    "\n",
    "- TODO"
   ]
  },
  {
   "cell_type": "code",
   "execution_count": 133,
   "id": "7bf3447a-ab80-4878-9442-23470a26b900",
   "metadata": {},
   "outputs": [],
   "source": [
    "def prepare_data(df, seed):\n",
    "    np.random.seed(seed)\n",
    "    \n",
    "    df = df.copy()\n",
    "\n",
    "    shuffled_idx = np.arange(len(df))\n",
    "    np.random.shuffle(shuffled_idx)\n",
    "\n",
    "    val_len = test_len = int(len(df) * 0.2)\n",
    "    train_len = len(df) - val_len - test_len\n",
    "    \n",
    "    train_idx = shuffled_idx[:train_len]\n",
    "    val_idx = shuffled_idx[train_len:train_len + val_len]\n",
    "    test_idx = shuffled_idx[train_len + val_len:]\n",
    "\n",
    "    df['median_house_value'] = np.log1p(df['median_house_value'])\n",
    "\n",
    "    df_train = df.iloc[train_idx]\n",
    "    df_val = df.iloc[val_idx]\n",
    "    df_test = df.iloc[test_idx]\n",
    "\n",
    "    y_train = df_train['median_house_value'].values\n",
    "    y_val = df_val['median_house_value'].values\n",
    "    y_test = df_test['median_house_value'].values\n",
    "\n",
    "    del df_train['median_house_value']\n",
    "    del df_val['median_house_value']\n",
    "    del df_test['median_house_value']\n",
    "\n",
    "    return df_train, df_val, df_test, y_train, y_val, y_test"
   ]
  },
  {
   "cell_type": "code",
   "execution_count": 134,
   "id": "009b3dab-37d3-4497-95ce-02c430c182a8",
   "metadata": {},
   "outputs": [
    {
     "name": "stdout",
     "output_type": "stream",
     "text": [
      "seed: 0 ---> rmse: 0.3377387160082512\n",
      "seed: 1 ---> rmse: 0.3377999353662671\n",
      "seed: 2 ---> rmse: 0.33842870067715325\n",
      "seed: 3 ---> rmse: 0.33200494683064413\n",
      "seed: 4 ---> rmse: 0.3394451862555799\n",
      "seed: 5 ---> rmse: 0.3433819705287994\n",
      "seed: 6 ---> rmse: 0.3385330211770828\n",
      "seed: 7 ---> rmse: 0.34687476972931436\n",
      "seed: 8 ---> rmse: 0.3512736865968845\n",
      "seed: 9 ---> rmse: 0.33415582665298454\n",
      "std of rmse scores: 0.005\n"
     ]
    }
   ],
   "source": [
    "scores = []\n",
    "\n",
    "for seed in [0, 1, 2, 3, 4, 5, 6, 7, 8, 9]:\n",
    "    df_train, df_val, df_test, y_train, y_val, y_test = prepare_data(df, seed)\n",
    "    rmse = linear_regression_reg_score(df_train, df_val, y_train, y_val, r=0)\n",
    "    scores.append(rmse)\n",
    "    print(f\"seed: {seed} ---> rmse: {rmse}\")\n",
    "\n",
    "scores_std = round(np.std(scores), 3)\n",
    "print(f\"std of rmse scores: {scores_std}\")\n",
    "    "
   ]
  },
  {
   "cell_type": "markdown",
   "id": "03fe1c60-9b9b-428d-a3db-7d71e49a5956",
   "metadata": {},
   "source": [
    "answer: 0.005"
   ]
  },
  {
   "cell_type": "code",
   "execution_count": 135,
   "id": "58c96180-5b76-4990-993c-c74490138a5d",
   "metadata": {},
   "outputs": [
    {
     "name": "stdout",
     "output_type": "stream",
     "text": [
      "seed: 0 ---> rmse: 0.33773871600781424\n",
      "seed: 1 ---> rmse: 0.3377999353662362\n",
      "seed: 2 ---> rmse: 0.33842870067652864\n",
      "seed: 3 ---> rmse: 0.33200494683063625\n",
      "seed: 4 ---> rmse: 0.33944518625554077\n",
      "seed: 5 ---> rmse: 0.34338197052672964\n",
      "seed: 6 ---> rmse: 0.33853302117698975\n",
      "seed: 7 ---> rmse: 0.34687476972931774\n",
      "seed: 8 ---> rmse: 0.35127368659602953\n",
      "seed: 9 ---> rmse: 0.33415582665128657\n",
      "std of rmse scores: 0.005\n"
     ]
    }
   ],
   "source": [
    "scores = []\n",
    "\n",
    "for seed in [0, 1, 2, 3, 4, 5, 6, 7, 8, 9]:\n",
    "    df_train, df_val, df_test, y_train, y_val, y_test = prepare_data(df, seed)\n",
    "    X_train = df_train.fillna(0)\n",
    "    X_val = df_val.fillna(0)\n",
    "    lr = LinearRegression()\n",
    "    lr.fit(X_train, y_train)\n",
    "    y_pred = lr.predict(X_val)\n",
    "    rmse = mean_squared_error(y_val, y_pred, squared=False)\n",
    "    \n",
    "    scores.append(rmse)\n",
    "    print(f\"seed: {seed} ---> rmse: {rmse}\")\n",
    "\n",
    "scores_std = round(np.std(scores), 3)\n",
    "print(f\"std of rmse scores: {scores_std}\")"
   ]
  },
  {
   "cell_type": "markdown",
   "id": "aedb164d-21e7-46b6-80df-3362d3ae35e6",
   "metadata": {},
   "source": [
    "answer: 0.005"
   ]
  },
  {
   "cell_type": "markdown",
   "id": "edcb1199-1a48-4be5-8dbe-727136202c1f",
   "metadata": {},
   "source": [
    "### Question 6\n",
    "\n",
    "* Split the dataset like previously, use seed 9.\n",
    "* Combine train and validation datasets.\n",
    "* Fill the missing values with 0 and train a model with `r=0.001`. \n",
    "* What's the RMSE on the test dataset?\n",
    "\n",
    "Options:\n"
   ]
  },
  {
   "cell_type": "code",
   "execution_count": 151,
   "id": "587f88e4-9c52-4115-a8df-a984474f5fea",
   "metadata": {},
   "outputs": [],
   "source": [
    "def rmse_test(df, seed, r=0.001):\n",
    "    df_train, df_val, df_test, y_train, y_val, y_test = prepare_data(df, seed)\n",
    "    df_train_full = pd.concat((df_train, df_val), axis=0)\n",
    "    y_train_full = np.concatenate((y_train, y_val), axis=0)\n",
    "    \n",
    "    X_train_full = df_train_full.fillna(0)\n",
    "    X_test = df_test.fillna(0)\n",
    "\n",
    "    rmse = linear_regression_reg_score(X_train_full, X_test, y_train_full, y_test, r=r)\n",
    "\n",
    "    return rmse"
   ]
  },
  {
   "cell_type": "code",
   "execution_count": 155,
   "id": "5d103c16-37ce-47b9-b2f1-2c8a123b012e",
   "metadata": {},
   "outputs": [
    {
     "data": {
      "text/plain": [
       "0.33"
      ]
     },
     "execution_count": 155,
     "metadata": {},
     "output_type": "execute_result"
    }
   ],
   "source": [
    "round(rmse_test(df, seed=9, r=0.001), 2)"
   ]
  },
  {
   "cell_type": "code",
   "execution_count": null,
   "id": "98f74be4-ed8c-4ea6-9d4a-ac8e439e2dc8",
   "metadata": {},
   "outputs": [],
   "source": []
  }
 ],
 "metadata": {
  "kernelspec": {
   "display_name": "Python 3 (ipykernel)",
   "language": "python",
   "name": "python3"
  },
  "language_info": {
   "codemirror_mode": {
    "name": "ipython",
    "version": 3
   },
   "file_extension": ".py",
   "mimetype": "text/x-python",
   "name": "python",
   "nbconvert_exporter": "python",
   "pygments_lexer": "ipython3",
   "version": "3.9.17"
  }
 },
 "nbformat": 4,
 "nbformat_minor": 5
}
