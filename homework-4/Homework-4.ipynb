{
 "cells": [
  {
   "cell_type": "code",
   "execution_count": 107,
   "id": "3ff4ca81-61b4-4cff-8ba6-8f0583d5cda7",
   "metadata": {},
   "outputs": [],
   "source": [
    "import numpy as np\n",
    "import pandas as pd\n",
    "import matplotlib.pyplot as plt\n",
    "\n",
    "from sklearn.model_selection import train_test_split\n",
    "from sklearn.metrics import roc_auc_score\n",
    "from sklearn.metrics import precision_score\n",
    "from sklearn.metrics import recall_score\n",
    "from sklearn.metrics import f1_score\n",
    "from sklearn.model_selection import KFold\n",
    "\n",
    "from sklearn.feature_extraction import DictVectorizer\n",
    "from sklearn.linear_model import LogisticRegression"
   ]
  },
  {
   "cell_type": "code",
   "execution_count": 3,
   "id": "293916c4-4989-49e2-98f8-5d7063837609",
   "metadata": {},
   "outputs": [
    {
     "data": {
      "text/html": [
       "<div>\n",
       "<style scoped>\n",
       "    .dataframe tbody tr th:only-of-type {\n",
       "        vertical-align: middle;\n",
       "    }\n",
       "\n",
       "    .dataframe tbody tr th {\n",
       "        vertical-align: top;\n",
       "    }\n",
       "\n",
       "    .dataframe thead th {\n",
       "        text-align: right;\n",
       "    }\n",
       "</style>\n",
       "<table border=\"1\" class=\"dataframe\">\n",
       "  <thead>\n",
       "    <tr style=\"text-align: right;\">\n",
       "      <th></th>\n",
       "      <th>Make</th>\n",
       "      <th>Model</th>\n",
       "      <th>Year</th>\n",
       "      <th>Engine Fuel Type</th>\n",
       "      <th>Engine HP</th>\n",
       "      <th>Engine Cylinders</th>\n",
       "      <th>Transmission Type</th>\n",
       "      <th>Driven_Wheels</th>\n",
       "      <th>Number of Doors</th>\n",
       "      <th>Market Category</th>\n",
       "      <th>Vehicle Size</th>\n",
       "      <th>Vehicle Style</th>\n",
       "      <th>highway MPG</th>\n",
       "      <th>city mpg</th>\n",
       "      <th>Popularity</th>\n",
       "      <th>MSRP</th>\n",
       "    </tr>\n",
       "  </thead>\n",
       "  <tbody>\n",
       "    <tr>\n",
       "      <th>0</th>\n",
       "      <td>BMW</td>\n",
       "      <td>1 Series M</td>\n",
       "      <td>2011</td>\n",
       "      <td>premium unleaded (required)</td>\n",
       "      <td>335.0</td>\n",
       "      <td>6.0</td>\n",
       "      <td>MANUAL</td>\n",
       "      <td>rear wheel drive</td>\n",
       "      <td>2.0</td>\n",
       "      <td>Factory Tuner,Luxury,High-Performance</td>\n",
       "      <td>Compact</td>\n",
       "      <td>Coupe</td>\n",
       "      <td>26</td>\n",
       "      <td>19</td>\n",
       "      <td>3916</td>\n",
       "      <td>46135</td>\n",
       "    </tr>\n",
       "    <tr>\n",
       "      <th>1</th>\n",
       "      <td>BMW</td>\n",
       "      <td>1 Series</td>\n",
       "      <td>2011</td>\n",
       "      <td>premium unleaded (required)</td>\n",
       "      <td>300.0</td>\n",
       "      <td>6.0</td>\n",
       "      <td>MANUAL</td>\n",
       "      <td>rear wheel drive</td>\n",
       "      <td>2.0</td>\n",
       "      <td>Luxury,Performance</td>\n",
       "      <td>Compact</td>\n",
       "      <td>Convertible</td>\n",
       "      <td>28</td>\n",
       "      <td>19</td>\n",
       "      <td>3916</td>\n",
       "      <td>40650</td>\n",
       "    </tr>\n",
       "    <tr>\n",
       "      <th>2</th>\n",
       "      <td>BMW</td>\n",
       "      <td>1 Series</td>\n",
       "      <td>2011</td>\n",
       "      <td>premium unleaded (required)</td>\n",
       "      <td>300.0</td>\n",
       "      <td>6.0</td>\n",
       "      <td>MANUAL</td>\n",
       "      <td>rear wheel drive</td>\n",
       "      <td>2.0</td>\n",
       "      <td>Luxury,High-Performance</td>\n",
       "      <td>Compact</td>\n",
       "      <td>Coupe</td>\n",
       "      <td>28</td>\n",
       "      <td>20</td>\n",
       "      <td>3916</td>\n",
       "      <td>36350</td>\n",
       "    </tr>\n",
       "    <tr>\n",
       "      <th>3</th>\n",
       "      <td>BMW</td>\n",
       "      <td>1 Series</td>\n",
       "      <td>2011</td>\n",
       "      <td>premium unleaded (required)</td>\n",
       "      <td>230.0</td>\n",
       "      <td>6.0</td>\n",
       "      <td>MANUAL</td>\n",
       "      <td>rear wheel drive</td>\n",
       "      <td>2.0</td>\n",
       "      <td>Luxury,Performance</td>\n",
       "      <td>Compact</td>\n",
       "      <td>Coupe</td>\n",
       "      <td>28</td>\n",
       "      <td>18</td>\n",
       "      <td>3916</td>\n",
       "      <td>29450</td>\n",
       "    </tr>\n",
       "    <tr>\n",
       "      <th>4</th>\n",
       "      <td>BMW</td>\n",
       "      <td>1 Series</td>\n",
       "      <td>2011</td>\n",
       "      <td>premium unleaded (required)</td>\n",
       "      <td>230.0</td>\n",
       "      <td>6.0</td>\n",
       "      <td>MANUAL</td>\n",
       "      <td>rear wheel drive</td>\n",
       "      <td>2.0</td>\n",
       "      <td>Luxury</td>\n",
       "      <td>Compact</td>\n",
       "      <td>Convertible</td>\n",
       "      <td>28</td>\n",
       "      <td>18</td>\n",
       "      <td>3916</td>\n",
       "      <td>34500</td>\n",
       "    </tr>\n",
       "  </tbody>\n",
       "</table>\n",
       "</div>"
      ],
      "text/plain": [
       "  Make       Model  Year             Engine Fuel Type  Engine HP  \\\n",
       "0  BMW  1 Series M  2011  premium unleaded (required)      335.0   \n",
       "1  BMW    1 Series  2011  premium unleaded (required)      300.0   \n",
       "2  BMW    1 Series  2011  premium unleaded (required)      300.0   \n",
       "3  BMW    1 Series  2011  premium unleaded (required)      230.0   \n",
       "4  BMW    1 Series  2011  premium unleaded (required)      230.0   \n",
       "\n",
       "   Engine Cylinders Transmission Type     Driven_Wheels  Number of Doors  \\\n",
       "0               6.0            MANUAL  rear wheel drive              2.0   \n",
       "1               6.0            MANUAL  rear wheel drive              2.0   \n",
       "2               6.0            MANUAL  rear wheel drive              2.0   \n",
       "3               6.0            MANUAL  rear wheel drive              2.0   \n",
       "4               6.0            MANUAL  rear wheel drive              2.0   \n",
       "\n",
       "                         Market Category Vehicle Size Vehicle Style  \\\n",
       "0  Factory Tuner,Luxury,High-Performance      Compact         Coupe   \n",
       "1                     Luxury,Performance      Compact   Convertible   \n",
       "2                Luxury,High-Performance      Compact         Coupe   \n",
       "3                     Luxury,Performance      Compact         Coupe   \n",
       "4                                 Luxury      Compact   Convertible   \n",
       "\n",
       "   highway MPG  city mpg  Popularity   MSRP  \n",
       "0           26        19        3916  46135  \n",
       "1           28        19        3916  40650  \n",
       "2           28        20        3916  36350  \n",
       "3           28        18        3916  29450  \n",
       "4           28        18        3916  34500  "
      ]
     },
     "execution_count": 3,
     "metadata": {},
     "output_type": "execute_result"
    }
   ],
   "source": [
    "df = pd.read_csv(\"data/data.csv\")\n",
    "df.head()"
   ]
  },
  {
   "cell_type": "markdown",
   "id": "99b603a1-3b5d-48ef-9bb1-6ca2fa148c84",
   "metadata": {},
   "source": [
    "We'll work with the `MSRP` variable, and we'll transform it to a classification task. \n",
    "\n",
    "For the rest of the homework, you'll need to use only these columns:\n",
    "\n",
    "* `Make`,\n",
    "* `Model`,\n",
    "* `Year`,\n",
    "* `Engine HP`,\n",
    "* `Engine Cylinders`,\n",
    "* `Transmission Type`,\n",
    "* `Vehicle Style`,\n",
    "* `highway MPG`,\n",
    "* `city mpg`\n",
    "* `MSRP`\n",
    "\n",
    "\n",
    "### Data preparation\n",
    "\n",
    "* Keep only the columns above\n",
    "* Lowercase the column names and replace spaces with underscores\n",
    "* Fill the missing values with 0 \n",
    "* Make the price binary (1 if above the average, 0 otherwise) - this will be our target variable `above_average`\n",
    "\n",
    "Split the data into 3 parts: train/validation/test with 60%/20%/20% distribution. Use `train_test_split` function for that with `random_state=1`"
   ]
  },
  {
   "cell_type": "code",
   "execution_count": 4,
   "id": "117b8af9-f744-482d-8378-c0556dfb44fb",
   "metadata": {},
   "outputs": [
    {
     "data": {
      "text/plain": [
       "Index(['Make', 'Model', 'Year', 'Engine Fuel Type', 'Engine HP',\n",
       "       'Engine Cylinders', 'Transmission Type', 'Driven_Wheels',\n",
       "       'Number of Doors', 'Market Category', 'Vehicle Size', 'Vehicle Style',\n",
       "       'highway MPG', 'city mpg', 'Popularity', 'MSRP'],\n",
       "      dtype='object')"
      ]
     },
     "execution_count": 4,
     "metadata": {},
     "output_type": "execute_result"
    }
   ],
   "source": [
    "df.columns"
   ]
  },
  {
   "cell_type": "code",
   "execution_count": 5,
   "id": "1219f4ed-5adf-4496-b460-695c4dbcdaaf",
   "metadata": {},
   "outputs": [],
   "source": [
    "cols = ['Make', 'Model', 'Year', 'Engine HP',\n",
    "       'Engine Cylinders', 'Transmission Type', 'Vehicle Style',\n",
    "       'highway MPG', 'city mpg', 'Popularity', 'MSRP']"
   ]
  },
  {
   "cell_type": "code",
   "execution_count": 6,
   "id": "d6a3f0fb-d528-49a0-b396-2ccb12eed929",
   "metadata": {},
   "outputs": [],
   "source": [
    "df = df[cols]"
   ]
  },
  {
   "cell_type": "code",
   "execution_count": 7,
   "id": "95f406c2-20c4-4704-a772-55d911e53dcb",
   "metadata": {},
   "outputs": [
    {
     "data": {
      "text/html": [
       "<div>\n",
       "<style scoped>\n",
       "    .dataframe tbody tr th:only-of-type {\n",
       "        vertical-align: middle;\n",
       "    }\n",
       "\n",
       "    .dataframe tbody tr th {\n",
       "        vertical-align: top;\n",
       "    }\n",
       "\n",
       "    .dataframe thead th {\n",
       "        text-align: right;\n",
       "    }\n",
       "</style>\n",
       "<table border=\"1\" class=\"dataframe\">\n",
       "  <thead>\n",
       "    <tr style=\"text-align: right;\">\n",
       "      <th></th>\n",
       "      <th>Make</th>\n",
       "      <th>Model</th>\n",
       "      <th>Year</th>\n",
       "      <th>Engine HP</th>\n",
       "      <th>Engine Cylinders</th>\n",
       "      <th>Transmission Type</th>\n",
       "      <th>Vehicle Style</th>\n",
       "      <th>highway MPG</th>\n",
       "      <th>city mpg</th>\n",
       "      <th>Popularity</th>\n",
       "      <th>MSRP</th>\n",
       "    </tr>\n",
       "  </thead>\n",
       "  <tbody>\n",
       "    <tr>\n",
       "      <th>0</th>\n",
       "      <td>BMW</td>\n",
       "      <td>1 Series M</td>\n",
       "      <td>2011</td>\n",
       "      <td>335.0</td>\n",
       "      <td>6.0</td>\n",
       "      <td>MANUAL</td>\n",
       "      <td>Coupe</td>\n",
       "      <td>26</td>\n",
       "      <td>19</td>\n",
       "      <td>3916</td>\n",
       "      <td>46135</td>\n",
       "    </tr>\n",
       "    <tr>\n",
       "      <th>1</th>\n",
       "      <td>BMW</td>\n",
       "      <td>1 Series</td>\n",
       "      <td>2011</td>\n",
       "      <td>300.0</td>\n",
       "      <td>6.0</td>\n",
       "      <td>MANUAL</td>\n",
       "      <td>Convertible</td>\n",
       "      <td>28</td>\n",
       "      <td>19</td>\n",
       "      <td>3916</td>\n",
       "      <td>40650</td>\n",
       "    </tr>\n",
       "    <tr>\n",
       "      <th>2</th>\n",
       "      <td>BMW</td>\n",
       "      <td>1 Series</td>\n",
       "      <td>2011</td>\n",
       "      <td>300.0</td>\n",
       "      <td>6.0</td>\n",
       "      <td>MANUAL</td>\n",
       "      <td>Coupe</td>\n",
       "      <td>28</td>\n",
       "      <td>20</td>\n",
       "      <td>3916</td>\n",
       "      <td>36350</td>\n",
       "    </tr>\n",
       "    <tr>\n",
       "      <th>3</th>\n",
       "      <td>BMW</td>\n",
       "      <td>1 Series</td>\n",
       "      <td>2011</td>\n",
       "      <td>230.0</td>\n",
       "      <td>6.0</td>\n",
       "      <td>MANUAL</td>\n",
       "      <td>Coupe</td>\n",
       "      <td>28</td>\n",
       "      <td>18</td>\n",
       "      <td>3916</td>\n",
       "      <td>29450</td>\n",
       "    </tr>\n",
       "    <tr>\n",
       "      <th>4</th>\n",
       "      <td>BMW</td>\n",
       "      <td>1 Series</td>\n",
       "      <td>2011</td>\n",
       "      <td>230.0</td>\n",
       "      <td>6.0</td>\n",
       "      <td>MANUAL</td>\n",
       "      <td>Convertible</td>\n",
       "      <td>28</td>\n",
       "      <td>18</td>\n",
       "      <td>3916</td>\n",
       "      <td>34500</td>\n",
       "    </tr>\n",
       "  </tbody>\n",
       "</table>\n",
       "</div>"
      ],
      "text/plain": [
       "  Make       Model  Year  Engine HP  Engine Cylinders Transmission Type  \\\n",
       "0  BMW  1 Series M  2011      335.0               6.0            MANUAL   \n",
       "1  BMW    1 Series  2011      300.0               6.0            MANUAL   \n",
       "2  BMW    1 Series  2011      300.0               6.0            MANUAL   \n",
       "3  BMW    1 Series  2011      230.0               6.0            MANUAL   \n",
       "4  BMW    1 Series  2011      230.0               6.0            MANUAL   \n",
       "\n",
       "  Vehicle Style  highway MPG  city mpg  Popularity   MSRP  \n",
       "0         Coupe           26        19        3916  46135  \n",
       "1   Convertible           28        19        3916  40650  \n",
       "2         Coupe           28        20        3916  36350  \n",
       "3         Coupe           28        18        3916  29450  \n",
       "4   Convertible           28        18        3916  34500  "
      ]
     },
     "execution_count": 7,
     "metadata": {},
     "output_type": "execute_result"
    }
   ],
   "source": [
    "df.head()"
   ]
  },
  {
   "cell_type": "code",
   "execution_count": 8,
   "id": "0d2a9458-82c4-4bf2-9467-d364ba4ada9d",
   "metadata": {},
   "outputs": [],
   "source": [
    "df.columns = df.columns.str.replace(' ', \"_\").str.lower()"
   ]
  },
  {
   "cell_type": "code",
   "execution_count": 9,
   "id": "d6b7d7ce-7cb0-484d-8191-b21cc9df7d94",
   "metadata": {},
   "outputs": [
    {
     "data": {
      "text/html": [
       "<div>\n",
       "<style scoped>\n",
       "    .dataframe tbody tr th:only-of-type {\n",
       "        vertical-align: middle;\n",
       "    }\n",
       "\n",
       "    .dataframe tbody tr th {\n",
       "        vertical-align: top;\n",
       "    }\n",
       "\n",
       "    .dataframe thead th {\n",
       "        text-align: right;\n",
       "    }\n",
       "</style>\n",
       "<table border=\"1\" class=\"dataframe\">\n",
       "  <thead>\n",
       "    <tr style=\"text-align: right;\">\n",
       "      <th></th>\n",
       "      <th>make</th>\n",
       "      <th>model</th>\n",
       "      <th>year</th>\n",
       "      <th>engine_hp</th>\n",
       "      <th>engine_cylinders</th>\n",
       "      <th>transmission_type</th>\n",
       "      <th>vehicle_style</th>\n",
       "      <th>highway_mpg</th>\n",
       "      <th>city_mpg</th>\n",
       "      <th>popularity</th>\n",
       "      <th>msrp</th>\n",
       "    </tr>\n",
       "  </thead>\n",
       "  <tbody>\n",
       "    <tr>\n",
       "      <th>0</th>\n",
       "      <td>BMW</td>\n",
       "      <td>1 Series M</td>\n",
       "      <td>2011</td>\n",
       "      <td>335.0</td>\n",
       "      <td>6.0</td>\n",
       "      <td>MANUAL</td>\n",
       "      <td>Coupe</td>\n",
       "      <td>26</td>\n",
       "      <td>19</td>\n",
       "      <td>3916</td>\n",
       "      <td>46135</td>\n",
       "    </tr>\n",
       "    <tr>\n",
       "      <th>1</th>\n",
       "      <td>BMW</td>\n",
       "      <td>1 Series</td>\n",
       "      <td>2011</td>\n",
       "      <td>300.0</td>\n",
       "      <td>6.0</td>\n",
       "      <td>MANUAL</td>\n",
       "      <td>Convertible</td>\n",
       "      <td>28</td>\n",
       "      <td>19</td>\n",
       "      <td>3916</td>\n",
       "      <td>40650</td>\n",
       "    </tr>\n",
       "    <tr>\n",
       "      <th>2</th>\n",
       "      <td>BMW</td>\n",
       "      <td>1 Series</td>\n",
       "      <td>2011</td>\n",
       "      <td>300.0</td>\n",
       "      <td>6.0</td>\n",
       "      <td>MANUAL</td>\n",
       "      <td>Coupe</td>\n",
       "      <td>28</td>\n",
       "      <td>20</td>\n",
       "      <td>3916</td>\n",
       "      <td>36350</td>\n",
       "    </tr>\n",
       "    <tr>\n",
       "      <th>3</th>\n",
       "      <td>BMW</td>\n",
       "      <td>1 Series</td>\n",
       "      <td>2011</td>\n",
       "      <td>230.0</td>\n",
       "      <td>6.0</td>\n",
       "      <td>MANUAL</td>\n",
       "      <td>Coupe</td>\n",
       "      <td>28</td>\n",
       "      <td>18</td>\n",
       "      <td>3916</td>\n",
       "      <td>29450</td>\n",
       "    </tr>\n",
       "    <tr>\n",
       "      <th>4</th>\n",
       "      <td>BMW</td>\n",
       "      <td>1 Series</td>\n",
       "      <td>2011</td>\n",
       "      <td>230.0</td>\n",
       "      <td>6.0</td>\n",
       "      <td>MANUAL</td>\n",
       "      <td>Convertible</td>\n",
       "      <td>28</td>\n",
       "      <td>18</td>\n",
       "      <td>3916</td>\n",
       "      <td>34500</td>\n",
       "    </tr>\n",
       "  </tbody>\n",
       "</table>\n",
       "</div>"
      ],
      "text/plain": [
       "  make       model  year  engine_hp  engine_cylinders transmission_type  \\\n",
       "0  BMW  1 Series M  2011      335.0               6.0            MANUAL   \n",
       "1  BMW    1 Series  2011      300.0               6.0            MANUAL   \n",
       "2  BMW    1 Series  2011      300.0               6.0            MANUAL   \n",
       "3  BMW    1 Series  2011      230.0               6.0            MANUAL   \n",
       "4  BMW    1 Series  2011      230.0               6.0            MANUAL   \n",
       "\n",
       "  vehicle_style  highway_mpg  city_mpg  popularity   msrp  \n",
       "0         Coupe           26        19        3916  46135  \n",
       "1   Convertible           28        19        3916  40650  \n",
       "2         Coupe           28        20        3916  36350  \n",
       "3         Coupe           28        18        3916  29450  \n",
       "4   Convertible           28        18        3916  34500  "
      ]
     },
     "execution_count": 9,
     "metadata": {},
     "output_type": "execute_result"
    }
   ],
   "source": [
    "df.head()"
   ]
  },
  {
   "cell_type": "code",
   "execution_count": 10,
   "id": "32ac977d-1bc6-4b9a-a6ec-f0e5b2579f9f",
   "metadata": {},
   "outputs": [
    {
     "data": {
      "text/plain": [
       "make                  0\n",
       "model                 0\n",
       "year                  0\n",
       "engine_hp            69\n",
       "engine_cylinders     30\n",
       "transmission_type     0\n",
       "vehicle_style         0\n",
       "highway_mpg           0\n",
       "city_mpg              0\n",
       "popularity            0\n",
       "msrp                  0\n",
       "dtype: int64"
      ]
     },
     "execution_count": 10,
     "metadata": {},
     "output_type": "execute_result"
    }
   ],
   "source": [
    "df.isna().sum()"
   ]
  },
  {
   "cell_type": "code",
   "execution_count": 11,
   "id": "2a1e54ff-649c-49be-8ed4-03224c1c6356",
   "metadata": {},
   "outputs": [],
   "source": [
    "df = df.fillna(0)"
   ]
  },
  {
   "cell_type": "code",
   "execution_count": 12,
   "id": "cee3bc19-fd5f-4926-91c9-bf899c1c8217",
   "metadata": {},
   "outputs": [
    {
     "data": {
      "text/plain": [
       "make                 0\n",
       "model                0\n",
       "year                 0\n",
       "engine_hp            0\n",
       "engine_cylinders     0\n",
       "transmission_type    0\n",
       "vehicle_style        0\n",
       "highway_mpg          0\n",
       "city_mpg             0\n",
       "popularity           0\n",
       "msrp                 0\n",
       "dtype: int64"
      ]
     },
     "execution_count": 12,
     "metadata": {},
     "output_type": "execute_result"
    }
   ],
   "source": [
    "df.isna().sum()"
   ]
  },
  {
   "cell_type": "code",
   "execution_count": 13,
   "id": "1a293cca-4276-4bc1-9597-c8eb2380ac3d",
   "metadata": {},
   "outputs": [],
   "source": [
    "df['above_average'] = (df['msrp'] > df['msrp'].mean()).astype('int')"
   ]
  },
  {
   "cell_type": "code",
   "execution_count": 16,
   "id": "ae1adbdd-fd0a-4be4-8bec-3bde69e8edd7",
   "metadata": {},
   "outputs": [],
   "source": [
    "del df['msrp']"
   ]
  },
  {
   "cell_type": "code",
   "execution_count": 17,
   "id": "de90e8eb-297d-4897-91db-552c57556924",
   "metadata": {},
   "outputs": [
    {
     "data": {
      "text/html": [
       "<div>\n",
       "<style scoped>\n",
       "    .dataframe tbody tr th:only-of-type {\n",
       "        vertical-align: middle;\n",
       "    }\n",
       "\n",
       "    .dataframe tbody tr th {\n",
       "        vertical-align: top;\n",
       "    }\n",
       "\n",
       "    .dataframe thead th {\n",
       "        text-align: right;\n",
       "    }\n",
       "</style>\n",
       "<table border=\"1\" class=\"dataframe\">\n",
       "  <thead>\n",
       "    <tr style=\"text-align: right;\">\n",
       "      <th></th>\n",
       "      <th>make</th>\n",
       "      <th>model</th>\n",
       "      <th>year</th>\n",
       "      <th>engine_hp</th>\n",
       "      <th>engine_cylinders</th>\n",
       "      <th>transmission_type</th>\n",
       "      <th>vehicle_style</th>\n",
       "      <th>highway_mpg</th>\n",
       "      <th>city_mpg</th>\n",
       "      <th>popularity</th>\n",
       "      <th>above_average</th>\n",
       "    </tr>\n",
       "  </thead>\n",
       "  <tbody>\n",
       "    <tr>\n",
       "      <th>0</th>\n",
       "      <td>BMW</td>\n",
       "      <td>1 Series M</td>\n",
       "      <td>2011</td>\n",
       "      <td>335.0</td>\n",
       "      <td>6.0</td>\n",
       "      <td>MANUAL</td>\n",
       "      <td>Coupe</td>\n",
       "      <td>26</td>\n",
       "      <td>19</td>\n",
       "      <td>3916</td>\n",
       "      <td>1</td>\n",
       "    </tr>\n",
       "    <tr>\n",
       "      <th>1</th>\n",
       "      <td>BMW</td>\n",
       "      <td>1 Series</td>\n",
       "      <td>2011</td>\n",
       "      <td>300.0</td>\n",
       "      <td>6.0</td>\n",
       "      <td>MANUAL</td>\n",
       "      <td>Convertible</td>\n",
       "      <td>28</td>\n",
       "      <td>19</td>\n",
       "      <td>3916</td>\n",
       "      <td>1</td>\n",
       "    </tr>\n",
       "    <tr>\n",
       "      <th>2</th>\n",
       "      <td>BMW</td>\n",
       "      <td>1 Series</td>\n",
       "      <td>2011</td>\n",
       "      <td>300.0</td>\n",
       "      <td>6.0</td>\n",
       "      <td>MANUAL</td>\n",
       "      <td>Coupe</td>\n",
       "      <td>28</td>\n",
       "      <td>20</td>\n",
       "      <td>3916</td>\n",
       "      <td>0</td>\n",
       "    </tr>\n",
       "    <tr>\n",
       "      <th>3</th>\n",
       "      <td>BMW</td>\n",
       "      <td>1 Series</td>\n",
       "      <td>2011</td>\n",
       "      <td>230.0</td>\n",
       "      <td>6.0</td>\n",
       "      <td>MANUAL</td>\n",
       "      <td>Coupe</td>\n",
       "      <td>28</td>\n",
       "      <td>18</td>\n",
       "      <td>3916</td>\n",
       "      <td>0</td>\n",
       "    </tr>\n",
       "    <tr>\n",
       "      <th>4</th>\n",
       "      <td>BMW</td>\n",
       "      <td>1 Series</td>\n",
       "      <td>2011</td>\n",
       "      <td>230.0</td>\n",
       "      <td>6.0</td>\n",
       "      <td>MANUAL</td>\n",
       "      <td>Convertible</td>\n",
       "      <td>28</td>\n",
       "      <td>18</td>\n",
       "      <td>3916</td>\n",
       "      <td>0</td>\n",
       "    </tr>\n",
       "  </tbody>\n",
       "</table>\n",
       "</div>"
      ],
      "text/plain": [
       "  make       model  year  engine_hp  engine_cylinders transmission_type  \\\n",
       "0  BMW  1 Series M  2011      335.0               6.0            MANUAL   \n",
       "1  BMW    1 Series  2011      300.0               6.0            MANUAL   \n",
       "2  BMW    1 Series  2011      300.0               6.0            MANUAL   \n",
       "3  BMW    1 Series  2011      230.0               6.0            MANUAL   \n",
       "4  BMW    1 Series  2011      230.0               6.0            MANUAL   \n",
       "\n",
       "  vehicle_style  highway_mpg  city_mpg  popularity  above_average  \n",
       "0         Coupe           26        19        3916              1  \n",
       "1   Convertible           28        19        3916              1  \n",
       "2         Coupe           28        20        3916              0  \n",
       "3         Coupe           28        18        3916              0  \n",
       "4   Convertible           28        18        3916              0  "
      ]
     },
     "execution_count": 17,
     "metadata": {},
     "output_type": "execute_result"
    }
   ],
   "source": [
    "df.head()"
   ]
  },
  {
   "cell_type": "code",
   "execution_count": 23,
   "id": "b1d202a9-0333-47e0-b637-ef52c363149d",
   "metadata": {},
   "outputs": [],
   "source": [
    "def split_data(df):\n",
    "    df = df.copy()\n",
    "    y_full = df['above_average'].values\n",
    "    del df['above_average']\n",
    "    \n",
    "    df_train_full, df_test, y_train_full, y_test = train_test_split(df, y_full, test_size=0.2, random_state=1)\n",
    "    df_train, df_val, y_train, y_val = train_test_split(df_train_full, y_train_full, test_size=0.25, random_state=1)\n",
    "\n",
    "    return df_train, df_val, df_test, y_train, y_val, y_test"
   ]
  },
  {
   "cell_type": "code",
   "execution_count": 24,
   "id": "9e8e4b80-4d5f-45f8-aeda-ece382c889c8",
   "metadata": {},
   "outputs": [],
   "source": [
    "df_train, df_val, df_test, y_train, y_val, y_test = split_data(df)"
   ]
  },
  {
   "cell_type": "markdown",
   "id": "f6e1b6b9-46fa-4394-b543-38ae6aee3f8e",
   "metadata": {},
   "source": [
    "### Question 1: ROC AUC feature importance\n",
    "\n",
    "ROC AUC could also be used to evaluate feature importance of numerical variables. \n",
    "\n",
    "Let's do that\n",
    "\n",
    "* For each numerical variable, use it as score and compute AUC with the `above_average` variable\n",
    "* Use the training dataset for that\n",
    "\n",
    "\n",
    "If your AUC is < 0.5, invert this variable by putting \"-\" in front\n",
    "\n",
    "(e.g. `-df_train['engine_hp']`)\n",
    "\n",
    "AUC can go below 0.5 if the variable is negatively correlated with the target varialble. You can change the direction of the correlation by negating this variable - then negative correlation becomes positive.\n",
    "\n",
    "Which numerical variable (among the following 4) has the highest AUC?\n",
    "\n",
    "- `engine_hp`\n",
    "- `engine_cylinders`\n",
    "- `highway_mpg`\n",
    "- `city_mpg`"
   ]
  },
  {
   "cell_type": "code",
   "execution_count": 26,
   "id": "241b448c-3db0-4edb-b460-9213d260050a",
   "metadata": {},
   "outputs": [
    {
     "data": {
      "text/plain": [
       "make                  object\n",
       "model                 object\n",
       "year                   int64\n",
       "engine_hp            float64\n",
       "engine_cylinders     float64\n",
       "transmission_type     object\n",
       "vehicle_style         object\n",
       "highway_mpg            int64\n",
       "city_mpg               int64\n",
       "popularity             int64\n",
       "above_average          int64\n",
       "dtype: object"
      ]
     },
     "execution_count": 26,
     "metadata": {},
     "output_type": "execute_result"
    }
   ],
   "source": [
    "df.dtypes"
   ]
  },
  {
   "cell_type": "code",
   "execution_count": 31,
   "id": "a230233e-084a-4761-a7da-2d0b08e1c777",
   "metadata": {},
   "outputs": [],
   "source": [
    "numerical = [c for c in df_train.columns if df[c].dtype != 'object']"
   ]
  },
  {
   "cell_type": "code",
   "execution_count": 32,
   "id": "1729ae9d-eabd-411f-b85f-93127c481d2c",
   "metadata": {},
   "outputs": [
    {
     "data": {
      "text/plain": [
       "['year',\n",
       " 'engine_hp',\n",
       " 'engine_cylinders',\n",
       " 'highway_mpg',\n",
       " 'city_mpg',\n",
       " 'popularity']"
      ]
     },
     "execution_count": 32,
     "metadata": {},
     "output_type": "execute_result"
    }
   ],
   "source": [
    "numerical"
   ]
  },
  {
   "cell_type": "code",
   "execution_count": 35,
   "id": "6537bd9f-305d-4e98-8323-e161194cdce6",
   "metadata": {},
   "outputs": [
    {
     "name": "stdout",
     "output_type": "stream",
     "text": [
      "year --->  auc: 0.688\n",
      "engine_hp --->  auc: 0.917\n",
      "engine_cylinders --->  auc: 0.766\n",
      "highway_mpg --->  auc: -0.367\n",
      "city_mpg --->  auc: -0.327\n",
      "popularity --->  auc: -0.479\n"
     ]
    }
   ],
   "source": [
    "for f in numerical:\n",
    "    auc = round(roc_auc_score(y_train, df_train[f]), 3)\n",
    "    if auc < 0.5:\n",
    "        auc = -1 * auc\n",
    "    print(f\"{f} --->  auc: {auc}\")"
   ]
  },
  {
   "cell_type": "markdown",
   "id": "aef8cb6f-8d18-4872-acd6-5da6a29e3a88",
   "metadata": {},
   "source": [
    "answer: engine_hp"
   ]
  },
  {
   "cell_type": "markdown",
   "id": "6cf8b581-3fdd-4d52-b5cc-bb5872f3e963",
   "metadata": {},
   "source": [
    "### Question 2: Training the model\n",
    "\n",
    "Apply one-hot-encoding using `DictVectorizer` and train the logistic regression with these parameters:\n",
    "\n",
    "```python\n",
    "LogisticRegression(solver='liblinear', C=1.0, max_iter=1000)\n",
    "```\n",
    "\n",
    "What's the AUC of this model on the validation dataset? (round to 3 digits)\n",
    "\n",
    "- 0.678\n",
    "- 0.779\n",
    "- 0.878\n",
    "- 0.979"
   ]
  },
  {
   "cell_type": "code",
   "execution_count": null,
   "id": "c4c6cd3e-a364-4633-8c97-997ae5a5d158",
   "metadata": {},
   "outputs": [],
   "source": []
  },
  {
   "cell_type": "code",
   "execution_count": 49,
   "id": "ef3453ac-9819-477b-b041-d7a15f9e6b5e",
   "metadata": {},
   "outputs": [],
   "source": [
    "def train_log_reg(df_train, df_val, y_train, y_val):\n",
    "    df_train = df_train.copy()\n",
    "    df_val = df_val.copy()\n",
    "\n",
    "    dv = DictVectorizer(sparse=False)\n",
    "\n",
    "    dicts_train = df_train.to_dict(orient=\"records\")\n",
    "    dicts_val = df_val.to_dict(orient=\"records\")\n",
    "    \n",
    "    X_train= dv.fit_transform(dicts_train)\n",
    "    X_val = dv.transform(dicts_val)\n",
    "\n",
    "    model = LogisticRegression(solver='liblinear', C=1.0, max_iter=1000)\n",
    "\n",
    "    model.fit(X_train, y_train)\n",
    "    y_pred = model.predict_proba(X_val)[:, 1]\n",
    "    roc = roc_auc_score(y_val, y_pred)\n",
    "    \n",
    "    return round(roc, 3)\n",
    "\n",
    "   "
   ]
  },
  {
   "cell_type": "code",
   "execution_count": 50,
   "id": "cb331295-76f9-49a2-932e-003d58758faf",
   "metadata": {},
   "outputs": [
    {
     "data": {
      "text/plain": [
       "0.973"
      ]
     },
     "execution_count": 50,
     "metadata": {},
     "output_type": "execute_result"
    }
   ],
   "source": [
    "train_log_reg(df_train, df_val, y_train, y_val)"
   ]
  },
  {
   "cell_type": "code",
   "execution_count": 39,
   "id": "3e516f44-4879-4a08-b324-41b6d129e30d",
   "metadata": {},
   "outputs": [],
   "source": [
    "dv = DictVectorizer(sparse=False)\n",
    "\n",
    "dicts_train = df_train.to_dict(orient=\"records\")\n",
    "dicts_val = df_val.to_dict(orient=\"records\")\n",
    "\n",
    "X_train= dv.fit_transform(dicts_train)\n",
    "X_val = dv.transform(dicts_val)\n",
    "\n",
    "\n"
   ]
  },
  {
   "cell_type": "code",
   "execution_count": 43,
   "id": "9cbcfc3c-c2c5-4e45-b33b-a0ae5e28dcb2",
   "metadata": {},
   "outputs": [],
   "source": [
    "model = LogisticRegression(solver='liblinear', C=1.0, max_iter=1000)"
   ]
  },
  {
   "cell_type": "code",
   "execution_count": 46,
   "id": "352c6db0-0c43-45c0-b755-0aeffad6a61c",
   "metadata": {},
   "outputs": [
    {
     "data": {
      "text/plain": [
       "0.973"
      ]
     },
     "execution_count": 46,
     "metadata": {},
     "output_type": "execute_result"
    }
   ],
   "source": [
    "model.fit(X_train, y_train)\n",
    "y_pred = model.predict_proba(X_val)[:, 1]\n",
    "roc = roc_auc_score(y_val, y_pred)\n",
    "round(roc, 3)"
   ]
  },
  {
   "cell_type": "markdown",
   "id": "263b0f30-23ca-4e15-aba7-463a720004f6",
   "metadata": {},
   "source": [
    "answer: closest is 0.979"
   ]
  },
  {
   "cell_type": "markdown",
   "id": "f3e2ec70-a739-41fe-9fd4-2ffec38dd6ac",
   "metadata": {},
   "source": [
    "### Question 3: Precision and Recall\n",
    "\n",
    "Now let's compute precision and recall for our model.\n",
    "\n",
    "* Evaluate the model on all thresholds from 0.0 to 1.0 with step 0.01\n",
    "* For each threshold, compute precision and recall\n",
    "* Plot them\n",
    "\n",
    "At which threshold precision and recall curves intersect?\n",
    "\n",
    "* 0.28\n",
    "* 0.48\n",
    "* 0.68\n",
    "* 0.88\n"
   ]
  },
  {
   "cell_type": "code",
   "execution_count": 51,
   "id": "c0573731-94b1-4306-b6e1-3fd7c406c07f",
   "metadata": {},
   "outputs": [],
   "source": [
    "thresholds = np.linspace(0.0, 1.0, num=101)"
   ]
  },
  {
   "cell_type": "code",
   "execution_count": 91,
   "id": "eb1dab05-e4fc-4272-b411-9e4c1cd4fcd0",
   "metadata": {},
   "outputs": [],
   "source": [
    "def precision_recall_f1(df_train, df_val, y_train, y_val, threshold):\n",
    "    df_train = df_train.copy()\n",
    "    df_val = df_val.copy()\n",
    "\n",
    "    dv = DictVectorizer(sparse=False)\n",
    "\n",
    "    dicts_train = df_train.to_dict(orient=\"records\")\n",
    "    dicts_val = df_val.to_dict(orient=\"records\")\n",
    "    \n",
    "    X_train= dv.fit_transform(dicts_train)\n",
    "    X_val = dv.transform(dicts_val)\n",
    "\n",
    "    model = LogisticRegression(solver='liblinear', C=1.0, max_iter=1000, random_state=1)\n",
    "\n",
    "    model.fit(X_train, y_train)\n",
    "    y_pred = (model.predict_proba(X_val)[:, 1] > threshold)\n",
    "    #roc = roc_auc_score(y_val, y_pred)\n",
    "    prec = precision_score(y_val, y_pred)\n",
    "    rec = recall_score(y_val, y_pred)\n",
    "    f1_sc = f1_score(y_val, y_pred)\n",
    "\n",
    "    \n",
    "    \n",
    "    return round(roc, 3), prec, rec, f1_sc\n"
   ]
  },
  {
   "cell_type": "code",
   "execution_count": 61,
   "id": "e683551c-f7fe-4149-ac74-5002cee5c9d1",
   "metadata": {},
   "outputs": [
    {
     "name": "stdout",
     "output_type": "stream",
     "text": [
      "precision intersects with recall at a threshold of 0.47000000000000003\n"
     ]
    }
   ],
   "source": [
    "prec_scores = []\n",
    "rec_scores = []\n",
    "for t in thresholds:\n",
    "    _, prec, rec = precision_recall(df_train, df_val, y_train, y_val, threshold=t)\n",
    "    prec_scores.append(prec)\n",
    "    rec_scores.append(rec)\n",
    "    if prec > rec:\n",
    "        print(f\"precision intersects with recall at a threshold of {t}\")\n",
    "        break\n",
    "\n",
    "# plt.figure(figsize=(8, 6))\n",
    "# plt.plot(thresholds, prec_scores, label='Precision')\n",
    "# plt.plot(thresholds, rec_scores, label='Recall')\n",
    "# plt.legend()\n",
    "\n"
   ]
  },
  {
   "cell_type": "markdown",
   "id": "3f5da263-2a15-48bd-9f61-d9346769000b",
   "metadata": {},
   "source": [
    "answer: the closest answer for the intersection appears to be intersection at around 0.48"
   ]
  },
  {
   "cell_type": "markdown",
   "id": "e5be83dc-2377-422a-b1f8-2a2975b761a1",
   "metadata": {},
   "source": [
    "### Question 4: F1 score\n",
    "\n",
    "Precision and recall are conflicting - when one grows, the other goes down. That's why they are often combined into the F1 score - a metrics that takes into account both\n",
    "\n",
    "This is the formula for computing F1:\n",
    "\n",
    "$$F_1 = 2 \\cdot \\cfrac{P \\cdot R}{P + R}$$\n",
    "\n",
    "Where $P$ is precision and $R$ is recall.\n",
    "\n",
    "Let's compute F1 for all thresholds from 0.0 to 1.0 with increment 0.01\n",
    "\n",
    "At which threshold F1 is maximal?\n",
    "\n",
    "- 0.12\n",
    "- 0.32\n",
    "- 0.52\n",
    "- 0.72\n"
   ]
  },
  {
   "cell_type": "code",
   "execution_count": 81,
   "id": "e2d5c87d-5c1d-4857-99e9-2a7ddfde5a76",
   "metadata": {},
   "outputs": [
    {
     "name": "stdout",
     "output_type": "stream",
     "text": [
      "Best Threshold: 0.99\n",
      "Best F1 Score: 0.4372759856630824\n"
     ]
    },
    {
     "name": "stderr",
     "output_type": "stream",
     "text": [
      "/Users/isaachurwitz/opt/anaconda3/envs/mlc/lib/python3.9/site-packages/sklearn/metrics/_classification.py:1469: UndefinedMetricWarning: Precision is ill-defined and being set to 0.0 due to no predicted samples. Use `zero_division` parameter to control this behavior.\n",
      "  _warn_prf(average, modifier, msg_start, len(result))\n"
     ]
    }
   ],
   "source": [
    "f1_scores = []\n",
    "best_f1 = 0\n",
    "best_pair = (0, 0)\n",
    "\n",
    "for t in thresholds:\n",
    "    _, prec, rec, f1 = precision_recall_f1(df_train, df_val, y_train, y_val, threshold=t)\n",
    "    #f1_scores.append((t, f1))\n",
    "    if f1 > best_f1:\n",
    "        best_pair = (f1, t)\n",
    "        \n",
    "    \n",
    "    \n",
    "last_best_f1, best_threshold = best_pair\n",
    "# #best_threshold, best_f1 = max(f1_scores, key=lambda x: x[1])\n",
    "# best_threshold, best_f1 = np.max(f1_scores)\n",
    "\n",
    "print(f\"Best Threshold: {best_threshold}\")\n",
    "print(f\"Best F1 Score: {last_best_f1}\")\n"
   ]
  },
  {
   "cell_type": "markdown",
   "id": "38b90c4b-8ed4-464e-a396-d1b3eea9f78d",
   "metadata": {},
   "source": [
    "answer: the closest is 0.32"
   ]
  },
  {
   "cell_type": "code",
   "execution_count": 96,
   "id": "9163d6f2-17c8-4da4-a4ad-d988a8db37ec",
   "metadata": {},
   "outputs": [
    {
     "name": "stdout",
     "output_type": "stream",
     "text": [
      "Best Threshold: 0.4372759856630824\n",
      "Best F1 Score: 0.99\n"
     ]
    },
    {
     "name": "stderr",
     "output_type": "stream",
     "text": [
      "/Users/isaachurwitz/opt/anaconda3/envs/mlc/lib/python3.9/site-packages/sklearn/metrics/_classification.py:1469: UndefinedMetricWarning: Precision is ill-defined and being set to 0.0 due to no predicted samples. Use `zero_division` parameter to control this behavior.\n",
      "  _warn_prf(average, modifier, msg_start, len(result))\n"
     ]
    }
   ],
   "source": [
    "f1_scores = []\n",
    "best_f1 = 0\n",
    "best_pair = (0, 0)\n",
    "\n",
    "for t in thresholds:\n",
    "    _, prec, rec, f1 = precision_recall_f1(df_train, df_val, y_train, y_val, threshold=t)\n",
    "    #f1_scores.append((t, f1))\n",
    "    if f1 > best_f1:\n",
    "        best_pair = (f1, t)\n",
    "        \n",
    "    \n",
    "    \n",
    "best_threshold, last_best_f1 = best_pair\n",
    "# #best_threshold, best_f1 = max(f1_scores, key=lambda x: x[1])\n",
    "# best_threshold, best_f1 = np.max(f1_scores)\n",
    "\n",
    "print(f\"Best Threshold: {best_threshold}\")\n",
    "print(f\"Best F1 Score: {last_best_f1}\")\n"
   ]
  },
  {
   "cell_type": "code",
   "execution_count": 97,
   "id": "4f7f1d76-88ab-4037-8783-b64ecf2755ea",
   "metadata": {},
   "outputs": [
    {
     "name": "stderr",
     "output_type": "stream",
     "text": [
      "/Users/isaachurwitz/opt/anaconda3/envs/mlc/lib/python3.9/site-packages/sklearn/metrics/_classification.py:1469: UndefinedMetricWarning: Precision is ill-defined and being set to 0.0 due to no predicted samples. Use `zero_division` parameter to control this behavior.\n",
      "  _warn_prf(average, modifier, msg_start, len(result))\n",
      "No artists with labels found to put in legend.  Note that artists whose label start with an underscore are ignored when legend() is called with no argument.\n"
     ]
    },
    {
     "data": {
      "text/plain": [
       "<matplotlib.legend.Legend at 0x28ca6cac0>"
      ]
     },
     "execution_count": 97,
     "metadata": {},
     "output_type": "execute_result"
    },
    {
     "data": {
      "image/png": "[encoded data removed]",
      "text/plain": [
       "<Figure size 640x480 with 1 Axes>"
      ]
     },
     "metadata": {},
     "output_type": "display_data"
    }
   ],
   "source": [
    "f1_scores = []\n",
    "\n",
    "for t in thresholds:\n",
    "    _, prec, rec, f1 = precision_recall_f1(df_train, df_val, y_train, y_val, threshold=t)\n",
    "    \n",
    "    f1_scores.append(f1)\n",
    "\n",
    "plt.plot(thresholds, f1_scores)\n",
    "plt.xlim(0.28, 0.6)\n",
    "plt.ylim(0.80, 0.98)\n",
    "plt.legend()\n"
   ]
  },
  {
   "cell_type": "code",
   "execution_count": 94,
   "id": "b33ae89e-cb0b-4505-8cac-3a768a3a622e",
   "metadata": {},
   "outputs": [
    {
     "ename": "ValueError",
     "evalue": "x and y must have same first dimension, but have shapes (101,) and (0,)",
     "output_type": "error",
     "traceback": [
      "\u001b[0;31m---------------------------------------------------------------------------\u001b[0m",
      "\u001b[0;31mValueError\u001b[0m                                Traceback (most recent call last)",
      "Cell \u001b[0;32mIn[94], line 1\u001b[0m\n\u001b[0;32m----> 1\u001b[0m \u001b[43mplt\u001b[49m\u001b[38;5;241;43m.\u001b[39;49m\u001b[43mplot\u001b[49m\u001b[43m(\u001b[49m\u001b[43mthresholds\u001b[49m\u001b[43m,\u001b[49m\u001b[43m \u001b[49m\u001b[43mf1_scores\u001b[49m\u001b[43m)\u001b[49m\n\u001b[1;32m      3\u001b[0m plt\u001b[38;5;241m.\u001b[39mylim(\u001b[38;5;241m0.80\u001b[39m, \u001b[38;5;241m0.98\u001b[39m)\n\u001b[1;32m      4\u001b[0m plt\u001b[38;5;241m.\u001b[39mlegend()\n",
      "File \u001b[0;32m~/opt/anaconda3/envs/mlc/lib/python3.9/site-packages/matplotlib/pyplot.py:2812\u001b[0m, in \u001b[0;36mplot\u001b[0;34m(scalex, scaley, data, *args, **kwargs)\u001b[0m\n\u001b[1;32m   2810\u001b[0m \u001b[38;5;129m@_copy_docstring_and_deprecators\u001b[39m(Axes\u001b[38;5;241m.\u001b[39mplot)\n\u001b[1;32m   2811\u001b[0m \u001b[38;5;28;01mdef\u001b[39;00m \u001b[38;5;21mplot\u001b[39m(\u001b[38;5;241m*\u001b[39margs, scalex\u001b[38;5;241m=\u001b[39m\u001b[38;5;28;01mTrue\u001b[39;00m, scaley\u001b[38;5;241m=\u001b[39m\u001b[38;5;28;01mTrue\u001b[39;00m, data\u001b[38;5;241m=\u001b[39m\u001b[38;5;28;01mNone\u001b[39;00m, \u001b[38;5;241m*\u001b[39m\u001b[38;5;241m*\u001b[39mkwargs):\n\u001b[0;32m-> 2812\u001b[0m     \u001b[38;5;28;01mreturn\u001b[39;00m \u001b[43mgca\u001b[49m\u001b[43m(\u001b[49m\u001b[43m)\u001b[49m\u001b[38;5;241;43m.\u001b[39;49m\u001b[43mplot\u001b[49m\u001b[43m(\u001b[49m\n\u001b[1;32m   2813\u001b[0m \u001b[43m        \u001b[49m\u001b[38;5;241;43m*\u001b[39;49m\u001b[43margs\u001b[49m\u001b[43m,\u001b[49m\u001b[43m \u001b[49m\u001b[43mscalex\u001b[49m\u001b[38;5;241;43m=\u001b[39;49m\u001b[43mscalex\u001b[49m\u001b[43m,\u001b[49m\u001b[43m \u001b[49m\u001b[43mscaley\u001b[49m\u001b[38;5;241;43m=\u001b[39;49m\u001b[43mscaley\u001b[49m\u001b[43m,\u001b[49m\n\u001b[1;32m   2814\u001b[0m \u001b[43m        \u001b[49m\u001b[38;5;241;43m*\u001b[39;49m\u001b[38;5;241;43m*\u001b[39;49m\u001b[43m(\u001b[49m\u001b[43m{\u001b[49m\u001b[38;5;124;43m\"\u001b[39;49m\u001b[38;5;124;43mdata\u001b[39;49m\u001b[38;5;124;43m\"\u001b[39;49m\u001b[43m:\u001b[49m\u001b[43m \u001b[49m\u001b[43mdata\u001b[49m\u001b[43m}\u001b[49m\u001b[43m \u001b[49m\u001b[38;5;28;43;01mif\u001b[39;49;00m\u001b[43m \u001b[49m\u001b[43mdata\u001b[49m\u001b[43m \u001b[49m\u001b[38;5;129;43;01mis\u001b[39;49;00m\u001b[43m \u001b[49m\u001b[38;5;129;43;01mnot\u001b[39;49;00m\u001b[43m \u001b[49m\u001b[38;5;28;43;01mNone\u001b[39;49;00m\u001b[43m \u001b[49m\u001b[38;5;28;43;01melse\u001b[39;49;00m\u001b[43m \u001b[49m\u001b[43m{\u001b[49m\u001b[43m}\u001b[49m\u001b[43m)\u001b[49m\u001b[43m,\u001b[49m\u001b[43m \u001b[49m\u001b[38;5;241;43m*\u001b[39;49m\u001b[38;5;241;43m*\u001b[39;49m\u001b[43mkwargs\u001b[49m\u001b[43m)\u001b[49m\n",
      "File \u001b[0;32m~/opt/anaconda3/envs/mlc/lib/python3.9/site-packages/matplotlib/axes/_axes.py:1688\u001b[0m, in \u001b[0;36mAxes.plot\u001b[0;34m(self, scalex, scaley, data, *args, **kwargs)\u001b[0m\n\u001b[1;32m   1445\u001b[0m \u001b[38;5;250m\u001b[39m\u001b[38;5;124;03m\"\"\"\u001b[39;00m\n\u001b[1;32m   1446\u001b[0m \u001b[38;5;124;03mPlot y versus x as lines and/or markers.\u001b[39;00m\n\u001b[1;32m   1447\u001b[0m \n\u001b[0;32m   (...)\u001b[0m\n\u001b[1;32m   1685\u001b[0m \u001b[38;5;124;03m(``'green'``) or hex strings (``'#008000'``).\u001b[39;00m\n\u001b[1;32m   1686\u001b[0m \u001b[38;5;124;03m\"\"\"\u001b[39;00m\n\u001b[1;32m   1687\u001b[0m kwargs \u001b[38;5;241m=\u001b[39m cbook\u001b[38;5;241m.\u001b[39mnormalize_kwargs(kwargs, mlines\u001b[38;5;241m.\u001b[39mLine2D)\n\u001b[0;32m-> 1688\u001b[0m lines \u001b[38;5;241m=\u001b[39m [\u001b[38;5;241m*\u001b[39m\u001b[38;5;28mself\u001b[39m\u001b[38;5;241m.\u001b[39m_get_lines(\u001b[38;5;241m*\u001b[39margs, data\u001b[38;5;241m=\u001b[39mdata, \u001b[38;5;241m*\u001b[39m\u001b[38;5;241m*\u001b[39mkwargs)]\n\u001b[1;32m   1689\u001b[0m \u001b[38;5;28;01mfor\u001b[39;00m line \u001b[38;5;129;01min\u001b[39;00m lines:\n\u001b[1;32m   1690\u001b[0m     \u001b[38;5;28mself\u001b[39m\u001b[38;5;241m.\u001b[39madd_line(line)\n",
      "File \u001b[0;32m~/opt/anaconda3/envs/mlc/lib/python3.9/site-packages/matplotlib/axes/_base.py:311\u001b[0m, in \u001b[0;36m_process_plot_var_args.__call__\u001b[0;34m(self, data, *args, **kwargs)\u001b[0m\n\u001b[1;32m    309\u001b[0m     this \u001b[38;5;241m+\u001b[39m\u001b[38;5;241m=\u001b[39m args[\u001b[38;5;241m0\u001b[39m],\n\u001b[1;32m    310\u001b[0m     args \u001b[38;5;241m=\u001b[39m args[\u001b[38;5;241m1\u001b[39m:]\n\u001b[0;32m--> 311\u001b[0m \u001b[38;5;28;01myield from\u001b[39;00m \u001b[38;5;28;43mself\u001b[39;49m\u001b[38;5;241;43m.\u001b[39;49m\u001b[43m_plot_args\u001b[49m\u001b[43m(\u001b[49m\n\u001b[1;32m    312\u001b[0m \u001b[43m    \u001b[49m\u001b[43mthis\u001b[49m\u001b[43m,\u001b[49m\u001b[43m \u001b[49m\u001b[43mkwargs\u001b[49m\u001b[43m,\u001b[49m\u001b[43m \u001b[49m\u001b[43mambiguous_fmt_datakey\u001b[49m\u001b[38;5;241;43m=\u001b[39;49m\u001b[43mambiguous_fmt_datakey\u001b[49m\u001b[43m)\u001b[49m\n",
      "File \u001b[0;32m~/opt/anaconda3/envs/mlc/lib/python3.9/site-packages/matplotlib/axes/_base.py:504\u001b[0m, in \u001b[0;36m_process_plot_var_args._plot_args\u001b[0;34m(self, tup, kwargs, return_kwargs, ambiguous_fmt_datakey)\u001b[0m\n\u001b[1;32m    501\u001b[0m     \u001b[38;5;28mself\u001b[39m\u001b[38;5;241m.\u001b[39maxes\u001b[38;5;241m.\u001b[39myaxis\u001b[38;5;241m.\u001b[39mupdate_units(y)\n\u001b[1;32m    503\u001b[0m \u001b[38;5;28;01mif\u001b[39;00m x\u001b[38;5;241m.\u001b[39mshape[\u001b[38;5;241m0\u001b[39m] \u001b[38;5;241m!=\u001b[39m y\u001b[38;5;241m.\u001b[39mshape[\u001b[38;5;241m0\u001b[39m]:\n\u001b[0;32m--> 504\u001b[0m     \u001b[38;5;28;01mraise\u001b[39;00m \u001b[38;5;167;01mValueError\u001b[39;00m(\u001b[38;5;124mf\u001b[39m\u001b[38;5;124m\"\u001b[39m\u001b[38;5;124mx and y must have same first dimension, but \u001b[39m\u001b[38;5;124m\"\u001b[39m\n\u001b[1;32m    505\u001b[0m                      \u001b[38;5;124mf\u001b[39m\u001b[38;5;124m\"\u001b[39m\u001b[38;5;124mhave shapes \u001b[39m\u001b[38;5;132;01m{\u001b[39;00mx\u001b[38;5;241m.\u001b[39mshape\u001b[38;5;132;01m}\u001b[39;00m\u001b[38;5;124m and \u001b[39m\u001b[38;5;132;01m{\u001b[39;00my\u001b[38;5;241m.\u001b[39mshape\u001b[38;5;132;01m}\u001b[39;00m\u001b[38;5;124m\"\u001b[39m)\n\u001b[1;32m    506\u001b[0m \u001b[38;5;28;01mif\u001b[39;00m x\u001b[38;5;241m.\u001b[39mndim \u001b[38;5;241m>\u001b[39m \u001b[38;5;241m2\u001b[39m \u001b[38;5;129;01mor\u001b[39;00m y\u001b[38;5;241m.\u001b[39mndim \u001b[38;5;241m>\u001b[39m \u001b[38;5;241m2\u001b[39m:\n\u001b[1;32m    507\u001b[0m     \u001b[38;5;28;01mraise\u001b[39;00m \u001b[38;5;167;01mValueError\u001b[39;00m(\u001b[38;5;124mf\u001b[39m\u001b[38;5;124m\"\u001b[39m\u001b[38;5;124mx and y can be no greater than 2D, but have \u001b[39m\u001b[38;5;124m\"\u001b[39m\n\u001b[1;32m    508\u001b[0m                      \u001b[38;5;124mf\u001b[39m\u001b[38;5;124m\"\u001b[39m\u001b[38;5;124mshapes \u001b[39m\u001b[38;5;132;01m{\u001b[39;00mx\u001b[38;5;241m.\u001b[39mshape\u001b[38;5;132;01m}\u001b[39;00m\u001b[38;5;124m and \u001b[39m\u001b[38;5;132;01m{\u001b[39;00my\u001b[38;5;241m.\u001b[39mshape\u001b[38;5;132;01m}\u001b[39;00m\u001b[38;5;124m\"\u001b[39m)\n",
      "\u001b[0;31mValueError\u001b[0m: x and y must have same first dimension, but have shapes (101,) and (0,)"
     ]
    },
    {
     "data": {
      "image/png": "[encoded data removed]",
      "text/plain": [
       "<Figure size 640x480 with 1 Axes>"
      ]
     },
     "metadata": {},
     "output_type": "display_data"
    }
   ],
   "source": [
    "plt.plot(thresholds, f1_scores)\n",
    "\n",
    "plt.ylim(0.80, 0.98)\n",
    "plt.legend()\n"
   ]
  },
  {
   "cell_type": "code",
   "execution_count": 92,
   "id": "71981b7e-2280-429f-884e-d6b6ce4d69cf",
   "metadata": {},
   "outputs": [
    {
     "name": "stdout",
     "output_type": "stream",
     "text": [
      "threshold: 0.0 ----->  0.431\n",
      "threshold: 0.01 ----->  0.584\n",
      "threshold: 0.02 ----->  0.641\n",
      "threshold: 0.03 ----->  0.665\n",
      "threshold: 0.04 ----->  0.69\n",
      "threshold: 0.05 ----->  0.705\n",
      "threshold: 0.06 ----->  0.722\n",
      "threshold: 0.07 ----->  0.734\n",
      "threshold: 0.08 ----->  0.749\n",
      "threshold: 0.09 ----->  0.759\n",
      "threshold: 0.1 ----->  0.77\n",
      "threshold: 0.11 ----->  0.776\n",
      "threshold: 0.12 ----->  0.785\n",
      "threshold: 0.13 ----->  0.795\n",
      "threshold: 0.14 ----->  0.8\n",
      "threshold: 0.15 ----->  0.806\n",
      "threshold: 0.16 ----->  0.81\n",
      "threshold: 0.17 ----->  0.813\n",
      "threshold: 0.18 ----->  0.818\n",
      "threshold: 0.19 ----->  0.82\n",
      "threshold: 0.2 ----->  0.822\n",
      "threshold: 0.21 ----->  0.82\n",
      "threshold: 0.22 ----->  0.821\n",
      "threshold: 0.23 ----->  0.832\n",
      "threshold: 0.24 ----->  0.837\n",
      "threshold: 0.25 ----->  0.84\n",
      "threshold: 0.26 ----->  0.842\n",
      "threshold: 0.27 ----->  0.844\n",
      "threshold: 0.28 ----->  0.846\n",
      "threshold: 0.29 ----->  0.847\n",
      "threshold: 0.3 ----->  0.848\n",
      "threshold: 0.31 ----->  0.85\n",
      "threshold: 0.32 ----->  0.85\n",
      "threshold: 0.33 ----->  0.854\n",
      "threshold: 0.34 ----->  0.854\n",
      "threshold: 0.35 ----->  0.855\n",
      "threshold: 0.36 ----->  0.853\n",
      "threshold: 0.37 ----->  0.854\n",
      "threshold: 0.38 ----->  0.853\n",
      "threshold: 0.39 ----->  0.854\n",
      "threshold: 0.4 ----->  0.854\n",
      "threshold: 0.41 ----->  0.852\n",
      "threshold: 0.42 ----->  0.851\n",
      "threshold: 0.43 ----->  0.853\n",
      "threshold: 0.44 ----->  0.853\n",
      "threshold: 0.45 ----->  0.855\n",
      "threshold: 0.46 ----->  0.852\n",
      "threshold: 0.47 ----->  0.85\n",
      "threshold: 0.48 ----->  0.849\n",
      "threshold: 0.49 ----->  0.848\n",
      "threshold: 0.5 ----->  0.848\n",
      "threshold: 0.51 ----->  0.847\n",
      "threshold: 0.52 ----->  0.847\n",
      "threshold: 0.53 ----->  0.847\n",
      "threshold: 0.54 ----->  0.846\n",
      "threshold: 0.55 ----->  0.847\n",
      "threshold: 0.56 ----->  0.846\n",
      "threshold: 0.57 ----->  0.847\n",
      "threshold: 0.58 ----->  0.844\n",
      "threshold: 0.59 ----->  0.842\n",
      "threshold: 0.6 ----->  0.835\n",
      "threshold: 0.61 ----->  0.833\n",
      "threshold: 0.62 ----->  0.833\n",
      "threshold: 0.63 ----->  0.83\n",
      "threshold: 0.64 ----->  0.83\n",
      "threshold: 0.65 ----->  0.827\n",
      "threshold: 0.66 ----->  0.827\n",
      "threshold: 0.67 ----->  0.826\n",
      "threshold: 0.68 ----->  0.821\n",
      "threshold: 0.69 ----->  0.819\n",
      "threshold: 0.7 ----->  0.815\n",
      "threshold: 0.71 ----->  0.813\n",
      "threshold: 0.72 ----->  0.811\n",
      "threshold: 0.73 ----->  0.809\n",
      "threshold: 0.74 ----->  0.799\n",
      "threshold: 0.75 ----->  0.795\n",
      "threshold: 0.76 ----->  0.787\n",
      "threshold: 0.77 ----->  0.783\n",
      "threshold: 0.78 ----->  0.779\n",
      "threshold: 0.79 ----->  0.771\n",
      "threshold: 0.8 ----->  0.765\n",
      "threshold: 0.81 ----->  0.752\n",
      "threshold: 0.82 ----->  0.742\n",
      "threshold: 0.83 ----->  0.73\n",
      "threshold: 0.84 ----->  0.717\n",
      "threshold: 0.85 ----->  0.71\n",
      "threshold: 0.86 ----->  0.705\n",
      "threshold: 0.87 ----->  0.698\n",
      "threshold: 0.88 ----->  0.69\n",
      "threshold: 0.89 ----->  0.685\n",
      "threshold: 0.9 ----->  0.675\n",
      "threshold: 0.91 ----->  0.647\n",
      "threshold: 0.92 ----->  0.638\n",
      "threshold: 0.93 ----->  0.617\n",
      "threshold: 0.94 ----->  0.6\n",
      "threshold: 0.95 ----->  0.581\n",
      "threshold: 0.96 ----->  0.546\n",
      "threshold: 0.97 ----->  0.52\n",
      "threshold: 0.98 ----->  0.468\n",
      "threshold: 0.99 ----->  0.437\n",
      "threshold: 1.0 ----->  0.0\n"
     ]
    },
    {
     "name": "stderr",
     "output_type": "stream",
     "text": [
      "/Users/isaachurwitz/opt/anaconda3/envs/mlc/lib/python3.9/site-packages/sklearn/metrics/_classification.py:1469: UndefinedMetricWarning: Precision is ill-defined and being set to 0.0 due to no predicted samples. Use `zero_division` parameter to control this behavior.\n",
      "  _warn_prf(average, modifier, msg_start, len(result))\n"
     ]
    }
   ],
   "source": [
    "f1_scores = []\n",
    "\n",
    "for t in thresholds:\n",
    "    _, prec, rec, f1 = precision_recall_f1(df_train, df_val, y_train, y_val, threshold=t)\n",
    "    \n",
    "    print(f\"threshold: {round(t, 2)} ----->  {round(f1, 3)}\")"
   ]
  },
  {
   "cell_type": "code",
   "execution_count": 93,
   "id": "e318c1d0-0715-40ac-8da8-ece44e3dacac",
   "metadata": {},
   "outputs": [
    {
     "name": "stdout",
     "output_type": "stream",
     "text": [
      "threshold: 0.0 ----->  0.431\n",
      "threshold: 0.01 ----->  0.584\n",
      "threshold: 0.02 ----->  0.641\n",
      "threshold: 0.03 ----->  0.665\n",
      "threshold: 0.04 ----->  0.69\n",
      "threshold: 0.05 ----->  0.705\n",
      "threshold: 0.06 ----->  0.722\n",
      "threshold: 0.07 ----->  0.734\n",
      "threshold: 0.08 ----->  0.749\n",
      "threshold: 0.09 ----->  0.759\n",
      "threshold: 0.1 ----->  0.77\n",
      "threshold: 0.11 ----->  0.776\n",
      "threshold: 0.12 ----->  0.785\n",
      "threshold: 0.13 ----->  0.795\n",
      "threshold: 0.14 ----->  0.8\n",
      "threshold: 0.15 ----->  0.806\n",
      "threshold: 0.16 ----->  0.81\n",
      "threshold: 0.17 ----->  0.813\n",
      "threshold: 0.18 ----->  0.818\n",
      "threshold: 0.19 ----->  0.82\n",
      "threshold: 0.2 ----->  0.822\n",
      "threshold: 0.21 ----->  0.82\n",
      "threshold: 0.22 ----->  0.821\n",
      "threshold: 0.23 ----->  0.832\n",
      "threshold: 0.24 ----->  0.837\n",
      "threshold: 0.25 ----->  0.84\n",
      "threshold: 0.26 ----->  0.842\n",
      "threshold: 0.27 ----->  0.844\n",
      "threshold: 0.28 ----->  0.846\n",
      "threshold: 0.29 ----->  0.847\n",
      "threshold: 0.3 ----->  0.848\n",
      "threshold: 0.31 ----->  0.85\n",
      "threshold: 0.32 ----->  0.85\n",
      "threshold: 0.33 ----->  0.854\n",
      "threshold: 0.34 ----->  0.854\n",
      "threshold: 0.35 ----->  0.855\n",
      "threshold: 0.36 ----->  0.853\n",
      "threshold: 0.37 ----->  0.854\n",
      "threshold: 0.38 ----->  0.853\n",
      "threshold: 0.39 ----->  0.854\n",
      "threshold: 0.4 ----->  0.854\n",
      "threshold: 0.41 ----->  0.852\n",
      "threshold: 0.42 ----->  0.851\n",
      "threshold: 0.43 ----->  0.853\n",
      "threshold: 0.44 ----->  0.853\n",
      "threshold: 0.45 ----->  0.855\n",
      "threshold: 0.46 ----->  0.852\n",
      "threshold: 0.47 ----->  0.85\n",
      "threshold: 0.48 ----->  0.849\n",
      "threshold: 0.49 ----->  0.848\n",
      "threshold: 0.5 ----->  0.848\n",
      "threshold: 0.51 ----->  0.847\n",
      "threshold: 0.52 ----->  0.847\n",
      "threshold: 0.53 ----->  0.847\n",
      "threshold: 0.54 ----->  0.846\n",
      "threshold: 0.55 ----->  0.847\n",
      "threshold: 0.56 ----->  0.846\n",
      "threshold: 0.57 ----->  0.847\n",
      "threshold: 0.58 ----->  0.844\n",
      "threshold: 0.59 ----->  0.842\n",
      "threshold: 0.6 ----->  0.835\n",
      "threshold: 0.61 ----->  0.833\n",
      "threshold: 0.62 ----->  0.833\n",
      "threshold: 0.63 ----->  0.83\n",
      "threshold: 0.64 ----->  0.83\n",
      "threshold: 0.65 ----->  0.827\n",
      "threshold: 0.66 ----->  0.827\n",
      "threshold: 0.67 ----->  0.826\n",
      "threshold: 0.68 ----->  0.821\n",
      "threshold: 0.69 ----->  0.819\n",
      "threshold: 0.7 ----->  0.815\n",
      "threshold: 0.71 ----->  0.813\n",
      "threshold: 0.72 ----->  0.811\n",
      "threshold: 0.73 ----->  0.809\n",
      "threshold: 0.74 ----->  0.799\n",
      "threshold: 0.75 ----->  0.795\n",
      "threshold: 0.76 ----->  0.787\n",
      "threshold: 0.77 ----->  0.783\n",
      "threshold: 0.78 ----->  0.779\n",
      "threshold: 0.79 ----->  0.771\n",
      "threshold: 0.8 ----->  0.765\n",
      "threshold: 0.81 ----->  0.752\n",
      "threshold: 0.82 ----->  0.742\n",
      "threshold: 0.83 ----->  0.73\n",
      "threshold: 0.84 ----->  0.717\n",
      "threshold: 0.85 ----->  0.71\n",
      "threshold: 0.86 ----->  0.705\n",
      "threshold: 0.87 ----->  0.698\n",
      "threshold: 0.88 ----->  0.69\n",
      "threshold: 0.89 ----->  0.685\n",
      "threshold: 0.9 ----->  0.675\n",
      "threshold: 0.91 ----->  0.647\n",
      "threshold: 0.92 ----->  0.638\n",
      "threshold: 0.93 ----->  0.617\n",
      "threshold: 0.94 ----->  0.6\n",
      "threshold: 0.95 ----->  0.581\n",
      "threshold: 0.96 ----->  0.546\n",
      "threshold: 0.97 ----->  0.52\n",
      "threshold: 0.98 ----->  0.468\n",
      "threshold: 0.99 ----->  0.437\n",
      "threshold: 1.0 ----->  0.0\n"
     ]
    },
    {
     "name": "stderr",
     "output_type": "stream",
     "text": [
      "/Users/isaachurwitz/opt/anaconda3/envs/mlc/lib/python3.9/site-packages/sklearn/metrics/_classification.py:1469: UndefinedMetricWarning: Precision is ill-defined and being set to 0.0 due to no predicted samples. Use `zero_division` parameter to control this behavior.\n",
      "  _warn_prf(average, modifier, msg_start, len(result))\n"
     ]
    }
   ],
   "source": [
    "f1_scores = []\n",
    "\n",
    "for t in thresholds:\n",
    "    _, prec, rec, f1 = precision_recall_f1(df_train, df_val, y_train, y_val, threshold=t)\n",
    "    \n",
    "    print(f\"threshold: {round(t, 2)} ----->  {round(f1, 3)}\")"
   ]
  },
  {
   "cell_type": "code",
   "execution_count": 105,
   "id": "5cd6d7ca-554e-4b71-a4d3-41dd802c454f",
   "metadata": {},
   "outputs": [
    {
     "name": "stderr",
     "output_type": "stream",
     "text": [
      "/Users/isaachurwitz/opt/anaconda3/envs/mlc/lib/python3.9/site-packages/sklearn/metrics/_classification.py:1469: UndefinedMetricWarning: Precision is ill-defined and being set to 0.0 due to no predicted samples. Use `zero_division` parameter to control this behavior.\n",
      "  _warn_prf(average, modifier, msg_start, len(result))\n"
     ]
    },
    {
     "data": {
      "image/png": "[encoded data removed]",
      "text/plain": [
       "<Figure size 640x480 with 1 Axes>"
      ]
     },
     "metadata": {},
     "output_type": "display_data"
    },
    {
     "name": "stdout",
     "output_type": "stream",
     "text": [
      "The threshold with the highest F1 score is 0.35000000000000003 (F1 Score: 0.8552727272727273)\n"
     ]
    }
   ],
   "source": [
    "f1_scores = []\n",
    "\n",
    "for t in thresholds:\n",
    "    _, prec, rec, f1 = precision_recall_f1(df_train, df_val, y_train, y_val, threshold=t)\n",
    "    f1_scores.append((t, f1))\n",
    "\n",
    "\n",
    "# Extract thresholds and F1 scores\n",
    "thresholds, f1_values = zip(*f1_scores)\n",
    "\n",
    "# Create a plot for F1 scores\n",
    "plt.plot(thresholds, f1_values, marker='o', linestyle='-')\n",
    "\n",
    "# Label the x and y axes\n",
    "plt.xlabel('Thresholds')\n",
    "plt.ylabel('F1 Score')\n",
    "\n",
    "# Find the threshold with the highest F1 score\n",
    "best_threshold, best_f1 = max(f1_scores, key=lambda x: x[1])\n",
    "\n",
    "# Mark the point with the highest F1 score\n",
    "plt.scatter(best_threshold, best_f1, color='red', marker='o', label='Best F1')\n",
    "\n",
    "# Annotate the highest F1 score\n",
    "plt.annotate(f'Best F1\\nThreshold: {best_threshold}\\nF1 Score: {best_f1}', xy=(best_threshold, best_f1), xytext=(20, -20),\n",
    "             textcoords='offset points', arrowprops=dict(arrowstyle='->', color='black'))\n",
    "\n",
    "# Show the plot\n",
    "plt.grid(True)\n",
    "plt.legend()\n",
    "plt.title('F1 Scores at Different Thresholds')\n",
    "plt.show()\n",
    "\n",
    "# Print the threshold with the highest F1 score\n",
    "print(f\"The threshold with the highest F1 score is {best_threshold} (F1 Score: {best_f1})\")"
   ]
  },
  {
   "cell_type": "markdown",
   "id": "f8ef2ea0-9e71-47c6-8a0a-5f6ead8c4402",
   "metadata": {},
   "source": [
    "### Question 5: 5-Fold CV\n",
    "\n",
    "\n",
    "Use the `KFold` class from Scikit-Learn to evaluate our model on 5 different folds:\n",
    "\n",
    "```\n",
    "KFold(n_splits=5, shuffle=True, random_state=1)\n",
    "```\n",
    "\n",
    "* Iterate over different folds of `df_full_train`\n",
    "* Split the data into train and validation\n",
    "* Train the model on train with these parameters: `LogisticRegression(solver='liblinear', C=1.0, max_iter=1000)`\n",
    "* Use AUC to evaluate the model on validation\n",
    "\n",
    "How large is standard devidation of the scores across different folds?\n",
    "\n",
    "- 0.003\n",
    "- 0.030\n",
    "- 0.090\n",
    "- 0.140"
   ]
  },
  {
   "cell_type": "code",
   "execution_count": 117,
   "id": "5ead5c8c-a166-42d5-a8a2-194c0cea4380",
   "metadata": {},
   "outputs": [],
   "source": [
    "def log_reg(df_train, df_val, y_train, y_val):\n",
    "    df_train = df_train.copy()\n",
    "    df_val = df_val.copy()\n",
    "\n",
    "    dv = DictVectorizer(sparse=False)\n",
    "\n",
    "    dicts_train = df_train.to_dict(orient=\"records\")\n",
    "    dicts_val = df_val.to_dict(orient=\"records\")\n",
    "    \n",
    "    X_train= dv.fit_transform(dicts_train)\n",
    "    X_val = dv.transform(dicts_val)\n",
    "\n",
    "    model = LogisticRegression(solver='liblinear', C=1.0, max_iter=1000)\n",
    "\n",
    "    model.fit(X_train, y_train)\n",
    "    y_pred = model.predict_proba(X_val)[:, 1]\n",
    "    roc = roc_auc_score(y_val, y_pred)\n",
    "    \n",
    "    return round(roc, 3)"
   ]
  },
  {
   "cell_type": "code",
   "execution_count": null,
   "id": "11fc2e69-093a-4ad0-89a3-4806908798e8",
   "metadata": {},
   "outputs": [],
   "source": [
    "* Iterate over different folds of `df_full_train`\n",
    "* Split the data into train and validation\n",
    "* Train the model on train with these parameters: `LogisticRegression(solver='liblinear', C=1.0, max_iter=1000)`\n",
    "* Use AUC to evaluate the model on validation\n",
    "\n",
    "How large is standard devidation of the scores across different folds?"
   ]
  },
  {
   "cell_type": "code",
   "execution_count": 129,
   "id": "0eb56022-cf23-4f48-8857-6961c351e0d7",
   "metadata": {},
   "outputs": [],
   "source": [
    "def split_data(df):\n",
    "    df = df.copy()\n",
    "    y_full = df['above_average'].values\n",
    "    del df['above_average']\n",
    "    \n",
    "    df_train_full, df_test, y_train_full, y_test = train_test_split(df, y_full, test_size=0.2, random_state=1)\n",
    "    df_train, df_val, y_train, y_val = train_test_split(df_train_full, y_train_full, test_size=0.25, random_state=1)\n",
    "\n",
    "    return df_train_full, df_train, df_val, df_test, y_train_full, y_train, y_val, y_test"
   ]
  },
  {
   "cell_type": "code",
   "execution_count": 130,
   "id": "4a8be379-72be-487d-98b6-4284ad23ddc8",
   "metadata": {},
   "outputs": [],
   "source": [
    "df_train_full, df_train, df_val, df_test, y_train_full, y_train, y_val, y_test = split_data(df)"
   ]
  },
  {
   "cell_type": "code",
   "execution_count": 131,
   "id": "a232158d-eb9b-4d4a-8d84-aaca686ebabe",
   "metadata": {},
   "outputs": [
    {
     "data": {
      "text/plain": [
       "(9531, 9531)"
      ]
     },
     "execution_count": 131,
     "metadata": {},
     "output_type": "execute_result"
    }
   ],
   "source": [
    "len(df_train_full), len(y_train_full)"
   ]
  },
  {
   "cell_type": "code",
   "execution_count": 134,
   "id": "73d0c4e6-bce7-45ef-95e3-c95e4c658b46",
   "metadata": {},
   "outputs": [],
   "source": [
    "kf = KFold(n_splits=5, shuffle=True, random_state=1)"
   ]
  },
  {
   "cell_type": "code",
   "execution_count": 136,
   "id": "51e9aa50-4dbd-4bfd-994b-be1d5138e1f5",
   "metadata": {},
   "outputs": [
    {
     "name": "stdout",
     "output_type": "stream",
     "text": [
      "std:  0.004\n"
     ]
    }
   ],
   "source": [
    "scores = []\n",
    "\n",
    "for train_idx, val_idx in kf.split(df_train_full):\n",
    "        df_train = df_train_full.iloc[train_idx]\n",
    "        df_val = df_train_full.iloc[val_idx]\n",
    "\n",
    "        y_train = y_train_full[train_idx]\n",
    "        y_val = y_train_full[val_idx]\n",
    "\n",
    "        # dv, model = train(df_train, y_train, C=C)\n",
    "        # y_pred = predict(df_val, dv, model)\n",
    "    \n",
    "\n",
    "        auc = log_reg(df_train, df_val, y_train, y_val)\n",
    "        scores.append(auc)\n",
    "\n",
    "\n",
    "print(f\"std:  {round(np.std(scores), 3)}\")"
   ]
  },
  {
   "cell_type": "markdown",
   "id": "d0983a05-28dd-4a35-bd7e-5b479600d9d5",
   "metadata": {},
   "source": [
    "answer: closest is 0.003"
   ]
  },
  {
   "cell_type": "markdown",
   "id": "acbf363f-3905-4d6a-a69e-c5f57227141c",
   "metadata": {},
   "source": [
    "\n",
    "### Question 6: Hyperparemeter Tuning\n",
    "\n",
    "Now let's use 5-Fold cross-validation to find the best parameter `C`\n",
    "\n",
    "* Iterate over the following `C` values: `[0.01, 0.1, 0.5, 10]`\n",
    "* Initialize `KFold` with the same parameters as previously\n",
    "* Use these parametes for the model: `LogisticRegression(solver='liblinear', C=C, max_iter=1000)`\n",
    "* Compute the mean score as well as the std (round the mean and std to 3 decimal digits)\n",
    "\n",
    "Which `C` leads to the best mean score?\n",
    "\n",
    "- 0.01\n",
    "- 0.1\n",
    "- 0.5\n",
    "- 10"
   ]
  },
  {
   "cell_type": "code",
   "execution_count": 138,
   "id": "134db2d1-b8da-4ef1-bd20-71827821ce85",
   "metadata": {},
   "outputs": [],
   "source": [
    "def log_reg_tune_C(df_train, df_val, y_train, y_val, C=1.0):\n",
    "    df_train = df_train.copy()\n",
    "    df_val = df_val.copy()\n",
    "\n",
    "    dv = DictVectorizer(sparse=False)\n",
    "\n",
    "    dicts_train = df_train.to_dict(orient=\"records\")\n",
    "    dicts_val = df_val.to_dict(orient=\"records\")\n",
    "    \n",
    "    X_train= dv.fit_transform(dicts_train)\n",
    "    X_val = dv.transform(dicts_val)\n",
    "\n",
    "    model = LogisticRegression(solver='liblinear', C=C, max_iter=1000)\n",
    "\n",
    "    model.fit(X_train, y_train)\n",
    "    y_pred = model.predict_proba(X_val)[:, 1]\n",
    "    roc = roc_auc_score(y_val, y_pred)\n",
    "    \n",
    "    return round(roc, 3)"
   ]
  },
  {
   "cell_type": "code",
   "execution_count": 140,
   "id": "3ad08544-0f5a-4524-8486-0b4dfea1ea9b",
   "metadata": {},
   "outputs": [
    {
     "name": "stdout",
     "output_type": "stream",
     "text": [
      "C:0.01 ---- mean_auc: 0.9508 ----- std: 0.003\n",
      "\n",
      "C:0.1 ---- mean_auc: 0.9708 ----- std: 0.002\n",
      "\n",
      "C:0.5 ---- mean_auc: 0.979 ----- std: 0.004\n",
      "\n",
      "C:10 ---- mean_auc: 0.9792 ----- std: 0.004\n",
      "\n"
     ]
    }
   ],
   "source": [
    "for C in [0.01, 0.1, 0.5, 10]:\n",
    "\n",
    "    kf = KFold(n_splits=5, shuffle=True, random_state=1)\n",
    "    scores = []\n",
    "\n",
    "    for train_idx, val_idx in kf.split(df_train_full):\n",
    "        df_train = df_train_full.iloc[train_idx]\n",
    "        df_val = df_train_full.iloc[val_idx]\n",
    "\n",
    "        y_train = y_train_full[train_idx]\n",
    "        y_val = y_train_full[val_idx]\n",
    "\n",
    "        # dv, model = train(df_train, y_train, C=C)\n",
    "        # y_pred = predict(df_val, dv, model)\n",
    "    \n",
    "\n",
    "        auc = log_reg_tune_C(df_train, df_val, y_train, y_val, C=C)\n",
    "        scores.append(auc)\n",
    "\n",
    "    mean_auc = round(np.mean(scores), 5)\n",
    "    auc_std = round(np.std(scores),3)\n",
    "    print(F\"C:{C} ---- mean_auc: {mean_auc} ----- std: {auc_std}\")\n",
    "    print()\n",
    "\n",
    "\n",
    "\n",
    "    "
   ]
  },
  {
   "cell_type": "markdown",
   "id": "0fa98a9c-e954-4c58-8db3-80c49c520a4b",
   "metadata": {},
   "source": [
    "If you have ties, select the score with the lowest std. If you still have ties, select the smallest `C`"
   ]
  },
  {
   "cell_type": "markdown",
   "id": "c42eaf05-a360-4e09-b77c-dffe0a63538c",
   "metadata": {},
   "source": [
    "given the above criteria I guess 0.5 is the winner since it has the same mean auc as c of 10 with same std but it is lower"
   ]
  },
  {
   "cell_type": "code",
   "execution_count": null,
   "id": "0fd1655d-c9ef-4ea5-8b2e-abeb3d78e0af",
   "metadata": {},
   "outputs": [],
   "source": []
  }
 ],
 "metadata": {
  "kernelspec": {
   "display_name": "Python 3 (ipykernel)",
   "language": "python",
   "name": "python3"
  },
  "language_info": {
   "codemirror_mode": {
    "name": "ipython",
    "version": 3
   },
   "file_extension": ".py",
   "mimetype": "text/x-python",
   "name": "python",
   "nbconvert_exporter": "python",
   "pygments_lexer": "ipython3",
   "version": "3.9.17"
  }
 },
 "nbformat": 4,
 "nbformat_minor": 5
}
